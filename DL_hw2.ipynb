{
  "nbformat": 4,
  "nbformat_minor": 0,
  "metadata": {
    "colab": {
      "provenance": [],
      "gpuType": "T4"
    },
    "kernelspec": {
      "name": "python3",
      "display_name": "Python 3"
    },
    "language_info": {
      "name": "python"
    },
    "accelerator": "GPU"
  },
  "cells": [
    {
      "cell_type": "code",
      "source": [
        "!pip install ultralytics"
      ],
      "metadata": {
        "colab": {
          "base_uri": "https://localhost:8080/"
        },
        "id": "O4J2STrMqKlx",
        "outputId": "6151f3af-a97b-41c1-9a07-bf7d27149699"
      },
      "execution_count": null,
      "outputs": [
        {
          "output_type": "stream",
          "name": "stdout",
          "text": [
            "Collecting ultralytics\n",
            "  Downloading ultralytics-8.3.151-py3-none-any.whl.metadata (37 kB)\n",
            "Requirement already satisfied: numpy>=1.23.0 in /usr/local/lib/python3.11/dist-packages (from ultralytics) (2.0.2)\n",
            "Requirement already satisfied: matplotlib>=3.3.0 in /usr/local/lib/python3.11/dist-packages (from ultralytics) (3.10.0)\n",
            "Requirement already satisfied: opencv-python>=4.6.0 in /usr/local/lib/python3.11/dist-packages (from ultralytics) (4.11.0.86)\n",
            "Requirement already satisfied: pillow>=7.1.2 in /usr/local/lib/python3.11/dist-packages (from ultralytics) (11.2.1)\n",
            "Requirement already satisfied: pyyaml>=5.3.1 in /usr/local/lib/python3.11/dist-packages (from ultralytics) (6.0.2)\n",
            "Requirement already satisfied: requests>=2.23.0 in /usr/local/lib/python3.11/dist-packages (from ultralytics) (2.32.3)\n",
            "Requirement already satisfied: scipy>=1.4.1 in /usr/local/lib/python3.11/dist-packages (from ultralytics) (1.15.3)\n",
            "Requirement already satisfied: torch>=1.8.0 in /usr/local/lib/python3.11/dist-packages (from ultralytics) (2.6.0+cu124)\n",
            "Requirement already satisfied: torchvision>=0.9.0 in /usr/local/lib/python3.11/dist-packages (from ultralytics) (0.21.0+cu124)\n",
            "Requirement already satisfied: tqdm>=4.64.0 in /usr/local/lib/python3.11/dist-packages (from ultralytics) (4.67.1)\n",
            "Requirement already satisfied: psutil in /usr/local/lib/python3.11/dist-packages (from ultralytics) (5.9.5)\n",
            "Requirement already satisfied: py-cpuinfo in /usr/local/lib/python3.11/dist-packages (from ultralytics) (9.0.0)\n",
            "Requirement already satisfied: pandas>=1.1.4 in /usr/local/lib/python3.11/dist-packages (from ultralytics) (2.2.2)\n",
            "Collecting ultralytics-thop>=2.0.0 (from ultralytics)\n",
            "  Downloading ultralytics_thop-2.0.14-py3-none-any.whl.metadata (9.4 kB)\n",
            "Requirement already satisfied: contourpy>=1.0.1 in /usr/local/lib/python3.11/dist-packages (from matplotlib>=3.3.0->ultralytics) (1.3.2)\n",
            "Requirement already satisfied: cycler>=0.10 in /usr/local/lib/python3.11/dist-packages (from matplotlib>=3.3.0->ultralytics) (0.12.1)\n",
            "Requirement already satisfied: fonttools>=4.22.0 in /usr/local/lib/python3.11/dist-packages (from matplotlib>=3.3.0->ultralytics) (4.58.1)\n",
            "Requirement already satisfied: kiwisolver>=1.3.1 in /usr/local/lib/python3.11/dist-packages (from matplotlib>=3.3.0->ultralytics) (1.4.8)\n",
            "Requirement already satisfied: packaging>=20.0 in /usr/local/lib/python3.11/dist-packages (from matplotlib>=3.3.0->ultralytics) (24.2)\n",
            "Requirement already satisfied: pyparsing>=2.3.1 in /usr/local/lib/python3.11/dist-packages (from matplotlib>=3.3.0->ultralytics) (3.2.3)\n",
            "Requirement already satisfied: python-dateutil>=2.7 in /usr/local/lib/python3.11/dist-packages (from matplotlib>=3.3.0->ultralytics) (2.9.0.post0)\n",
            "Requirement already satisfied: pytz>=2020.1 in /usr/local/lib/python3.11/dist-packages (from pandas>=1.1.4->ultralytics) (2025.2)\n",
            "Requirement already satisfied: tzdata>=2022.7 in /usr/local/lib/python3.11/dist-packages (from pandas>=1.1.4->ultralytics) (2025.2)\n",
            "Requirement already satisfied: charset-normalizer<4,>=2 in /usr/local/lib/python3.11/dist-packages (from requests>=2.23.0->ultralytics) (3.4.2)\n",
            "Requirement already satisfied: idna<4,>=2.5 in /usr/local/lib/python3.11/dist-packages (from requests>=2.23.0->ultralytics) (3.10)\n",
            "Requirement already satisfied: urllib3<3,>=1.21.1 in /usr/local/lib/python3.11/dist-packages (from requests>=2.23.0->ultralytics) (2.4.0)\n",
            "Requirement already satisfied: certifi>=2017.4.17 in /usr/local/lib/python3.11/dist-packages (from requests>=2.23.0->ultralytics) (2025.4.26)\n",
            "Requirement already satisfied: filelock in /usr/local/lib/python3.11/dist-packages (from torch>=1.8.0->ultralytics) (3.18.0)\n",
            "Requirement already satisfied: typing-extensions>=4.10.0 in /usr/local/lib/python3.11/dist-packages (from torch>=1.8.0->ultralytics) (4.13.2)\n",
            "Requirement already satisfied: networkx in /usr/local/lib/python3.11/dist-packages (from torch>=1.8.0->ultralytics) (3.5)\n",
            "Requirement already satisfied: jinja2 in /usr/local/lib/python3.11/dist-packages (from torch>=1.8.0->ultralytics) (3.1.6)\n",
            "Requirement already satisfied: fsspec in /usr/local/lib/python3.11/dist-packages (from torch>=1.8.0->ultralytics) (2025.3.2)\n",
            "Collecting nvidia-cuda-nvrtc-cu12==12.4.127 (from torch>=1.8.0->ultralytics)\n",
            "  Downloading nvidia_cuda_nvrtc_cu12-12.4.127-py3-none-manylinux2014_x86_64.whl.metadata (1.5 kB)\n",
            "Collecting nvidia-cuda-runtime-cu12==12.4.127 (from torch>=1.8.0->ultralytics)\n",
            "  Downloading nvidia_cuda_runtime_cu12-12.4.127-py3-none-manylinux2014_x86_64.whl.metadata (1.5 kB)\n",
            "Collecting nvidia-cuda-cupti-cu12==12.4.127 (from torch>=1.8.0->ultralytics)\n",
            "  Downloading nvidia_cuda_cupti_cu12-12.4.127-py3-none-manylinux2014_x86_64.whl.metadata (1.6 kB)\n",
            "Collecting nvidia-cudnn-cu12==9.1.0.70 (from torch>=1.8.0->ultralytics)\n",
            "  Downloading nvidia_cudnn_cu12-9.1.0.70-py3-none-manylinux2014_x86_64.whl.metadata (1.6 kB)\n",
            "Collecting nvidia-cublas-cu12==12.4.5.8 (from torch>=1.8.0->ultralytics)\n",
            "  Downloading nvidia_cublas_cu12-12.4.5.8-py3-none-manylinux2014_x86_64.whl.metadata (1.5 kB)\n",
            "Collecting nvidia-cufft-cu12==11.2.1.3 (from torch>=1.8.0->ultralytics)\n",
            "  Downloading nvidia_cufft_cu12-11.2.1.3-py3-none-manylinux2014_x86_64.whl.metadata (1.5 kB)\n",
            "Collecting nvidia-curand-cu12==10.3.5.147 (from torch>=1.8.0->ultralytics)\n",
            "  Downloading nvidia_curand_cu12-10.3.5.147-py3-none-manylinux2014_x86_64.whl.metadata (1.5 kB)\n",
            "Collecting nvidia-cusolver-cu12==11.6.1.9 (from torch>=1.8.0->ultralytics)\n",
            "  Downloading nvidia_cusolver_cu12-11.6.1.9-py3-none-manylinux2014_x86_64.whl.metadata (1.6 kB)\n",
            "Collecting nvidia-cusparse-cu12==12.3.1.170 (from torch>=1.8.0->ultralytics)\n",
            "  Downloading nvidia_cusparse_cu12-12.3.1.170-py3-none-manylinux2014_x86_64.whl.metadata (1.6 kB)\n",
            "Requirement already satisfied: nvidia-cusparselt-cu12==0.6.2 in /usr/local/lib/python3.11/dist-packages (from torch>=1.8.0->ultralytics) (0.6.2)\n",
            "Requirement already satisfied: nvidia-nccl-cu12==2.21.5 in /usr/local/lib/python3.11/dist-packages (from torch>=1.8.0->ultralytics) (2.21.5)\n",
            "Requirement already satisfied: nvidia-nvtx-cu12==12.4.127 in /usr/local/lib/python3.11/dist-packages (from torch>=1.8.0->ultralytics) (12.4.127)\n",
            "Collecting nvidia-nvjitlink-cu12==12.4.127 (from torch>=1.8.0->ultralytics)\n",
            "  Downloading nvidia_nvjitlink_cu12-12.4.127-py3-none-manylinux2014_x86_64.whl.metadata (1.5 kB)\n",
            "Requirement already satisfied: triton==3.2.0 in /usr/local/lib/python3.11/dist-packages (from torch>=1.8.0->ultralytics) (3.2.0)\n",
            "Requirement already satisfied: sympy==1.13.1 in /usr/local/lib/python3.11/dist-packages (from torch>=1.8.0->ultralytics) (1.13.1)\n",
            "Requirement already satisfied: mpmath<1.4,>=1.1.0 in /usr/local/lib/python3.11/dist-packages (from sympy==1.13.1->torch>=1.8.0->ultralytics) (1.3.0)\n",
            "Requirement already satisfied: six>=1.5 in /usr/local/lib/python3.11/dist-packages (from python-dateutil>=2.7->matplotlib>=3.3.0->ultralytics) (1.17.0)\n",
            "Requirement already satisfied: MarkupSafe>=2.0 in /usr/local/lib/python3.11/dist-packages (from jinja2->torch>=1.8.0->ultralytics) (3.0.2)\n",
            "Downloading ultralytics-8.3.151-py3-none-any.whl (1.0 MB)\n",
            "\u001b[2K   \u001b[90m━━━━━━━━━━━━━━━━━━━━━━━━━━━━━━━━━━━━━━━━\u001b[0m \u001b[32m1.0/1.0 MB\u001b[0m \u001b[31m71.0 MB/s\u001b[0m eta \u001b[36m0:00:00\u001b[0m\n",
            "\u001b[?25hDownloading nvidia_cublas_cu12-12.4.5.8-py3-none-manylinux2014_x86_64.whl (363.4 MB)\n",
            "\u001b[2K   \u001b[90m━━━━━━━━━━━━━━━━━━━━━━━━━━━━━━━━━━━━━━━━\u001b[0m \u001b[32m363.4/363.4 MB\u001b[0m \u001b[31m2.8 MB/s\u001b[0m eta \u001b[36m0:00:00\u001b[0m\n",
            "\u001b[?25hDownloading nvidia_cuda_cupti_cu12-12.4.127-py3-none-manylinux2014_x86_64.whl (13.8 MB)\n",
            "\u001b[2K   \u001b[90m━━━━━━━━━━━━━━━━━━━━━━━━━━━━━━━━━━━━━━━━\u001b[0m \u001b[32m13.8/13.8 MB\u001b[0m \u001b[31m110.4 MB/s\u001b[0m eta \u001b[36m0:00:00\u001b[0m\n",
            "\u001b[?25hDownloading nvidia_cuda_nvrtc_cu12-12.4.127-py3-none-manylinux2014_x86_64.whl (24.6 MB)\n",
            "\u001b[2K   \u001b[90m━━━━━━━━━━━━━━━━━━━━━━━━━━━━━━━━━━━━━━━━\u001b[0m \u001b[32m24.6/24.6 MB\u001b[0m \u001b[31m78.1 MB/s\u001b[0m eta \u001b[36m0:00:00\u001b[0m\n",
            "\u001b[?25hDownloading nvidia_cuda_runtime_cu12-12.4.127-py3-none-manylinux2014_x86_64.whl (883 kB)\n",
            "\u001b[2K   \u001b[90m━━━━━━━━━━━━━━━━━━━━━━━━━━━━━━━━━━━━━━━━\u001b[0m \u001b[32m883.7/883.7 kB\u001b[0m \u001b[31m20.9 MB/s\u001b[0m eta \u001b[36m0:00:00\u001b[0m\n",
            "\u001b[?25hDownloading nvidia_cudnn_cu12-9.1.0.70-py3-none-manylinux2014_x86_64.whl (664.8 MB)\n",
            "\u001b[2K   \u001b[90m━━━━━━━━━━━━━━━━━━━━━━━━━━━━━━━━━━━━━━━━\u001b[0m \u001b[32m664.8/664.8 MB\u001b[0m \u001b[31m1.3 MB/s\u001b[0m eta \u001b[36m0:00:00\u001b[0m\n",
            "\u001b[?25hDownloading nvidia_cufft_cu12-11.2.1.3-py3-none-manylinux2014_x86_64.whl (211.5 MB)\n",
            "\u001b[2K   \u001b[90m━━━━━━━━━━━━━━━━━━━━━━━━━━━━━━━━━━━━━━━━\u001b[0m \u001b[32m211.5/211.5 MB\u001b[0m \u001b[31m5.3 MB/s\u001b[0m eta \u001b[36m0:00:00\u001b[0m\n",
            "\u001b[?25hDownloading nvidia_curand_cu12-10.3.5.147-py3-none-manylinux2014_x86_64.whl (56.3 MB)\n",
            "\u001b[2K   \u001b[90m━━━━━━━━━━━━━━━━━━━━━━━━━━━━━━━━━━━━━━━━\u001b[0m \u001b[32m56.3/56.3 MB\u001b[0m \u001b[31m13.3 MB/s\u001b[0m eta \u001b[36m0:00:00\u001b[0m\n",
            "\u001b[?25hDownloading nvidia_cusolver_cu12-11.6.1.9-py3-none-manylinux2014_x86_64.whl (127.9 MB)\n",
            "\u001b[2K   \u001b[90m━━━━━━━━━━━━━━━━━━━━━━━━━━━━━━━━━━━━━━━━\u001b[0m \u001b[32m127.9/127.9 MB\u001b[0m \u001b[31m7.5 MB/s\u001b[0m eta \u001b[36m0:00:00\u001b[0m\n",
            "\u001b[?25hDownloading nvidia_cusparse_cu12-12.3.1.170-py3-none-manylinux2014_x86_64.whl (207.5 MB)\n",
            "\u001b[2K   \u001b[90m━━━━━━━━━━━━━━━━━━━━━━━━━━━━━━━━━━━━━━━━\u001b[0m \u001b[32m207.5/207.5 MB\u001b[0m \u001b[31m5.6 MB/s\u001b[0m eta \u001b[36m0:00:00\u001b[0m\n",
            "\u001b[?25hDownloading nvidia_nvjitlink_cu12-12.4.127-py3-none-manylinux2014_x86_64.whl (21.1 MB)\n",
            "\u001b[2K   \u001b[90m━━━━━━━━━━━━━━━━━━━━━━━━━━━━━━━━━━━━━━━━\u001b[0m \u001b[32m21.1/21.1 MB\u001b[0m \u001b[31m78.8 MB/s\u001b[0m eta \u001b[36m0:00:00\u001b[0m\n",
            "\u001b[?25hDownloading ultralytics_thop-2.0.14-py3-none-any.whl (26 kB)\n",
            "Installing collected packages: nvidia-nvjitlink-cu12, nvidia-curand-cu12, nvidia-cufft-cu12, nvidia-cuda-runtime-cu12, nvidia-cuda-nvrtc-cu12, nvidia-cuda-cupti-cu12, nvidia-cublas-cu12, nvidia-cusparse-cu12, nvidia-cudnn-cu12, nvidia-cusolver-cu12, ultralytics-thop, ultralytics\n",
            "  Attempting uninstall: nvidia-nvjitlink-cu12\n",
            "    Found existing installation: nvidia-nvjitlink-cu12 12.5.82\n",
            "    Uninstalling nvidia-nvjitlink-cu12-12.5.82:\n",
            "      Successfully uninstalled nvidia-nvjitlink-cu12-12.5.82\n",
            "  Attempting uninstall: nvidia-curand-cu12\n",
            "    Found existing installation: nvidia-curand-cu12 10.3.6.82\n",
            "    Uninstalling nvidia-curand-cu12-10.3.6.82:\n",
            "      Successfully uninstalled nvidia-curand-cu12-10.3.6.82\n",
            "  Attempting uninstall: nvidia-cufft-cu12\n",
            "    Found existing installation: nvidia-cufft-cu12 11.2.3.61\n",
            "    Uninstalling nvidia-cufft-cu12-11.2.3.61:\n",
            "      Successfully uninstalled nvidia-cufft-cu12-11.2.3.61\n",
            "  Attempting uninstall: nvidia-cuda-runtime-cu12\n",
            "    Found existing installation: nvidia-cuda-runtime-cu12 12.5.82\n",
            "    Uninstalling nvidia-cuda-runtime-cu12-12.5.82:\n",
            "      Successfully uninstalled nvidia-cuda-runtime-cu12-12.5.82\n",
            "  Attempting uninstall: nvidia-cuda-nvrtc-cu12\n",
            "    Found existing installation: nvidia-cuda-nvrtc-cu12 12.5.82\n",
            "    Uninstalling nvidia-cuda-nvrtc-cu12-12.5.82:\n",
            "      Successfully uninstalled nvidia-cuda-nvrtc-cu12-12.5.82\n",
            "  Attempting uninstall: nvidia-cuda-cupti-cu12\n",
            "    Found existing installation: nvidia-cuda-cupti-cu12 12.5.82\n",
            "    Uninstalling nvidia-cuda-cupti-cu12-12.5.82:\n",
            "      Successfully uninstalled nvidia-cuda-cupti-cu12-12.5.82\n",
            "  Attempting uninstall: nvidia-cublas-cu12\n",
            "    Found existing installation: nvidia-cublas-cu12 12.5.3.2\n",
            "    Uninstalling nvidia-cublas-cu12-12.5.3.2:\n",
            "      Successfully uninstalled nvidia-cublas-cu12-12.5.3.2\n",
            "  Attempting uninstall: nvidia-cusparse-cu12\n",
            "    Found existing installation: nvidia-cusparse-cu12 12.5.1.3\n",
            "    Uninstalling nvidia-cusparse-cu12-12.5.1.3:\n",
            "      Successfully uninstalled nvidia-cusparse-cu12-12.5.1.3\n",
            "  Attempting uninstall: nvidia-cudnn-cu12\n",
            "    Found existing installation: nvidia-cudnn-cu12 9.3.0.75\n",
            "    Uninstalling nvidia-cudnn-cu12-9.3.0.75:\n",
            "      Successfully uninstalled nvidia-cudnn-cu12-9.3.0.75\n",
            "  Attempting uninstall: nvidia-cusolver-cu12\n",
            "    Found existing installation: nvidia-cusolver-cu12 11.6.3.83\n",
            "    Uninstalling nvidia-cusolver-cu12-11.6.3.83:\n",
            "      Successfully uninstalled nvidia-cusolver-cu12-11.6.3.83\n",
            "Successfully installed nvidia-cublas-cu12-12.4.5.8 nvidia-cuda-cupti-cu12-12.4.127 nvidia-cuda-nvrtc-cu12-12.4.127 nvidia-cuda-runtime-cu12-12.4.127 nvidia-cudnn-cu12-9.1.0.70 nvidia-cufft-cu12-11.2.1.3 nvidia-curand-cu12-10.3.5.147 nvidia-cusolver-cu12-11.6.1.9 nvidia-cusparse-cu12-12.3.1.170 nvidia-nvjitlink-cu12-12.4.127 ultralytics-8.3.151 ultralytics-thop-2.0.14\n"
          ]
        }
      ]
    },
    {
      "cell_type": "markdown",
      "source": [
        "# 下載套件"
      ],
      "metadata": {
        "id": "hZzSPp8F09gA"
      }
    },
    {
      "cell_type": "code",
      "source": [
        "import torch\n",
        "import torch.nn as nn\n",
        "import torch.nn.functional as F\n",
        "from ultralytics import YOLO\n",
        "from torch.utils.data import Dataset, DataLoader\n",
        "from torchvision.ops import nms\n",
        "import torch.optim as optim\n",
        "from tqdm import tqdm\n",
        "from PIL import Image\n",
        "import numpy as np\n",
        "import os\n",
        "from pycocotools.coco import COCO\n",
        "import torchvision.transforms as transforms\n",
        "from torch.nn.utils.rnn import pad_sequence\n",
        "from pycocotools.cocoeval import COCOeval\n",
        "import json\n",
        "import tempfile\n",
        "from torch.optim.lr_scheduler import MultiStepLR\n",
        "from torch.optim import Adam\n",
        "import random\n",
        "import time\n",
        "from google.colab import drive\n",
        "drive.mount('/content/drive')\n",
        "device = torch.device('cuda' if torch.cuda.is_available() else 'cpu')"
      ],
      "metadata": {
        "colab": {
          "base_uri": "https://localhost:8080/"
        },
        "id": "XLhQXOCi0852",
        "outputId": "ea81b15d-b2a6-47a5-9d99-15a85402b2c5"
      },
      "execution_count": null,
      "outputs": [
        {
          "output_type": "stream",
          "name": "stdout",
          "text": [
            "Creating new Ultralytics Settings v0.0.6 file ✅ \n",
            "View Ultralytics Settings with 'yolo settings' or at '/root/.config/Ultralytics/settings.json'\n",
            "Update Settings with 'yolo settings key=value', i.e. 'yolo settings runs_dir=path/to/dir'. For help see https://docs.ultralytics.com/quickstart/#ultralytics-settings.\n",
            "Mounted at /content/drive\n"
          ]
        }
      ]
    },
    {
      "cell_type": "code",
      "source": [
        "%cd /content/drive/MyDrive/Colab Notebooks/data"
      ],
      "metadata": {
        "colab": {
          "base_uri": "https://localhost:8080/"
        },
        "id": "Voj8dzOt2jOZ",
        "outputId": "a72d69b5-a3c8-4a95-94a7-d23644028976"
      },
      "execution_count": null,
      "outputs": [
        {
          "output_type": "stream",
          "name": "stdout",
          "text": [
            "/content/drive/MyDrive/Colab Notebooks/data\n"
          ]
        }
      ]
    },
    {
      "cell_type": "markdown",
      "source": [
        "# dataoader"
      ],
      "metadata": {
        "id": "aioMcyQe1Ozw"
      }
    },
    {
      "cell_type": "code",
      "source": [
        "class VOCDataset(Dataset):\n",
        "    def __init__(self, img_dir, mask_dir, img_size=(640, 640)):\n",
        "        self.img_dir = img_dir\n",
        "        self.mask_dir = mask_dir\n",
        "        self.img_files = [f for f in os.listdir(img_dir) if f.endswith('.jpg')]\n",
        "        self.img_size = img_size\n",
        "\n",
        "        # 建立顏色對應表\n",
        "        self.color_to_class = self._build_color_mapping()\n",
        "\n",
        "        self.transform = transforms.Compose([\n",
        "            transforms.Resize(img_size),\n",
        "            transforms.ToTensor(),\n",
        "            transforms.Normalize(mean=[0.485, 0.456, 0.406], std=[0.229, 0.224, 0.225])\n",
        "        ])\n",
        "\n",
        "    def _build_color_mapping(self):\n",
        "        print(\"建立顏色對應表...\")\n",
        "        unique_colors = set()\n",
        "\n",
        "        for img_file in self.img_files:\n",
        "            mask_path = os.path.join(self.mask_dir, img_file.replace('.jpg', '.png'))\n",
        "            if os.path.exists(mask_path):\n",
        "                mask = Image.open(mask_path).convert('RGB')\n",
        "                mask_array = np.array(mask)\n",
        "                colors = mask_array.reshape(-1, 3)\n",
        "                unique_colors.update([tuple(color) for color in colors])\n",
        "\n",
        "        # 將黑白加入到21類\n",
        "        bg_colors = {(0, 0, 0), (255, 255, 255)}\n",
        "\n",
        "        # 移除黑白色，單獨處理\n",
        "        color_list = sorted(list(unique_colors - bg_colors))\n",
        "        color_to_class = {}\n",
        "\n",
        "        # 先將黑白映射到 21\n",
        "        color_to_class[(0, 0, 0)] = 21\n",
        "        color_to_class[(255, 255, 255)] = 21\n",
        "\n",
        "        # 其他最多取前20個顏色\n",
        "        for i, color in enumerate(color_list):\n",
        "            if i < 20:\n",
        "                color_to_class[color] = i\n",
        "            else:\n",
        "                color_to_class[color] = 21  # 多餘顏色也映射為背景類\n",
        "\n",
        "        print(f\"找到 {len(unique_colors)} 種顏色，映射為 0~19 有效類別 + 背景類\")\n",
        "        print(\"顏色對應表:\")\n",
        "        for color, class_id in list(color_to_class.items()):\n",
        "            print(f\"  RGB{color} -> 類別{class_id}\")\n",
        "\n",
        "        return color_to_class\n",
        "\n",
        "\n",
        "    def _rgb_to_class(self, mask_array):\n",
        "        \"\"\"將RGB mask轉換為類別索引\"\"\"\n",
        "        h, w, c = mask_array.shape\n",
        "        class_mask = np.zeros((h, w), dtype=np.long)\n",
        "\n",
        "        # 為每個像素找到對應的類別\n",
        "        for color, class_id in self.color_to_class.items():\n",
        "            # 找到匹配這個顏色的所有像素\n",
        "            matches = np.all(mask_array == color, axis=2)\n",
        "            class_mask[matches] = class_id\n",
        "\n",
        "        return class_mask\n",
        "\n",
        "    def __len__(self):\n",
        "        return len(self.img_files)\n",
        "\n",
        "    def __getitem__(self, idx):\n",
        "        img_name = self.img_files[idx]\n",
        "        img_path = os.path.join(self.img_dir, img_name)\n",
        "        mask_path = os.path.join(self.mask_dir, img_name.replace('.jpg', '.png'))\n",
        "\n",
        "        img = Image.open(img_path).convert('RGB')\n",
        "        img = self.transform(img)\n",
        "\n",
        "        mask = Image.open(mask_path).convert('RGB')\n",
        "        mask = mask.resize(self.img_size, Image.NEAREST)\n",
        "        mask_array = np.array(mask)\n",
        "\n",
        "        class_mask = self._rgb_to_class(mask_array)\n",
        "        mask_tensor = torch.from_numpy(class_mask).long()\n",
        "\n",
        "        return img, mask_tensor\n",
        "\n",
        "# class數據集：miniimage160（10 類）\n",
        "class Image160Dataset(Dataset):\n",
        "    def __init__(self, root_dir, img_size=(640, 640)):\n",
        "        self.root_dir = root_dir\n",
        "        self.classes = [d for d in os.listdir(root_dir) if os.path.isdir(os.path.join(root_dir, d))]\n",
        "        self.img_files = []\n",
        "        self.labels = []\n",
        "        for idx, cls in enumerate(self.classes):\n",
        "            cls_dir = os.path.join(root_dir, cls)\n",
        "            files = [f for f in os.listdir(cls_dir) if f.endswith('.JPEG')]\n",
        "            self.img_files.extend([os.path.join(cls, f) for f in files])\n",
        "            self.labels.extend([idx] * len(files))\n",
        "        self.transform = transforms.Compose([\n",
        "            transforms.Resize(img_size),\n",
        "            transforms.ToTensor(),\n",
        "            transforms.Normalize(mean=[0.485, 0.456, 0.406], std=[0.229, 0.224, 0.225])\n",
        "        ])\n",
        "\n",
        "    def __len__(self):\n",
        "        return len(self.img_files)\n",
        "\n",
        "    def __getitem__(self, idx):\n",
        "        img_path = os.path.join(self.root_dir, self.img_files[idx])\n",
        "        label = self.labels[idx]\n",
        "        img = Image.open(img_path).convert('RGB')\n",
        "        img = self.transform(img)\n",
        "        return img, torch.tensor(label, dtype=torch.long)\n",
        "\n",
        "# 自定義 collate_fn 處理變長張量\n",
        "def collate_fn(batch):\n",
        "    # 將圖像堆疊，圖像形狀應一致\n",
        "    images = torch.stack([item[0] for item in batch])\n",
        "\n",
        "    boxes = [item[1]['boxes'] for item in batch]\n",
        "    labels = [item[1]['labels'] for item in batch]\n",
        "    conf = [item[1]['scores'].unsqueeze(1) for item in batch]\n",
        "    image_ids = [item[1]['image_id'] for item in batch]\n",
        "    areas = [item[1]['area'] for item in batch]\n",
        "    iscrowds = [item[1]['iscrowd'] for item in batch]\n",
        "\n",
        "    # 讓 boxes, labels, conf 形狀一致\n",
        "    boxes_padded = pad_sequence(boxes, batch_first=True, padding_value=0)\n",
        "    labels_padded = pad_sequence(labels, batch_first=True, padding_value=-1)\n",
        "    conf_padded = pad_sequence(conf, batch_first=True, padding_value=0)\n",
        "    areas_padded = pad_sequence(areas, batch_first=True, padding_value=0)\n",
        "    iscrowds_padded = pad_sequence(iscrowds, batch_first=True, padding_value=0)\n",
        "\n",
        "    targets = {\n",
        "        'boxes': boxes_padded,\n",
        "        'labels': labels_padded,\n",
        "        'scores': conf_padded,\n",
        "        'image_id': torch.stack(image_ids),  # Stack image_ids\n",
        "        'area': areas_padded,\n",
        "        'iscrowd': iscrowds_padded\n",
        "    }\n",
        "    return images, targets\n",
        "\n",
        "# det數據集：mini-coco_det\n",
        "class COCODataset(Dataset):\n",
        "    def __init__(self, data_root, split='train2017', img_size=(640, 640)):\n",
        "        self.data_root = data_root\n",
        "        self.img_dir = os.path.join(data_root, split)\n",
        "        self.ann_file = os.path.join(data_root, 'annotations', f'instances_{split}.json')\n",
        "        self.coco = COCO(self.ann_file)\n",
        "        self.img_ids = list(self.coco.imgs.keys())\n",
        "        self.transform = transforms.Compose([\n",
        "            transforms.Resize(img_size),\n",
        "            transforms.ToTensor(),\n",
        "            transforms.Normalize(mean=[0.485, 0.456, 0.406], std=[0.229, 0.224, 0.225])\n",
        "        ])\n",
        "\n",
        "    def __len__(self):\n",
        "        return len(self.img_ids)\n",
        "\n",
        "    def __getitem__(self, idx):\n",
        "        img_id = self.img_ids[idx]\n",
        "        img_info = self.coco.loadImgs(img_id)[0]\n",
        "        img_path = os.path.join(self.img_dir, img_info['file_name'])\n",
        "        img = Image.open(img_path).convert('RGB')\n",
        "        img = self.transform(img)\n",
        "\n",
        "        ann_ids = self.coco.getAnnIds(imgIds=img_id)\n",
        "        anns = self.coco.loadAnns(ann_ids)\n",
        "        boxes = torch.tensor([[ann['bbox'][0], ann['bbox'][1],\n",
        "                               ann['bbox'][0] + ann['bbox'][2], ann['bbox'][1] + ann['bbox'][3]]\n",
        "                              for ann in anns], dtype=torch.float32)\n",
        "        # Adjust category_id from 1-based (1-10) to 0-based (0-9)\n",
        "        labels = torch.tensor([ann['category_id'] - 1 for ann in anns], dtype=torch.long)\n",
        "        conf = torch.ones(len(anns))\n",
        "        areas = torch.tensor([ann['area'] for ann in anns], dtype=torch.float32)\n",
        "        iscrowds = torch.tensor([ann['iscrowd'] for ann in anns], dtype=torch.long)\n",
        "\n",
        "        return img, {\n",
        "            'boxes': boxes,\n",
        "            'labels': labels,\n",
        "            'scores': conf,\n",
        "            'image_id': torch.tensor([img_id], dtype=torch.long),\n",
        "            'area': areas,\n",
        "            'iscrowd': iscrowds\n",
        "        }\n"
      ],
      "metadata": {
        "id": "E0oqL6_N1MuE"
      },
      "execution_count": null,
      "outputs": []
    },
    {
      "cell_type": "markdown",
      "source": [
        "# 後處理det的輸出"
      ],
      "metadata": {
        "id": "mDY_8y9k2CKU"
      }
    },
    {
      "cell_type": "code",
      "source": [
        "def post_process_det(det, stride=8, n_anchors=3, c_det=10, img_size=640):\n",
        "    batch_size, _, h, w = det.shape\n",
        "    h = h.item() if isinstance(h, torch.Tensor) else h\n",
        "    w = w.item() if isinstance(w, torch.Tensor) else w\n",
        "\n",
        "    det = det.reshape(batch_size, n_anchors, 5 + c_det, h, w)\n",
        "    det = det.permute(0, 1, 3, 4, 2)  # [B, A, H, W, 5+C]\n",
        "    # print(det[..., 0])\n",
        "    # 修正座標解碼\n",
        "    grid_x = torch.arange(w, device=det.device, dtype=torch.float32).reshape(1, 1, 1, w).expand(batch_size, n_anchors, h, w)\n",
        "    grid_y = torch.arange(h, device=det.device, dtype=torch.float32).reshape(1, 1, h, 1).expand(batch_size, n_anchors, h, w)\n",
        "    # print(grid_x)\n",
        "    # 使用 sigmoid 來限制座標範圍\n",
        "    cx = (torch.sigmoid(det[..., 0]) + grid_x) * stride\n",
        "    cy = (torch.sigmoid(det[..., 1]) + grid_y) * stride\n",
        "    w_pred = torch.exp(det[..., 2]) * stride\n",
        "    h_pred = torch.exp(det[..., 3]) * stride\n",
        "\n",
        "    x1 = cx - w_pred / 2\n",
        "    y1 = cy - h_pred / 2\n",
        "    x2 = cx + w_pred / 2\n",
        "    y2 = cy + h_pred / 2\n",
        "\n",
        "    # 確保座標在合理範圍內\n",
        "    x1 = torch.clamp(x1, 0, img_size)\n",
        "    y1 = torch.clamp(y1, 0, img_size)\n",
        "    x2 = torch.clamp(x2, 0, img_size)\n",
        "    y2 = torch.clamp(y2, 0, img_size)\n",
        "\n",
        "    boxes = torch.stack([x1, y1, x2, y2], dim=-1)\n",
        "    boxes = boxes.reshape(batch_size, n_anchors * h * w, 4)\n",
        "\n",
        "    conf = torch.sigmoid(det[..., 4]).reshape(batch_size, n_anchors * h * w)\n",
        "    cls_probs = torch.softmax(det[..., 5:], dim=-1).reshape(batch_size, n_anchors * h * w, c_det)\n",
        "\n",
        "    outputs = []\n",
        "    for i in range(batch_size):\n",
        "        # 過濾低信心度的預測\n",
        "        conf_mask = conf[i] > 0.5\n",
        "        if conf_mask.sum() == 0:\n",
        "            outputs.append({\n",
        "                'boxes': torch.empty(0, 4),\n",
        "                'labels': torch.empty(0, dtype=torch.long),\n",
        "                'scores': torch.empty(0)\n",
        "            })\n",
        "            continue\n",
        "\n",
        "        filtered_boxes = boxes[i][conf_mask]\n",
        "        filtered_conf = conf[i][conf_mask]\n",
        "        filtered_cls = cls_probs[i][conf_mask]\n",
        "\n",
        "        # 最終分數\n",
        "        max_cls_probs, predicted_labels = torch.max(filtered_cls, dim=-1)\n",
        "        final_scores = filtered_conf * max_cls_probs\n",
        "\n",
        "        # NMS\n",
        "        keep_indices = nms(filtered_boxes, final_scores, iou_threshold=0.6)\n",
        "\n",
        "        outputs.append({\n",
        "            'boxes': filtered_boxes[keep_indices],\n",
        "            'labels': predicted_labels[keep_indices],\n",
        "            'scores': final_scores[keep_indices]\n",
        "        })\n",
        "\n",
        "    return outputs"
      ],
      "metadata": {
        "id": "EyJ7nALo2BGp"
      },
      "execution_count": null,
      "outputs": []
    },
    {
      "cell_type": "markdown",
      "source": [
        "# 資源計算"
      ],
      "metadata": {
        "id": "YSX3O8nR1WSP"
      }
    },
    {
      "cell_type": "code",
      "source": [
        "def count_parameters(model):\n",
        "    return sum(p.numel() for p in model.parameters() if p.requires_grad)\n",
        "\n",
        "def format_time(seconds):\n",
        "    hours = int(seconds // 3600)\n",
        "    minutes = int((seconds % 3600) // 60)\n",
        "    seconds = int(seconds % 60)\n",
        "    return f\"{hours:02d}:{minutes:02d}:{seconds:02d}\""
      ],
      "metadata": {
        "id": "dZg3CCjd1Vwk"
      },
      "execution_count": null,
      "outputs": []
    },
    {
      "cell_type": "markdown",
      "source": [
        "# Loss與評估指標"
      ],
      "metadata": {
        "id": "BS1B6kqZ1hyJ"
      }
    },
    {
      "cell_type": "code",
      "source": [
        "# IoU 損失，拿來計算bbox的重疊\n",
        "class CIoULoss(nn.Module):\n",
        "    def __init__(self):\n",
        "        super().__init__()\n",
        "\n",
        "    def forward(self, pred_boxes, target_boxes):\n",
        "        iou = self.compute_iou(pred_boxes, target_boxes)\n",
        "        ciou = iou\n",
        "        return 1 - ciou.mean()\n",
        "\n",
        "    def compute_iou(self, box1, box2):\n",
        "        x1 = torch.max(box1[:, 0], box2[:, 0])\n",
        "        y1 = torch.max(box1[:, 1], box2[:, 1])\n",
        "        x2 = torch.min(box1[:, 2], box2[:, 2])\n",
        "        y2 = torch.min(box1[:, 3], box2[:, 3])\n",
        "        inter = torch.clamp(x2 - x1, min=0) * torch.clamp(y2 - y1, min=0)\n",
        "        area1 = (box1[:, 2] - box1[:, 0]) * (box1[:, 3] - box1[:, 1])\n",
        "        area2 = (box2[:, 2] - box2[:, 0]) * (box2[:, 3] - box2[:, 1])\n",
        "        union = area1 + area2 - inter\n",
        "        return inter / (union + 1e-6)\n",
        "\n",
        "##############################################\n",
        "class DetectionLoss(nn.Module):\n",
        "    def __init__(self, n_anchors=3, c_det=10, stride=8, anchor_sizes=None):\n",
        "        super().__init__()\n",
        "        self.n_anchors = n_anchors\n",
        "        self.c_det = c_det\n",
        "        self.stride = stride\n",
        "        self.ciou_loss_fn = CIoULoss()\n",
        "        self.bce_loss = nn.BCEWithLogitsLoss()\n",
        "        self.cls_loss = nn.CrossEntropyLoss()\n",
        "        # anchor尺寸\n",
        "        if anchor_sizes is None:\n",
        "            self.anchor_sizes = torch.tensor([\n",
        "                [10, 13], [16, 30], [33, 23],\n",
        "                # 可以根據數據集調整這些anchor尺寸\n",
        "            ], dtype=torch.float32)\n",
        "        else:\n",
        "            self.anchor_sizes = torch.tensor(anchor_sizes, dtype=torch.float32)\n",
        "        # 設定各loss的權重\n",
        "        self.lambda_coord = 5.0\n",
        "        self.lambda_obj = 1.0\n",
        "        self.lambda_noobj = 0.5\n",
        "        self.lambda_class = 1.0\n",
        "\n",
        "    def forward(self, det_pred, targets):\n",
        "        batch_size, _, h, w = det_pred.shape\n",
        "        det_pred_device = det_pred.device\n",
        "        if self.anchor_sizes.device != det_pred_device:\n",
        "            self.anchor_sizes = self.anchor_sizes.to(det_pred_device)\n",
        "\n",
        "        # 將預測reshape\n",
        "        det_pred = det_pred.view(batch_size, self.n_anchors, 5 + self.c_det, h, w)\n",
        "        det_pred = det_pred.permute(0, 1, 3, 4, 2)  # [B, A, H, W, 5+C]\n",
        "\n",
        "        total_loss = 0\n",
        "        num_pos = 0\n",
        "\n",
        "        for b in range(batch_size):\n",
        "            tgt_boxes = targets['boxes'][b]\n",
        "            tgt_labels = targets['labels'][b]\n",
        "\n",
        "            valid_mask = (tgt_labels >= 0) & (tgt_boxes.sum(dim=1) > 0)\n",
        "            tgt_boxes = tgt_boxes[valid_mask]\n",
        "            tgt_labels = tgt_labels[valid_mask]\n",
        "\n",
        "            # 代表我的資料裡沒有物件\n",
        "            if tgt_boxes.size(0) == 0:\n",
        "                obj_pred = det_pred[b, :, :, :, 4].reshape(-1)\n",
        "                obj_target = torch.zeros_like(obj_pred)\n",
        "                total_loss += self.lambda_noobj * self.bce_loss(obj_pred, obj_target)\n",
        "                continue\n",
        "\n",
        "            assignments = self.assign_targets(det_pred[b], tgt_boxes, h, w)\n",
        "\n",
        "            if len(assignments) == 0:\n",
        "                obj_pred = det_pred[b, :, :, :, 4].reshape(-1)\n",
        "                obj_target = torch.zeros_like(obj_pred)\n",
        "                total_loss += self.lambda_noobj * self.bce_loss(obj_pred, obj_target)\n",
        "                continue\n",
        "\n",
        "            pred_boxes_list = []\n",
        "            pred_obj_list = []\n",
        "            pred_cls_list = []\n",
        "            matched_tgt_boxes = []\n",
        "            matched_tgt_labels = []\n",
        "\n",
        "            for assignment in assignments:\n",
        "                anchor_idx, grid_y, grid_x, tgt_idx = assignment\n",
        "                #將預測框轉為座標\n",
        "                pred_box = self.decode_single_prediction(\n",
        "                    det_pred[b, anchor_idx, grid_y, grid_x, :4],\n",
        "                    grid_y, grid_x, h, w\n",
        "                )\n",
        "                pred_boxes_list.append(pred_box)\n",
        "\n",
        "                # pred信心度與class\n",
        "                pred_obj_list.append(det_pred[b, anchor_idx, grid_y, grid_x, 4])\n",
        "                pred_cls_list.append(det_pred[b, anchor_idx, grid_y, grid_x, 5:])\n",
        "\n",
        "                # gt\n",
        "                matched_tgt_boxes.append(tgt_boxes[tgt_idx])\n",
        "                matched_tgt_labels.append(tgt_labels[tgt_idx])\n",
        "\n",
        "            if len(pred_boxes_list) == 0:\n",
        "                continue\n",
        "\n",
        "            pred_boxes = torch.stack(pred_boxes_list)\n",
        "            pred_obj = torch.stack(pred_obj_list)\n",
        "            pred_cls = torch.stack(pred_cls_list)\n",
        "            matched_tgt_boxes = torch.stack(matched_tgt_boxes)\n",
        "            matched_tgt_labels = torch.stack(matched_tgt_labels)\n",
        "\n",
        "            # 個個loss\n",
        "            # 1. 座標損失\n",
        "            coord_loss = self.ciou_loss_fn(pred_boxes, matched_tgt_boxes)\n",
        "\n",
        "            # 2. 信心度損失 (正樣本)\n",
        "            obj_target = torch.ones_like(pred_obj)\n",
        "            obj_loss_pos = self.bce_loss(pred_obj, obj_target)\n",
        "\n",
        "            # 3. class損失\n",
        "            cls_loss = self.cls_loss(pred_cls, matched_tgt_labels)\n",
        "\n",
        "            # 4. 信心度損失 (負樣本) - 所有位置\n",
        "            obj_pred_all = det_pred[b, :, :, :, 4].reshape(-1)\n",
        "            obj_target_all = torch.zeros_like(obj_pred_all)\n",
        "\n",
        "            # 將正樣本的位置設1\n",
        "            for assignment in assignments:\n",
        "                anchor_idx, grid_y, grid_x, _ = assignment\n",
        "                flat_idx = anchor_idx * h * w + grid_y * w + grid_x\n",
        "                obj_target_all[flat_idx] = 1.0\n",
        "\n",
        "            obj_loss_all = self.bce_loss(obj_pred_all, obj_target_all)\n",
        "\n",
        "            total_loss += (\n",
        "                self.lambda_coord * coord_loss +\n",
        "                self.lambda_obj * obj_loss_pos +\n",
        "                self.lambda_noobj * obj_loss_all +\n",
        "                self.lambda_class * cls_loss\n",
        "            )\n",
        "\n",
        "            num_pos += len(assignments)\n",
        "\n",
        "        return total_loss / max(num_pos, 1)\n",
        "\n",
        "    def compute_anchor_iou(self, gt_wh, anchor_wh):\n",
        "        # gt_wh: [N, 2] (width, height)\n",
        "        # anchor_wh: [A, 2] (width, height)\n",
        "\n",
        "        gt_wh = gt_wh.unsqueeze(1)  # [N, 1, 2]\n",
        "        anchor_wh = anchor_wh.unsqueeze(0)  # [1, A, 2]\n",
        "\n",
        "        # 計算交集面積 (假设中心對齊)\n",
        "        inter_wh = torch.min(gt_wh, anchor_wh)  # [N, A, 2]\n",
        "        inter_area = inter_wh[:, :, 0] * inter_wh[:, :, 1]  # [N, A]\n",
        "\n",
        "        # 計算各自面積\n",
        "        gt_area = gt_wh[:, :, 0] * gt_wh[:, :, 1]  # [N, 1]\n",
        "        anchor_area = anchor_wh[:, :, 0] * anchor_wh[:, :, 1]  # [1, A]\n",
        "\n",
        "        # 計算聯集面積\n",
        "        union_area = gt_area + anchor_area - inter_area  # [N, A]\n",
        "\n",
        "        # 計算IoU\n",
        "        iou = inter_area / (union_area + 1e-6)  # [N, A]\n",
        "\n",
        "        return iou\n",
        "\n",
        "    def assign_targets(self, pred, tgt_boxes, h, w):\n",
        "        assignments = []\n",
        "\n",
        "        # 計算所有目標的寬高\n",
        "        tgt_wh_list = []\n",
        "        for tgt_box in tgt_boxes:\n",
        "            width = tgt_box[2] - tgt_box[0]\n",
        "            height = tgt_box[3] - tgt_box[1]\n",
        "            tgt_wh_list.append([width, height])\n",
        "\n",
        "        if len(tgt_wh_list) == 0:\n",
        "            return assignments\n",
        "\n",
        "        tgt_wh = torch.tensor(tgt_wh_list, device=tgt_boxes.device)  # [N, 2]\n",
        "\n",
        "        # 計算anchor IoU\n",
        "        anchor_ious = self.compute_anchor_iou(tgt_wh, self.anchor_sizes[:self.n_anchors])  # [N, A]\n",
        "\n",
        "        for i, tgt_box in enumerate(tgt_boxes):\n",
        "            # 計算目標中心點在網格中的位置\n",
        "            cx = (tgt_box[0] + tgt_box[2]) / 2\n",
        "            cy = (tgt_box[1] + tgt_box[3]) / 2\n",
        "\n",
        "            grid_x = int(cx / self.stride)\n",
        "            grid_y = int(cy / self.stride)\n",
        "\n",
        "            # 確保在網格範圍內\n",
        "            grid_x = max(0, min(w-1, grid_x))\n",
        "            grid_y = max(0, min(h-1, grid_y))\n",
        "\n",
        "            # 選擇IoU最高的anchor\n",
        "            best_anchor = torch.argmax(anchor_ious[i]).item()\n",
        "\n",
        "            assignments.append((best_anchor, grid_y, grid_x, i))\n",
        "\n",
        "        return assignments\n",
        "\n",
        "    def decode_single_prediction(self, pred_box, grid_y, grid_x, h, w):\n",
        "        # 將匡轉為座標\n",
        "        cx = (torch.sigmoid(pred_box[0]) + grid_x) * self.stride\n",
        "        cy = (torch.sigmoid(pred_box[1]) + grid_y) * self.stride\n",
        "        w_pred = torch.exp(pred_box[2]) * self.stride\n",
        "        h_pred = torch.exp(pred_box[3]) * self.stride\n",
        "\n",
        "        x1 = cx - w_pred / 2\n",
        "        y1 = cy - h_pred / 2\n",
        "        x2 = cx + w_pred / 2\n",
        "        y2 = cy + h_pred / 2\n",
        "\n",
        "        return torch.stack([x1, y1, x2, y2])\n",
        "\n",
        "\n",
        "# mIOU\n",
        "def compute_iou(preds, targets, num_classes):\n",
        "    ious = []\n",
        "    preds = preds.view(-1)\n",
        "    targets = targets.view(-1)\n",
        "\n",
        "    for cls in range(num_classes):\n",
        "        pred_inds = preds == cls\n",
        "        target_inds = targets == cls\n",
        "        intersection = (pred_inds & target_inds).sum().item()\n",
        "        union = (pred_inds | target_inds).sum().item()\n",
        "\n",
        "        if union == 0:\n",
        "            ious.append(float('nan'))\n",
        "        else:\n",
        "            ious.append(intersection / union)\n",
        "    return np.nanmean(ious)\n",
        "\n",
        "# mAP\n",
        "def evaluate_map(model, dataloader, coco_gt, iou_type='bbox'):\n",
        "    model.eval()\n",
        "    results = []\n",
        "    img_ids = []\n",
        "\n",
        "    with torch.no_grad():\n",
        "        for images, targets in tqdm(dataloader, desc=\"Evaluating\"):\n",
        "            images = images.to(device)\n",
        "            outputs = post_process_det(model(images)[0], stride=8, n_anchors=3, c_det=10)\n",
        "\n",
        "            for i, output in enumerate(outputs):\n",
        "                image_id = int(targets['image_id'][i].item())\n",
        "                img_ids.append(image_id)\n",
        "\n",
        "                boxes = output['boxes'].cpu().numpy()\n",
        "                scores = output['scores'].cpu().numpy()\n",
        "                labels = output['labels'].cpu().numpy()\n",
        "\n",
        "                for box, score, label in zip(boxes, scores, labels):\n",
        "                    if score > 0.2:  # 篩掉一些分數較低的框\n",
        "                        x1, y1, x2, y2 = box\n",
        "                        width = float(x2 - x1)\n",
        "                        height = float(y2 - y1)\n",
        "\n",
        "                        if width > 0 and height > 0: #發現我的眶有的x1會>x2，所以在這把她刪除\n",
        "                            result = {\n",
        "                                'image_id': int(image_id),\n",
        "                                'category_id': int(label) + 1,\n",
        "                                'bbox': [float(x1), float(y1), float(width), float(height)],\n",
        "                                'score': float(score),\n",
        "                            }\n",
        "                            results.append(result)\n",
        "\n",
        "    print(f\"Total detections: {len(results)}\")\n",
        "\n",
        "    if not results:\n",
        "        print(\"警告：沒有有效的檢測結果！\")\n",
        "        return 0.0\n",
        "    with tempfile.NamedTemporaryFile(mode='w+', suffix='.json', delete=False) as f:\n",
        "        json.dump(results, f)\n",
        "        f.flush()\n",
        "        coco_dt = coco_gt.loadRes(f.name)\n",
        "\n",
        "    coco_eval = COCOeval(coco_gt, coco_dt, iouType=iou_type)\n",
        "    coco_eval.params.imgIds = img_ids\n",
        "    coco_eval.evaluate()\n",
        "    coco_eval.accumulate()\n",
        "    coco_eval.summarize()\n",
        "\n",
        "    return coco_eval.stats[0]\n"
      ],
      "metadata": {
        "id": "C-g18yFQ1gZd"
      },
      "execution_count": null,
      "outputs": []
    },
    {
      "cell_type": "markdown",
      "source": [
        "# model自定義"
      ],
      "metadata": {
        "id": "7MZzGye71q-4"
      }
    },
    {
      "cell_type": "code",
      "source": [
        "# model\n",
        "# 使用YOLOv8n當作我的backbone\n",
        "class YOLOv8nBackbone(nn.Module):\n",
        "    def __init__(self):\n",
        "        super().__init__()\n",
        "        base_model = YOLO('yolov8n.pt').model.to(device)\n",
        "        self.backbone = nn.Sequential(*list(base_model.model.children())[:10])\n",
        "\n",
        "    def forward(self, x):\n",
        "        outputs = []\n",
        "        for i, layer in enumerate(self.backbone):\n",
        "            x = layer(x)\n",
        "            if i in [4, 6, 9]:\n",
        "                outputs.append(x)\n",
        "        return outputs\n",
        "\n",
        "# FPN 我的neck\n",
        "class FPN(nn.Module):\n",
        "    def __init__(self, in_channels_list=[256, 512, 576], out_channels=512):\n",
        "        super().__init__()\n",
        "        self.conv1 = nn.Conv2d(in_channels_list[2], out_channels, 1)\n",
        "        self.conv2 = nn.Conv2d(in_channels_list[1], out_channels, 1)\n",
        "        self.conv3 = nn.Conv2d(in_channels_list[0], out_channels, 1)\n",
        "        self.conv_fuse = nn.Conv2d(out_channels, out_channels, 3, padding=1)\n",
        "        self.bn = nn.BatchNorm2d(out_channels)\n",
        "        self.relu = nn.ReLU()\n",
        "\n",
        "    def forward(self, x):\n",
        "        p4, p6, p9 = x\n",
        "        p9 = self.conv1(p9)\n",
        "        p9 = F.interpolate(p9, scale_factor=2, mode='bilinear')\n",
        "        p6 = self.conv2(p6)\n",
        "        p4 = self.conv3(p4)\n",
        "        p4 = F.interpolate(p4, scale_factor=0.5, mode='bilinear')\n",
        "        fused = p9 + p6 + p4\n",
        "        return self.relu(self.bn(self.conv_fuse(fused)))\n",
        "# 定義我的head\n",
        "class MultiTaskHead(nn.Module):\n",
        "    def __init__(self, in_channels, c_det=10, c_seg=20, c_cls=10, n_anchors=3, img_size=640):\n",
        "        super().__init__()\n",
        "        self.n_anchors = n_anchors\n",
        "        self.c_det = c_det\n",
        "        self.conv1 = nn.Conv2d(in_channels, 128, kernel_size=3, padding=1)\n",
        "        self.bn1 = nn.BatchNorm2d(128)\n",
        "        self.relu = nn.ReLU()\n",
        "        self.conv2 = nn.Conv2d(128, n_anchors * (5 + c_det) + c_seg, kernel_size=1)\n",
        "        self.pool = nn.AdaptiveAvgPool2d(1)\n",
        "        self.cls_fc = nn.Linear(128, c_cls)\n",
        "        self.upsample = nn.Upsample(size=(img_size, img_size), mode='bilinear', align_corners=False)\n",
        "\n",
        "    def forward(self, x):\n",
        "        x = self.relu(self.bn1(self.conv1(x)))\n",
        "        det_seg = self.conv2(x)\n",
        "        det = det_seg[:, :self.n_anchors * (5 + self.c_det), :, :]\n",
        "        seg = det_seg[:, self.n_anchors * (5 + self.c_det):, :, :]\n",
        "        seg = self.upsample(seg)\n",
        "        cls = self.cls_fc(self.pool(x).flatten(1))\n",
        "        return det, seg, cls\n",
        "\n",
        "class MultiTaskModel(nn.Module):\n",
        "    def __init__(self, img_size=640):\n",
        "        super().__init__()\n",
        "        self.backbone = YOLOv8nBackbone()\n",
        "        self.neck = FPN(in_channels_list=[64, 128, 256], out_channels=256)\n",
        "        self.head = MultiTaskHead(in_channels=256, c_det=10, c_seg=20, c_cls=10, n_anchors=3, img_size=img_size)\n",
        "        self.device = torch.device(\"cuda\" if torch.cuda.is_available() else \"cpu\")\n",
        "        self.to(self.device)\n",
        "\n",
        "    def forward(self, x):\n",
        "        features = self.backbone(x)\n",
        "        fused = self.neck(features)\n",
        "        det, seg, cls = self.head(fused)\n",
        "        return det, seg, cls\n",
        "\n",
        "    def compute_iou(self, preds, targets, num_classes):\n",
        "        iou_sum = 0\n",
        "        for c in range(num_classes):\n",
        "            pred_mask = (preds == c)\n",
        "            target_mask = (targets == c)\n",
        "            intersection = (pred_mask & target_mask).sum().float()\n",
        "            union = (pred_mask | target_mask).sum().float()\n",
        "            iou_sum += (intersection + 1e-6) / (union + 1e-6)\n",
        "        return iou_sum / num_classes\n",
        "    def train_stage(self, stage, train_loader, val_loader, criterion, evaluate_map=None, num_epochs=5, prev_ewc=None, save_path=None):\n",
        "        optimizer = Adam(self.parameters(), lr=1e-3)\n",
        "        train_losses, val_losses, metrics = [], [], []\n",
        "        epoch_train_times, epoch_val_times = [], []  # 新增：記錄每個 epoch 的時間\n",
        "\n",
        "        for epoch in range(num_epochs):\n",
        "            self.train()\n",
        "            total_loss = 0\n",
        "            start_time = time.time()  # 訓練開始時間\n",
        "\n",
        "            for images, targets in tqdm(train_loader, desc=f'Stage {stage} Epoch {epoch+1} [Train]'):\n",
        "                images = images.to(self.device)\n",
        "                if isinstance(targets, dict):  # Det\n",
        "                    targets = {k: v.to(self.device) for k, v in targets.items()}\n",
        "                    outputs = self(images)[0]\n",
        "                elif isinstance(targets, torch.Tensor) and targets.ndim == 3:  # Seg\n",
        "                    targets = targets.to(self.device)\n",
        "                    outputs = self(images)[1]\n",
        "                else:  # Class\n",
        "                    targets = targets.to(self.device)\n",
        "                    outputs = self(images)[2]\n",
        "\n",
        "                optimizer.zero_grad()\n",
        "                loss = criterion(outputs, targets)\n",
        "                if prev_ewc:\n",
        "                    loss += sum(ewc.penalty(self) for ewc in prev_ewc)\n",
        "                loss.backward()\n",
        "                optimizer.step()\n",
        "                total_loss += loss.item()\n",
        "\n",
        "            train_time = time.time() - start_time  # 訓練時間\n",
        "            epoch_train_times.append(train_time)\n",
        "            avg_train_loss = total_loss / len(train_loader)\n",
        "            train_losses.append(avg_train_loss)\n",
        "\n",
        "            self.eval()\n",
        "            total_val_loss, metric_sum, num_batches = 0, 0, 0\n",
        "            start_time = time.time()  # 驗證開始時間\n",
        "\n",
        "            with torch.no_grad():\n",
        "                for images, targets in tqdm(val_loader, desc=f'Stage {stage} Epoch {epoch+1} [Val]'):\n",
        "                    images = images.to(self.device)\n",
        "                    if isinstance(targets, dict):  # Det\n",
        "                        targets = {k: v.to(self.device) for k, v in targets.items()}\n",
        "                        outputs = self(images)[0]\n",
        "                        metric = evaluate_map(self, val_loader) if evaluate_map else 0\n",
        "                    elif isinstance(targets, torch.Tensor) and targets.ndim == 3:  # Seg\n",
        "                        targets = targets.to(self.device)\n",
        "                        outputs = self(images)[1]\n",
        "                        preds = outputs.argmax(dim=1)\n",
        "                        metric = self.compute_iou(preds, targets, num_classes=20)\n",
        "                    else:  # Class\n",
        "                        targets = targets.to(self.device)\n",
        "                        outputs = self(images)[2]\n",
        "                        preds = outputs.argmax(dim=1)\n",
        "                        metric = (preds == targets).float().mean().item()\n",
        "\n",
        "                    loss = criterion(outputs, targets)\n",
        "                    total_val_loss += loss.item()\n",
        "                    metric_sum += metric\n",
        "                    num_batches += 1\n",
        "\n",
        "            val_time = time.time() - start_time  # 驗證時間\n",
        "            epoch_val_times.append(val_time)\n",
        "            avg_val_loss = total_val_loss / len(val_loader)\n",
        "            avg_metric = metric_sum / num_batches\n",
        "            val_losses.append(avg_val_loss)\n",
        "            metrics.append(avg_metric)\n",
        "\n",
        "            metric_name = \"mIoU\" if stage == 1 else \"mAP\" if stage == 2 else \"Top-1 Acc\"\n",
        "            print(f\"[Stage {stage} Epoch {epoch+1}] Train Loss: {avg_train_loss:.4f}, Val Loss: {avg_val_loss:.4f}, {metric_name}: {avg_metric:.6f}, Train Time: {format_time(train_time)}, Val Time: {format_time(val_time)}\")\n",
        "\n",
        "            torch.cuda.empty_cache()\n",
        "\n",
        "        total_train_time = sum(epoch_train_times)\n",
        "        total_val_time = sum(epoch_val_times)\n",
        "        print(f\"Stage {stage} Total Training Time: {format_time(total_train_time)}, Total Validation Time: {format_time(total_val_time)}\")\n",
        "\n",
        "        return train_losses, val_losses, metrics, avg_metric, epoch_train_times, epoch_val_times\n"
      ],
      "metadata": {
        "id": "mtkgx9Mo1vCf"
      },
      "execution_count": null,
      "outputs": []
    },
    {
      "cell_type": "markdown",
      "source": [
        "# training way"
      ],
      "metadata": {
        "id": "52FDCPg52SHr"
      }
    },
    {
      "cell_type": "code",
      "source": [
        "def set_seed(seed=42):\n",
        "    random.seed(seed)\n",
        "    np.random.seed(seed)\n",
        "    torch.manual_seed(seed)\n",
        "    torch.cuda.manual_seed(seed)\n",
        "    torch.cuda.manual_seed_all(seed)\n",
        "    torch.backends.cudnn.deterministic = True\n",
        "    torch.backends.cudnn.benchmark = False # 禁止用自動優化\n",
        "\n",
        "\n",
        "\n",
        "\n",
        "class EWC(object):\n",
        "    def __init__(self, model, dataloader, device, importance=1000):\n",
        "        self.model = model\n",
        "        self.dataloader = dataloader\n",
        "        self.device = device\n",
        "        self.importance = importance\n",
        "        self.params = {n: p.clone().detach() for n, p in model.named_parameters() if p.requires_grad}\n",
        "        self.fisher = self.compute_fisher()\n",
        "\n",
        "    def compute_fisher(self):\n",
        "        fisher = {n: torch.zeros_like(p) for n, p in self.params.items()}\n",
        "        self.model.eval()\n",
        "        for images, targets in self.dataloader:\n",
        "            images = images.to(self.device)\n",
        "            if isinstance(targets, dict):  # det\n",
        "                targets = {k: v.to(self.device) for k, v in targets.items()}\n",
        "                outputs = self.model(images)[0]\n",
        "                loss = self.detection_loss(outputs, targets).to(device)\n",
        "            elif isinstance(targets, torch.Tensor) and targets.ndim == 3:  # seg\n",
        "                targets = targets.to(self.device)\n",
        "                outputs = self.model(images)[1]\n",
        "                loss = nn.CrossEntropyLoss(ignore_index=21)(outputs, targets).to(device)\n",
        "            else:  # class\n",
        "                targets = targets.to(self.device)\n",
        "                outputs = self.model(images)[2]\n",
        "                loss = nn.CrossEntropyLoss()(outputs, targets).to(device)\n",
        "\n",
        "            self.model.zero_grad()\n",
        "            loss.backward()\n",
        "            for n, p in self.model.named_parameters():\n",
        "                if p.grad is not None:\n",
        "                    fisher[n] += p.grad.data.pow(2) / len(self.dataloader)\n",
        "        return fisher\n",
        "\n",
        "    def penalty(self, model):\n",
        "        loss = 0\n",
        "        for n, p in model.named_parameters():\n",
        "            if n in self.params:\n",
        "                loss += (self.fisher[n] * (p - self.params[n]).pow(2)).sum()\n",
        "        return self.importance * loss\n",
        "\n",
        "    def detection_loss(self, outputs, targets):\n",
        "        detection_loss_fn = DetectionLoss(n_anchors=3, c_det=10, stride=8).to(device)\n",
        "        return detection_loss_fn(outputs, targets)\n",
        "\n"
      ],
      "metadata": {
        "id": "fMo7aNgl2XT4"
      },
      "execution_count": null,
      "outputs": []
    },
    {
      "cell_type": "markdown",
      "source": [
        "# 主程式"
      ],
      "metadata": {
        "id": "joUYBYnu0056"
      }
    },
    {
      "cell_type": "code",
      "source": [
        "def main():\n",
        "    device = torch.device(\"cuda\" if torch.cuda.is_available() else \"cpu\")\n",
        "    set_seed(seed=222)\n",
        "    # -------------------------------\n",
        "    # Detection Dataset (COCO)\n",
        "    coco_train_dataset = COCODataset('data/mini-coco_det', split='train2017')\n",
        "    coco_val_dataset   = COCODataset('data/mini-coco_det', split='val2017')\n",
        "    det_train_loader = DataLoader(coco_train_dataset, batch_size=12, shuffle=True, collate_fn=collate_fn)\n",
        "    det_val_loader   = DataLoader(coco_val_dataset, batch_size=12, shuffle=False, collate_fn=collate_fn)\n",
        "\n",
        "    # -------------------------------\n",
        "    # Segmentation Dataset (VOC)\n",
        "    voc_train_dataset = VOCDataset('data/mini_voc_seg/train/images', 'data/mini_voc_seg/train/masks')\n",
        "    voc_val_dataset   = VOCDataset('data/mini_voc_seg/val/images', 'data/mini_voc_seg/val/masks')\n",
        "    seg_train_loader = DataLoader(voc_train_dataset, batch_size=12, shuffle=True)\n",
        "    seg_val_loader   = DataLoader(voc_val_dataset, batch_size=12, shuffle=False)\n",
        "\n",
        "    # -------------------------------\n",
        "    # Classification Dataset (image160)\n",
        "    image160_train_dataset = Image160Dataset('data/imagenette-160/train')\n",
        "    image160_val_dataset   = Image160Dataset('data/imagenette-160/val')\n",
        "    cls_train_loader = DataLoader(image160_train_dataset, batch_size=12, shuffle=True)\n",
        "    cls_val_loader   = DataLoader(image160_val_dataset, batch_size=12, shuffle=False)\n",
        "\n",
        "    # Loss functions\n",
        "    seg_criterion = nn.CrossEntropyLoss(ignore_index=21).to(device)\n",
        "    det_criterion = DetectionLoss(n_anchors=3, c_det=10, stride=16).to(device)\n",
        "    cls_criterion = nn.CrossEntropyLoss().to(device)\n",
        "\n",
        "    # Step 1: Train baselines\n",
        "    # Segmentation baseline\n",
        "    model_seg = MultiTaskModel(img_size=640)\n",
        "    _, _, _, seg_miou_base, seg_train_times, seg_val_times = model_seg.train_stage(\n",
        "        stage=1,\n",
        "        train_loader=seg_train_loader,\n",
        "        val_loader=seg_val_loader,\n",
        "        criterion=seg_criterion,\n",
        "        num_epochs=10,\n",
        "    )\n",
        "\n",
        "    # Detection baseline\n",
        "    model_det = MultiTaskModel(img_size=640)\n",
        "    coco_gt = COCO('data/mini-coco_det/annotations/instances_val2017.json')\n",
        "    _, _, _, det_map_base, det_train_times, det_val_times = model_det.train_stage(\n",
        "        stage=2,\n",
        "        train_loader=det_train_loader,\n",
        "        val_loader=det_val_loader,\n",
        "        criterion=det_criterion,\n",
        "        evaluate_map=lambda model, val_loader: evaluate_map(model, val_loader, coco_gt),\n",
        "        num_epochs=10,\n",
        "    )\n",
        "\n",
        "    # Classification baseline\n",
        "    model_cls = MultiTaskModel(img_size=640)\n",
        "    _, _, _, cls_acc_base, cls_train_times, cls_val_times = model_cls.train_stage(\n",
        "        stage=3,\n",
        "        train_loader=cls_train_loader,\n",
        "        val_loader=cls_val_loader,\n",
        "        criterion=cls_criterion,\n",
        "        num_epochs=10,\n",
        "    )\n",
        "\n",
        "    # Step 2: Sequential training with EWC\n",
        "    model = MultiTaskModel(img_size=640)\n",
        "    ewc_list = []\n",
        "\n",
        "    # Stage 1: Segmentation\n",
        "    print(\"Stage 1: Seg\")\n",
        "    seg_losses, seg_val_losses, seg_mious, _, ewc_seg_train_times, ewc_seg_val_times = model.train_stage(\n",
        "        stage=1,\n",
        "        train_loader=seg_train_loader,\n",
        "        val_loader=seg_val_loader,\n",
        "        criterion=seg_criterion,\n",
        "        num_epochs=10,\n",
        "    )\n",
        "    ewc_seg = EWC(model, seg_val_loader, device, importance=1000)\n",
        "    ewc_list.append(ewc_seg)\n",
        "\n",
        "    # Stage 2: Detection\n",
        "    print(\"Stage 2: Det\")\n",
        "    coco_gt = COCO('data/mini-coco_det/annotations/instances_val2017.json')\n",
        "    det_losses, det_val_losses, det_maps, _, ewc_det_train_times, ewc_det_val_times = model.train_stage(\n",
        "        stage=2,\n",
        "        train_loader=det_train_loader,\n",
        "        val_loader=det_val_loader,\n",
        "        criterion=det_criterion,\n",
        "        evaluate_map=lambda model, val_loader: evaluate_map(model, val_loader, coco_gt),\n",
        "        num_epochs=10,\n",
        "        prev_ewc=ewc_list,\n",
        "    )\n",
        "    ewc_det = EWC(model, det_val_loader, device, importance=1000)\n",
        "    ewc_list.append(ewc_det)\n",
        "\n",
        "    # Stage 3: Class\n",
        "    print(\"Stage 3: Class\")\n",
        "    cls_losses, cls_val_losses, cls_accs, _, ewc_cls_train_times, ewc_cls_val_times = model.train_stage(\n",
        "        stage=3,\n",
        "        train_loader=cls_train_loader,\n",
        "        val_loader=cls_val_loader,\n",
        "        criterion=cls_criterion,\n",
        "        num_epochs=10,\n",
        "        prev_ewc=ewc_list,\n",
        "    )\n",
        "\n",
        "    # Step 3: Evaluate forgetting\n",
        "    model.eval()\n",
        "    eval_start_time = time.time()  # 總評估開始時間\n",
        "\n",
        "    with torch.no_grad():\n",
        "        # Segmentation\n",
        "        seg_miou = 0\n",
        "        seg_eval_start = time.time()\n",
        "        for images, targets in seg_val_loader:\n",
        "            images, targets = images.to(device), targets.to(device)\n",
        "            outputs = model(images)[1]\n",
        "            preds = outputs.argmax(dim=1)\n",
        "            seg_miou += model.compute_iou(preds, targets, num_classes=20)\n",
        "        seg_miou /= len(seg_val_loader)\n",
        "        seg_eval_time = time.time() - seg_eval_start\n",
        "\n",
        "        # Detection\n",
        "        det_eval_start = time.time()\n",
        "        det_map = evaluate_map(model, det_val_loader, coco_gt)\n",
        "        det_eval_time = time.time() - det_eval_start\n",
        "\n",
        "        # Classification\n",
        "        cls_acc = 0\n",
        "        cls_eval_start = time.time()\n",
        "        for images, targets in cls_val_loader:\n",
        "            images, targets = images.to(device), targets.to(device)\n",
        "            outputs = model(images)[2]\n",
        "            preds = outputs.argmax(dim=1)\n",
        "            cls_acc += (preds == targets).float().mean().item()\n",
        "        cls_acc /= len(cls_val_loader)\n",
        "        cls_eval_time = time.time() - cls_eval_start\n",
        "\n",
        "    total_eval_time = time.time() - eval_start_time\n",
        "\n",
        "    # Performance drops\n",
        "    seg_drop = (seg_miou_base - seg_miou) * 100\n",
        "    det_drop = (det_map_base - det_map) * 100\n",
        "    cls_drop = (cls_acc_base - cls_acc) * 100\n",
        "\n",
        "    # Print results\n",
        "    print(f\"\\nFinal Evaluation:\")\n",
        "    print(f\"Segmentation mIoU: {seg_miou:.6f} (Baseline: {seg_miou_base:.6f}, Drop: {seg_drop:.4f}%)\")\n",
        "    print(f\"Detection mAP: {det_map:.6f} (Baseline: {det_map_base:.6f}, Drop: {det_drop:.4f}%)\")\n",
        "    print(f\"Classification Top-1 Acc: {cls_acc:.6f} (Baseline: {cls_acc_base:.6f}, Drop: {cls_drop:.4f}%)\")\n",
        "\n",
        "    # Verify drops\n",
        "    if (seg_drop <= 5.0) and (det_drop <= 5.0) and (cls_drop <= 5.0):\n",
        "        print(f\"Segmentation mIoU drop {seg_drop:.4f}% <= 5%\")\n",
        "        print(f\"Detection mAP drop {det_drop:.4f}% <= 5%\")\n",
        "        print(f\"Classification Top-1 Acc drop {cls_drop:.4f}% <= 5%\")\n",
        "        print(\"All performance drops are within 5% of baselines.\")\n",
        "    if seg_drop > 5.0:\n",
        "        print(f\"Segmentation mIoU drop {seg_drop:.4f}% > 5%\")\n",
        "    if det_drop > 5.0:\n",
        "        print(f\"Detection mAP drop {det_drop:.4f}% > 5%\")\n",
        "    if cls_drop > 5.0:\n",
        "        print(f\"Classification Top-1 Acc drop {cls_drop:.4f}% > 5%\")\n",
        "\n",
        "    print(f\"MultiTask Model Parameters: {count_parameters(model):,} (Million: {count_parameters(model)/1e6:.2f}M)\")\n",
        "    # Print timing and parameter summary\n",
        "    print(\"\\nTraining and Evaluation Time Summary:\")\n",
        "    print(f\"Segmentation Baseline - Total Train Time: {format_time(sum(seg_train_times))}, Total Val Time: {format_time(sum(seg_val_times))}\")\n",
        "    print(f\"Detection Baseline - Total Train Time: {format_time(sum(det_train_times))}, Total Val Time: {format_time(sum(det_val_times))}\")\n",
        "    print(f\"Classification Baseline - Total Train Time: {format_time(sum(cls_train_times))}, Total Val Time: {format_time(sum(cls_val_times))}\")\n",
        "    print(f\"EWC Stage 1 (Seg) - Total Train Time: {format_time(sum(ewc_seg_train_times))}, Total Val Time: {format_time(sum(ewc_seg_val_times))}\")\n",
        "    print(f\"EWC Stage 2 (Det) - Total Train Time: {format_time(sum(ewc_det_train_times))}, Total Val Time: {format_time(sum(ewc_det_val_times))}\")\n",
        "    print(f\"EWC Stage 3 (Cls) - Total Train Time: {format_time(sum(ewc_cls_train_times))}, Total Val Time: {format_time(sum(ewc_cls_val_times))}\")\n",
        "    print(f\"Evaluation Times - Seg: {format_time(seg_eval_time)}, Det: {format_time(det_eval_time)}, Cls: {format_time(cls_eval_time)}, Total: {format_time(total_eval_time)}\")\n",
        "if __name__ == \"__main__\":\n",
        "    main()"
      ],
      "metadata": {
        "colab": {
          "base_uri": "https://localhost:8080/"
        },
        "id": "7bO_AZUZ0zTt",
        "outputId": "d0f69cd7-1b58-40d5-d52d-82dd1ce686df"
      },
      "execution_count": null,
      "outputs": [
        {
          "output_type": "stream",
          "name": "stdout",
          "text": [
            "loading annotations into memory...\n",
            "Done (t=0.03s)\n",
            "creating index...\n",
            "index created!\n",
            "loading annotations into memory...\n",
            "Done (t=0.01s)\n",
            "creating index...\n",
            "index created!\n",
            "建立顏色對應表...\n",
            "找到 22 種顏色，映射為 0~19 有效類別 + 背景類\n",
            "顏色對應表:\n",
            "  RGB(0, 0, 0) -> 類別21\n",
            "  RGB(255, 255, 255) -> 類別21\n",
            "  RGB(np.uint8(0), np.uint8(0), np.uint8(128)) -> 類別0\n",
            "  RGB(np.uint8(0), np.uint8(64), np.uint8(0)) -> 類別1\n",
            "  RGB(np.uint8(0), np.uint8(64), np.uint8(128)) -> 類別2\n",
            "  RGB(np.uint8(0), np.uint8(128), np.uint8(0)) -> 類別3\n",
            "  RGB(np.uint8(0), np.uint8(128), np.uint8(128)) -> 類別4\n",
            "  RGB(np.uint8(0), np.uint8(192), np.uint8(0)) -> 類別5\n",
            "  RGB(np.uint8(64), np.uint8(0), np.uint8(0)) -> 類別6\n",
            "  RGB(np.uint8(64), np.uint8(0), np.uint8(128)) -> 類別7\n",
            "  RGB(np.uint8(64), np.uint8(128), np.uint8(0)) -> 類別8\n",
            "  RGB(np.uint8(64), np.uint8(128), np.uint8(128)) -> 類別9\n",
            "  RGB(np.uint8(128), np.uint8(0), np.uint8(0)) -> 類別10\n",
            "  RGB(np.uint8(128), np.uint8(0), np.uint8(128)) -> 類別11\n",
            "  RGB(np.uint8(128), np.uint8(64), np.uint8(0)) -> 類別12\n",
            "  RGB(np.uint8(128), np.uint8(128), np.uint8(0)) -> 類別13\n",
            "  RGB(np.uint8(128), np.uint8(128), np.uint8(128)) -> 類別14\n",
            "  RGB(np.uint8(128), np.uint8(192), np.uint8(0)) -> 類別15\n",
            "  RGB(np.uint8(192), np.uint8(0), np.uint8(0)) -> 類別16\n",
            "  RGB(np.uint8(192), np.uint8(0), np.uint8(128)) -> 類別17\n",
            "  RGB(np.uint8(192), np.uint8(128), np.uint8(0)) -> 類別18\n",
            "  RGB(np.uint8(192), np.uint8(128), np.uint8(128)) -> 類別19\n",
            "  RGB(np.uint8(224), np.uint8(224), np.uint8(192)) -> 類別21\n",
            "建立顏色對應表...\n",
            "找到 22 種顏色，映射為 0~19 有效類別 + 背景類\n",
            "顏色對應表:\n",
            "  RGB(0, 0, 0) -> 類別21\n",
            "  RGB(255, 255, 255) -> 類別21\n",
            "  RGB(np.uint8(0), np.uint8(0), np.uint8(128)) -> 類別0\n",
            "  RGB(np.uint8(0), np.uint8(64), np.uint8(0)) -> 類別1\n",
            "  RGB(np.uint8(0), np.uint8(64), np.uint8(128)) -> 類別2\n",
            "  RGB(np.uint8(0), np.uint8(128), np.uint8(0)) -> 類別3\n",
            "  RGB(np.uint8(0), np.uint8(128), np.uint8(128)) -> 類別4\n",
            "  RGB(np.uint8(0), np.uint8(192), np.uint8(0)) -> 類別5\n",
            "  RGB(np.uint8(64), np.uint8(0), np.uint8(0)) -> 類別6\n",
            "  RGB(np.uint8(64), np.uint8(0), np.uint8(128)) -> 類別7\n",
            "  RGB(np.uint8(64), np.uint8(128), np.uint8(0)) -> 類別8\n",
            "  RGB(np.uint8(64), np.uint8(128), np.uint8(128)) -> 類別9\n",
            "  RGB(np.uint8(128), np.uint8(0), np.uint8(0)) -> 類別10\n",
            "  RGB(np.uint8(128), np.uint8(0), np.uint8(128)) -> 類別11\n",
            "  RGB(np.uint8(128), np.uint8(64), np.uint8(0)) -> 類別12\n",
            "  RGB(np.uint8(128), np.uint8(128), np.uint8(0)) -> 類別13\n",
            "  RGB(np.uint8(128), np.uint8(128), np.uint8(128)) -> 類別14\n",
            "  RGB(np.uint8(128), np.uint8(192), np.uint8(0)) -> 類別15\n",
            "  RGB(np.uint8(192), np.uint8(0), np.uint8(0)) -> 類別16\n",
            "  RGB(np.uint8(192), np.uint8(0), np.uint8(128)) -> 類別17\n",
            "  RGB(np.uint8(192), np.uint8(128), np.uint8(0)) -> 類別18\n",
            "  RGB(np.uint8(192), np.uint8(128), np.uint8(128)) -> 類別19\n",
            "  RGB(np.uint8(224), np.uint8(224), np.uint8(192)) -> 類別21\n"
          ]
        },
        {
          "output_type": "stream",
          "name": "stderr",
          "text": [
            "Stage 1 Epoch 1 [Train]: 100%|██████████| 20/20 [01:03<00:00,  3.18s/it]\n",
            "Stage 1 Epoch 1 [Val]: 100%|██████████| 5/5 [00:14<00:00,  2.97s/it]\n"
          ]
        },
        {
          "output_type": "stream",
          "name": "stdout",
          "text": [
            "[Stage 1 Epoch 1] Train Loss: 2.2665, Val Loss: 1.6914, mIoU: 0.161316, Train Time: 00:01:03, Val Time: 00:00:14\n"
          ]
        },
        {
          "output_type": "stream",
          "name": "stderr",
          "text": [
            "Stage 1 Epoch 2 [Train]: 100%|██████████| 20/20 [01:04<00:00,  3.22s/it]\n",
            "Stage 1 Epoch 2 [Val]: 100%|██████████| 5/5 [00:14<00:00,  2.98s/it]\n"
          ]
        },
        {
          "output_type": "stream",
          "name": "stdout",
          "text": [
            "[Stage 1 Epoch 2] Train Loss: 1.5075, Val Loss: 1.0837, mIoU: 0.176216, Train Time: 00:01:04, Val Time: 00:00:14\n"
          ]
        },
        {
          "output_type": "stream",
          "name": "stderr",
          "text": [
            "Stage 1 Epoch 3 [Train]: 100%|██████████| 20/20 [01:03<00:00,  3.16s/it]\n",
            "Stage 1 Epoch 3 [Val]: 100%|██████████| 5/5 [00:14<00:00,  2.94s/it]\n"
          ]
        },
        {
          "output_type": "stream",
          "name": "stdout",
          "text": [
            "[Stage 1 Epoch 3] Train Loss: 1.3092, Val Loss: 1.1037, mIoU: 0.157063, Train Time: 00:01:03, Val Time: 00:00:14\n"
          ]
        },
        {
          "output_type": "stream",
          "name": "stderr",
          "text": [
            "Stage 1 Epoch 4 [Train]: 100%|██████████| 20/20 [01:04<00:00,  3.22s/it]\n",
            "Stage 1 Epoch 4 [Val]: 100%|██████████| 5/5 [00:14<00:00,  2.97s/it]\n"
          ]
        },
        {
          "output_type": "stream",
          "name": "stdout",
          "text": [
            "[Stage 1 Epoch 4] Train Loss: 1.1505, Val Loss: 0.9046, mIoU: 0.145822, Train Time: 00:01:04, Val Time: 00:00:14\n"
          ]
        },
        {
          "output_type": "stream",
          "name": "stderr",
          "text": [
            "Stage 1 Epoch 5 [Train]: 100%|██████████| 20/20 [01:03<00:00,  3.16s/it]\n",
            "Stage 1 Epoch 5 [Val]: 100%|██████████| 5/5 [00:14<00:00,  2.94s/it]\n"
          ]
        },
        {
          "output_type": "stream",
          "name": "stdout",
          "text": [
            "[Stage 1 Epoch 5] Train Loss: 0.9539, Val Loss: 0.9279, mIoU: 0.128969, Train Time: 00:01:03, Val Time: 00:00:14\n"
          ]
        },
        {
          "output_type": "stream",
          "name": "stderr",
          "text": [
            "Stage 1 Epoch 6 [Train]: 100%|██████████| 20/20 [01:04<00:00,  3.22s/it]\n",
            "Stage 1 Epoch 6 [Val]: 100%|██████████| 5/5 [00:14<00:00,  2.96s/it]\n"
          ]
        },
        {
          "output_type": "stream",
          "name": "stdout",
          "text": [
            "[Stage 1 Epoch 6] Train Loss: 0.8356, Val Loss: 1.0721, mIoU: 0.101539, Train Time: 00:01:04, Val Time: 00:00:14\n"
          ]
        },
        {
          "output_type": "stream",
          "name": "stderr",
          "text": [
            "Stage 1 Epoch 7 [Train]: 100%|██████████| 20/20 [01:02<00:00,  3.11s/it]\n",
            "Stage 1 Epoch 7 [Val]: 100%|██████████| 5/5 [00:15<00:00,  3.12s/it]\n"
          ]
        },
        {
          "output_type": "stream",
          "name": "stdout",
          "text": [
            "[Stage 1 Epoch 7] Train Loss: 0.8585, Val Loss: 1.0725, mIoU: 0.118210, Train Time: 00:01:02, Val Time: 00:00:15\n"
          ]
        },
        {
          "output_type": "stream",
          "name": "stderr",
          "text": [
            "Stage 1 Epoch 8 [Train]: 100%|██████████| 20/20 [01:03<00:00,  3.16s/it]\n",
            "Stage 1 Epoch 8 [Val]: 100%|██████████| 5/5 [00:15<00:00,  3.11s/it]\n"
          ]
        },
        {
          "output_type": "stream",
          "name": "stdout",
          "text": [
            "[Stage 1 Epoch 8] Train Loss: 0.7346, Val Loss: 0.9006, mIoU: 0.116909, Train Time: 00:01:03, Val Time: 00:00:15\n"
          ]
        },
        {
          "output_type": "stream",
          "name": "stderr",
          "text": [
            "Stage 1 Epoch 9 [Train]: 100%|██████████| 20/20 [01:02<00:00,  3.13s/it]\n",
            "Stage 1 Epoch 9 [Val]: 100%|██████████| 5/5 [00:14<00:00,  2.96s/it]\n"
          ]
        },
        {
          "output_type": "stream",
          "name": "stdout",
          "text": [
            "[Stage 1 Epoch 9] Train Loss: 0.6977, Val Loss: 0.8340, mIoU: 0.127384, Train Time: 00:01:02, Val Time: 00:00:14\n"
          ]
        },
        {
          "output_type": "stream",
          "name": "stderr",
          "text": [
            "Stage 1 Epoch 10 [Train]: 100%|██████████| 20/20 [01:04<00:00,  3.23s/it]\n",
            "Stage 1 Epoch 10 [Val]: 100%|██████████| 5/5 [00:14<00:00,  2.96s/it]\n"
          ]
        },
        {
          "output_type": "stream",
          "name": "stdout",
          "text": [
            "[Stage 1 Epoch 10] Train Loss: 0.6474, Val Loss: 0.8936, mIoU: 0.117914, Train Time: 00:01:04, Val Time: 00:00:14\n",
            "Stage 1 Total Training Time: 00:10:35, Total Validation Time: 00:02:29\n",
            "loading annotations into memory...\n",
            "Done (t=0.01s)\n",
            "creating index...\n",
            "index created!\n"
          ]
        },
        {
          "output_type": "stream",
          "name": "stderr",
          "text": [
            "Stage 2 Epoch 1 [Train]: 100%|██████████| 20/20 [00:10<00:00,  1.99it/s]\n",
            "Stage 2 Epoch 1 [Val]:   0%|          | 0/5 [00:00<?, ?it/s]\n",
            "Evaluating:   0%|          | 0/5 [00:00<?, ?it/s]\u001b[A\n",
            "Evaluating:  20%|██        | 1/5 [00:00<00:01,  3.21it/s]\u001b[A\n",
            "Evaluating:  40%|████      | 2/5 [00:00<00:01,  2.36it/s]\u001b[A\n",
            "Evaluating:  60%|██████    | 3/5 [00:01<00:00,  2.78it/s]\u001b[A\n",
            "Evaluating:  80%|████████  | 4/5 [00:01<00:00,  2.98it/s]\u001b[A\n",
            "Evaluating: 100%|██████████| 5/5 [00:01<00:00,  2.94it/s]\n"
          ]
        },
        {
          "output_type": "stream",
          "name": "stdout",
          "text": [
            "Total detections: 46819\n",
            "Loading and preparing results...\n",
            "DONE (t=0.36s)\n",
            "creating index...\n",
            "index created!\n",
            "Running per image evaluation...\n",
            "Evaluate annotation type *bbox*\n",
            "DONE (t=1.11s).\n",
            "Accumulating evaluation results...\n",
            "DONE (t=0.09s).\n",
            " Average Precision  (AP) @[ IoU=0.50:0.95 | area=   all | maxDets=100 ] = 0.000\n",
            " Average Precision  (AP) @[ IoU=0.50      | area=   all | maxDets=100 ] = 0.000\n",
            " Average Precision  (AP) @[ IoU=0.75      | area=   all | maxDets=100 ] = 0.000\n",
            " Average Precision  (AP) @[ IoU=0.50:0.95 | area= small | maxDets=100 ] = 0.000\n",
            " Average Precision  (AP) @[ IoU=0.50:0.95 | area=medium | maxDets=100 ] = 0.000\n",
            " Average Precision  (AP) @[ IoU=0.50:0.95 | area= large | maxDets=100 ] = 0.000\n",
            " Average Recall     (AR) @[ IoU=0.50:0.95 | area=   all | maxDets=  1 ] = 0.000\n",
            " Average Recall     (AR) @[ IoU=0.50:0.95 | area=   all | maxDets= 10 ] = 0.000\n",
            " Average Recall     (AR) @[ IoU=0.50:0.95 | area=   all | maxDets=100 ] = 0.000\n",
            " Average Recall     (AR) @[ IoU=0.50:0.95 | area= small | maxDets=100 ] = 0.000\n",
            " Average Recall     (AR) @[ IoU=0.50:0.95 | area=medium | maxDets=100 ] = 0.001\n",
            " Average Recall     (AR) @[ IoU=0.50:0.95 | area= large | maxDets=100 ] = 0.000\n"
          ]
        },
        {
          "output_type": "stream",
          "name": "stderr",
          "text": [
            "Stage 2 Epoch 1 [Val]:  20%|██        | 1/5 [00:04<00:17,  4.44s/it]\n",
            "Evaluating:   0%|          | 0/5 [00:00<?, ?it/s]\u001b[A\n",
            "Evaluating:  20%|██        | 1/5 [00:00<00:01,  3.02it/s]\u001b[A\n",
            "Evaluating:  40%|████      | 2/5 [00:00<00:00,  3.14it/s]\u001b[A\n",
            "Evaluating:  60%|██████    | 3/5 [00:00<00:00,  3.25it/s]\u001b[A\n",
            "Evaluating:  80%|████████  | 4/5 [00:01<00:00,  3.18it/s]\u001b[A\n",
            "Evaluating: 100%|██████████| 5/5 [00:01<00:00,  2.98it/s]\n"
          ]
        },
        {
          "output_type": "stream",
          "name": "stdout",
          "text": [
            "Total detections: 46819\n",
            "Loading and preparing results...\n",
            "DONE (t=0.53s)\n",
            "creating index...\n",
            "index created!\n",
            "Running per image evaluation...\n",
            "Evaluate annotation type *bbox*\n"
          ]
        },
        {
          "output_type": "stream",
          "name": "stderr",
          "text": [
            "\rStage 2 Epoch 1 [Val]:  40%|████      | 2/5 [00:09<00:14,  4.98s/it]"
          ]
        },
        {
          "output_type": "stream",
          "name": "stdout",
          "text": [
            "DONE (t=1.25s).\n",
            "Accumulating evaluation results...\n",
            "DONE (t=0.10s).\n",
            " Average Precision  (AP) @[ IoU=0.50:0.95 | area=   all | maxDets=100 ] = 0.000\n",
            " Average Precision  (AP) @[ IoU=0.50      | area=   all | maxDets=100 ] = 0.000\n",
            " Average Precision  (AP) @[ IoU=0.75      | area=   all | maxDets=100 ] = 0.000\n",
            " Average Precision  (AP) @[ IoU=0.50:0.95 | area= small | maxDets=100 ] = 0.000\n",
            " Average Precision  (AP) @[ IoU=0.50:0.95 | area=medium | maxDets=100 ] = 0.000\n",
            " Average Precision  (AP) @[ IoU=0.50:0.95 | area= large | maxDets=100 ] = 0.000\n",
            " Average Recall     (AR) @[ IoU=0.50:0.95 | area=   all | maxDets=  1 ] = 0.000\n",
            " Average Recall     (AR) @[ IoU=0.50:0.95 | area=   all | maxDets= 10 ] = 0.000\n",
            " Average Recall     (AR) @[ IoU=0.50:0.95 | area=   all | maxDets=100 ] = 0.000\n",
            " Average Recall     (AR) @[ IoU=0.50:0.95 | area= small | maxDets=100 ] = 0.000\n",
            " Average Recall     (AR) @[ IoU=0.50:0.95 | area=medium | maxDets=100 ] = 0.001\n",
            " Average Recall     (AR) @[ IoU=0.50:0.95 | area= large | maxDets=100 ] = 0.000\n"
          ]
        },
        {
          "output_type": "stream",
          "name": "stderr",
          "text": [
            "\n",
            "Evaluating:   0%|          | 0/5 [00:00<?, ?it/s]\u001b[A\n",
            "Evaluating:  20%|██        | 1/5 [00:00<00:01,  2.98it/s]\u001b[A\n",
            "Evaluating:  40%|████      | 2/5 [00:00<00:01,  2.45it/s]\u001b[A\n",
            "Evaluating:  60%|██████    | 3/5 [00:01<00:00,  2.79it/s]\u001b[A\n",
            "Evaluating:  80%|████████  | 4/5 [00:01<00:00,  2.96it/s]\u001b[A\n",
            "Evaluating: 100%|██████████| 5/5 [00:01<00:00,  2.93it/s]\n"
          ]
        },
        {
          "output_type": "stream",
          "name": "stdout",
          "text": [
            "Total detections: 46819\n",
            "Loading and preparing results...\n",
            "DONE (t=0.56s)\n",
            "creating index...\n",
            "index created!\n",
            "Running per image evaluation...\n",
            "Evaluate annotation type *bbox*\n"
          ]
        },
        {
          "output_type": "stream",
          "name": "stderr",
          "text": [
            "\rStage 2 Epoch 1 [Val]:  60%|██████    | 3/5 [00:14<00:09,  4.74s/it]"
          ]
        },
        {
          "output_type": "stream",
          "name": "stdout",
          "text": [
            "DONE (t=0.93s).\n",
            "Accumulating evaluation results...\n",
            "DONE (t=0.10s).\n",
            " Average Precision  (AP) @[ IoU=0.50:0.95 | area=   all | maxDets=100 ] = 0.000\n",
            " Average Precision  (AP) @[ IoU=0.50      | area=   all | maxDets=100 ] = 0.000\n",
            " Average Precision  (AP) @[ IoU=0.75      | area=   all | maxDets=100 ] = 0.000\n",
            " Average Precision  (AP) @[ IoU=0.50:0.95 | area= small | maxDets=100 ] = 0.000\n",
            " Average Precision  (AP) @[ IoU=0.50:0.95 | area=medium | maxDets=100 ] = 0.000\n",
            " Average Precision  (AP) @[ IoU=0.50:0.95 | area= large | maxDets=100 ] = 0.000\n",
            " Average Recall     (AR) @[ IoU=0.50:0.95 | area=   all | maxDets=  1 ] = 0.000\n",
            " Average Recall     (AR) @[ IoU=0.50:0.95 | area=   all | maxDets= 10 ] = 0.000\n",
            " Average Recall     (AR) @[ IoU=0.50:0.95 | area=   all | maxDets=100 ] = 0.000\n",
            " Average Recall     (AR) @[ IoU=0.50:0.95 | area= small | maxDets=100 ] = 0.000\n",
            " Average Recall     (AR) @[ IoU=0.50:0.95 | area=medium | maxDets=100 ] = 0.001\n",
            " Average Recall     (AR) @[ IoU=0.50:0.95 | area= large | maxDets=100 ] = 0.000\n"
          ]
        },
        {
          "output_type": "stream",
          "name": "stderr",
          "text": [
            "\n",
            "Evaluating:   0%|          | 0/5 [00:00<?, ?it/s]\u001b[A\n",
            "Evaluating:  20%|██        | 1/5 [00:00<00:01,  3.22it/s]\u001b[A\n",
            "Evaluating:  40%|████      | 2/5 [00:00<00:00,  3.28it/s]\u001b[A\n",
            "Evaluating:  60%|██████    | 3/5 [00:00<00:00,  3.34it/s]\u001b[A\n",
            "Evaluating:  80%|████████  | 4/5 [00:01<00:00,  3.28it/s]\u001b[A\n",
            "Evaluating: 100%|██████████| 5/5 [00:01<00:00,  3.28it/s]\n"
          ]
        },
        {
          "output_type": "stream",
          "name": "stdout",
          "text": [
            "Total detections: 46819\n",
            "Loading and preparing results...\n",
            "DONE (t=0.36s)\n",
            "creating index...\n",
            "index created!\n",
            "Running per image evaluation...\n",
            "Evaluate annotation type *bbox*\n"
          ]
        },
        {
          "output_type": "stream",
          "name": "stderr",
          "text": [
            "\rStage 2 Epoch 1 [Val]:  80%|████████  | 4/5 [00:18<00:04,  4.47s/it]"
          ]
        },
        {
          "output_type": "stream",
          "name": "stdout",
          "text": [
            "DONE (t=0.91s).\n",
            "Accumulating evaluation results...\n",
            "DONE (t=0.10s).\n",
            " Average Precision  (AP) @[ IoU=0.50:0.95 | area=   all | maxDets=100 ] = 0.000\n",
            " Average Precision  (AP) @[ IoU=0.50      | area=   all | maxDets=100 ] = 0.000\n",
            " Average Precision  (AP) @[ IoU=0.75      | area=   all | maxDets=100 ] = 0.000\n",
            " Average Precision  (AP) @[ IoU=0.50:0.95 | area= small | maxDets=100 ] = 0.000\n",
            " Average Precision  (AP) @[ IoU=0.50:0.95 | area=medium | maxDets=100 ] = 0.000\n",
            " Average Precision  (AP) @[ IoU=0.50:0.95 | area= large | maxDets=100 ] = 0.000\n",
            " Average Recall     (AR) @[ IoU=0.50:0.95 | area=   all | maxDets=  1 ] = 0.000\n",
            " Average Recall     (AR) @[ IoU=0.50:0.95 | area=   all | maxDets= 10 ] = 0.000\n",
            " Average Recall     (AR) @[ IoU=0.50:0.95 | area=   all | maxDets=100 ] = 0.000\n",
            " Average Recall     (AR) @[ IoU=0.50:0.95 | area= small | maxDets=100 ] = 0.000\n",
            " Average Recall     (AR) @[ IoU=0.50:0.95 | area=medium | maxDets=100 ] = 0.001\n",
            " Average Recall     (AR) @[ IoU=0.50:0.95 | area= large | maxDets=100 ] = 0.000\n"
          ]
        },
        {
          "output_type": "stream",
          "name": "stderr",
          "text": [
            "\n",
            "Evaluating:   0%|          | 0/5 [00:00<?, ?it/s]\u001b[A\n",
            "Evaluating:  20%|██        | 1/5 [00:00<00:01,  2.10it/s]\u001b[A\n",
            "Evaluating:  40%|████      | 2/5 [00:00<00:01,  2.45it/s]\u001b[A\n",
            "Evaluating:  60%|██████    | 3/5 [00:01<00:00,  2.51it/s]\u001b[A\n",
            "Evaluating:  80%|████████  | 4/5 [00:01<00:00,  2.52it/s]\u001b[A\n",
            "Evaluating: 100%|██████████| 5/5 [00:02<00:00,  2.47it/s]\n"
          ]
        },
        {
          "output_type": "stream",
          "name": "stdout",
          "text": [
            "Total detections: 46819\n",
            "Loading and preparing results...\n",
            "DONE (t=0.66s)\n",
            "creating index...\n",
            "index created!\n",
            "Running per image evaluation...\n",
            "Evaluate annotation type *bbox*\n"
          ]
        },
        {
          "output_type": "stream",
          "name": "stderr",
          "text": [
            "Stage 2 Epoch 1 [Val]: 100%|██████████| 5/5 [00:23<00:00,  4.76s/it]"
          ]
        },
        {
          "output_type": "stream",
          "name": "stdout",
          "text": [
            "DONE (t=0.91s).\n",
            "Accumulating evaluation results...\n",
            "DONE (t=0.10s).\n",
            " Average Precision  (AP) @[ IoU=0.50:0.95 | area=   all | maxDets=100 ] = 0.000\n",
            " Average Precision  (AP) @[ IoU=0.50      | area=   all | maxDets=100 ] = 0.000\n",
            " Average Precision  (AP) @[ IoU=0.75      | area=   all | maxDets=100 ] = 0.000\n",
            " Average Precision  (AP) @[ IoU=0.50:0.95 | area= small | maxDets=100 ] = 0.000\n",
            " Average Precision  (AP) @[ IoU=0.50:0.95 | area=medium | maxDets=100 ] = 0.000\n",
            " Average Precision  (AP) @[ IoU=0.50:0.95 | area= large | maxDets=100 ] = 0.000\n",
            " Average Recall     (AR) @[ IoU=0.50:0.95 | area=   all | maxDets=  1 ] = 0.000\n",
            " Average Recall     (AR) @[ IoU=0.50:0.95 | area=   all | maxDets= 10 ] = 0.000\n",
            " Average Recall     (AR) @[ IoU=0.50:0.95 | area=   all | maxDets=100 ] = 0.000\n",
            " Average Recall     (AR) @[ IoU=0.50:0.95 | area= small | maxDets=100 ] = 0.000\n",
            " Average Recall     (AR) @[ IoU=0.50:0.95 | area=medium | maxDets=100 ] = 0.001\n",
            " Average Recall     (AR) @[ IoU=0.50:0.95 | area= large | maxDets=100 ] = 0.000\n"
          ]
        },
        {
          "output_type": "stream",
          "name": "stderr",
          "text": [
            "\n"
          ]
        },
        {
          "output_type": "stream",
          "name": "stdout",
          "text": [
            "[Stage 2 Epoch 1] Train Loss: 0.8683, Val Loss: 0.6252, mAP: 0.000000, Train Time: 00:00:10, Val Time: 00:00:23\n"
          ]
        },
        {
          "output_type": "stream",
          "name": "stderr",
          "text": [
            "Stage 2 Epoch 2 [Train]: 100%|██████████| 20/20 [00:09<00:00,  2.11it/s]\n",
            "Stage 2 Epoch 2 [Val]:   0%|          | 0/5 [00:00<?, ?it/s]\n",
            "Evaluating:   0%|          | 0/5 [00:00<?, ?it/s]\u001b[A\n",
            "Evaluating:  20%|██        | 1/5 [00:00<00:01,  2.33it/s]\u001b[A\n",
            "Evaluating:  40%|████      | 2/5 [00:00<00:01,  2.39it/s]\u001b[A\n",
            "Evaluating:  60%|██████    | 3/5 [00:01<00:00,  2.39it/s]\u001b[A\n",
            "Evaluating:  80%|████████  | 4/5 [00:01<00:00,  2.37it/s]\u001b[A\n",
            "Evaluating: 100%|██████████| 5/5 [00:02<00:00,  2.21it/s]\n"
          ]
        },
        {
          "output_type": "stream",
          "name": "stdout",
          "text": [
            "Total detections: 74869\n",
            "Loading and preparing results...\n",
            "DONE (t=0.72s)\n",
            "creating index...\n",
            "index created!\n",
            "Running per image evaluation...\n",
            "Evaluate annotation type *bbox*\n",
            "DONE (t=1.08s).\n",
            "Accumulating evaluation results...\n",
            "DONE (t=0.13s).\n",
            " Average Precision  (AP) @[ IoU=0.50:0.95 | area=   all | maxDets=100 ] = 0.002\n",
            " Average Precision  (AP) @[ IoU=0.50      | area=   all | maxDets=100 ] = 0.013\n",
            " Average Precision  (AP) @[ IoU=0.75      | area=   all | maxDets=100 ] = 0.001\n",
            " Average Precision  (AP) @[ IoU=0.50:0.95 | area= small | maxDets=100 ] = 0.000\n",
            " Average Precision  (AP) @[ IoU=0.50:0.95 | area=medium | maxDets=100 ] = 0.000\n",
            " Average Precision  (AP) @[ IoU=0.50:0.95 | area= large | maxDets=100 ] = 0.006\n",
            " Average Recall     (AR) @[ IoU=0.50:0.95 | area=   all | maxDets=  1 ] = 0.001\n",
            " Average Recall     (AR) @[ IoU=0.50:0.95 | area=   all | maxDets= 10 ] = 0.001\n",
            " Average Recall     (AR) @[ IoU=0.50:0.95 | area=   all | maxDets=100 ] = 0.001\n",
            " Average Recall     (AR) @[ IoU=0.50:0.95 | area= small | maxDets=100 ] = 0.000\n",
            " Average Recall     (AR) @[ IoU=0.50:0.95 | area=medium | maxDets=100 ] = 0.000\n",
            " Average Recall     (AR) @[ IoU=0.50:0.95 | area= large | maxDets=100 ] = 0.006\n"
          ]
        },
        {
          "output_type": "stream",
          "name": "stderr",
          "text": [
            "Stage 2 Epoch 2 [Val]:  20%|██        | 1/5 [00:05<00:23,  5.94s/it]\n",
            "Evaluating:   0%|          | 0/5 [00:00<?, ?it/s]\u001b[A\n",
            "Evaluating:  20%|██        | 1/5 [00:00<00:01,  2.98it/s]\u001b[A\n",
            "Evaluating:  40%|████      | 2/5 [00:00<00:00,  3.15it/s]\u001b[A\n",
            "Evaluating:  60%|██████    | 3/5 [00:00<00:00,  3.13it/s]\u001b[A\n",
            "Evaluating:  80%|████████  | 4/5 [00:01<00:00,  3.12it/s]\u001b[A\n",
            "Evaluating: 100%|██████████| 5/5 [00:01<00:00,  3.11it/s]\n"
          ]
        },
        {
          "output_type": "stream",
          "name": "stdout",
          "text": [
            "Total detections: 74869\n",
            "Loading and preparing results...\n",
            "DONE (t=0.67s)\n",
            "creating index...\n",
            "index created!\n",
            "Running per image evaluation...\n",
            "Evaluate annotation type *bbox*\n",
            "DONE (t=1.07s).\n",
            "Accumulating evaluation results...\n",
            "DONE (t=0.14s).\n",
            " Average Precision  (AP) @[ IoU=0.50:0.95 | area=   all | maxDets=100 ] = 0.002\n",
            " Average Precision  (AP) @[ IoU=0.50      | area=   all | maxDets=100 ] = 0.013\n",
            " Average Precision  (AP) @[ IoU=0.75      | area=   all | maxDets=100 ] = 0.001\n",
            " Average Precision  (AP) @[ IoU=0.50:0.95 | area= small | maxDets=100 ] = 0.000\n",
            " Average Precision  (AP) @[ IoU=0.50:0.95 | area=medium | maxDets=100 ] = 0.000\n",
            " Average Precision  (AP) @[ IoU=0.50:0.95 | area= large | maxDets=100 ] = 0.006\n",
            " Average Recall     (AR) @[ IoU=0.50:0.95 | area=   all | maxDets=  1 ] = 0.001\n",
            " Average Recall     (AR) @[ IoU=0.50:0.95 | area=   all | maxDets= 10 ] = 0.001\n",
            " Average Recall     (AR) @[ IoU=0.50:0.95 | area=   all | maxDets=100 ] = 0.001\n",
            " Average Recall     (AR) @[ IoU=0.50:0.95 | area= small | maxDets=100 ] = 0.000\n",
            " Average Recall     (AR) @[ IoU=0.50:0.95 | area=medium | maxDets=100 ] = 0.000\n",
            " Average Recall     (AR) @[ IoU=0.50:0.95 | area= large | maxDets=100 ] = 0.006\n"
          ]
        },
        {
          "output_type": "stream",
          "name": "stderr",
          "text": [
            "Stage 2 Epoch 2 [Val]:  40%|████      | 2/5 [00:11<00:16,  5.45s/it]\n",
            "Evaluating:   0%|          | 0/5 [00:00<?, ?it/s]\u001b[A\n",
            "Evaluating:  20%|██        | 1/5 [00:00<00:01,  2.08it/s]\u001b[A\n",
            "Evaluating:  40%|████      | 2/5 [00:00<00:01,  2.67it/s]\u001b[A\n",
            "Evaluating:  60%|██████    | 3/5 [00:01<00:00,  2.68it/s]\u001b[A\n",
            "Evaluating:  80%|████████  | 4/5 [00:01<00:00,  2.55it/s]\u001b[A\n",
            "Evaluating: 100%|██████████| 5/5 [00:02<00:00,  2.23it/s]\n"
          ]
        },
        {
          "output_type": "stream",
          "name": "stdout",
          "text": [
            "Total detections: 74869\n",
            "Loading and preparing results...\n",
            "DONE (t=0.70s)\n",
            "creating index...\n",
            "index created!\n",
            "Running per image evaluation...\n",
            "Evaluate annotation type *bbox*\n",
            "DONE (t=1.12s).\n",
            "Accumulating evaluation results...\n",
            "DONE (t=0.14s).\n",
            " Average Precision  (AP) @[ IoU=0.50:0.95 | area=   all | maxDets=100 ] = 0.002\n",
            " Average Precision  (AP) @[ IoU=0.50      | area=   all | maxDets=100 ] = 0.013\n",
            " Average Precision  (AP) @[ IoU=0.75      | area=   all | maxDets=100 ] = 0.001\n",
            " Average Precision  (AP) @[ IoU=0.50:0.95 | area= small | maxDets=100 ] = 0.000\n",
            " Average Precision  (AP) @[ IoU=0.50:0.95 | area=medium | maxDets=100 ] = 0.000\n",
            " Average Precision  (AP) @[ IoU=0.50:0.95 | area= large | maxDets=100 ] = 0.006\n",
            " Average Recall     (AR) @[ IoU=0.50:0.95 | area=   all | maxDets=  1 ] = 0.001\n",
            " Average Recall     (AR) @[ IoU=0.50:0.95 | area=   all | maxDets= 10 ] = 0.001\n",
            " Average Recall     (AR) @[ IoU=0.50:0.95 | area=   all | maxDets=100 ] = 0.001\n",
            " Average Recall     (AR) @[ IoU=0.50:0.95 | area= small | maxDets=100 ] = 0.000\n",
            " Average Recall     (AR) @[ IoU=0.50:0.95 | area=medium | maxDets=100 ] = 0.000\n",
            " Average Recall     (AR) @[ IoU=0.50:0.95 | area= large | maxDets=100 ] = 0.006\n"
          ]
        },
        {
          "output_type": "stream",
          "name": "stderr",
          "text": [
            "Stage 2 Epoch 2 [Val]:  60%|██████    | 3/5 [00:17<00:12,  6.05s/it]\n",
            "Evaluating:   0%|          | 0/5 [00:00<?, ?it/s]\u001b[A\n",
            "Evaluating:  20%|██        | 1/5 [00:00<00:01,  3.15it/s]\u001b[A\n",
            "Evaluating:  40%|████      | 2/5 [00:00<00:00,  3.18it/s]\u001b[A\n",
            "Evaluating:  60%|██████    | 3/5 [00:00<00:00,  3.09it/s]\u001b[A\n",
            "Evaluating:  80%|████████  | 4/5 [00:01<00:00,  3.16it/s]\u001b[A\n",
            "Evaluating: 100%|██████████| 5/5 [00:01<00:00,  3.14it/s]\n"
          ]
        },
        {
          "output_type": "stream",
          "name": "stdout",
          "text": [
            "Total detections: 74869\n",
            "Loading and preparing results...\n",
            "DONE (t=0.68s)\n",
            "creating index...\n",
            "index created!\n",
            "Running per image evaluation...\n",
            "Evaluate annotation type *bbox*\n",
            "DONE (t=1.09s).\n",
            "Accumulating evaluation results...\n",
            "DONE (t=0.15s).\n",
            " Average Precision  (AP) @[ IoU=0.50:0.95 | area=   all | maxDets=100 ] = 0.002\n",
            " Average Precision  (AP) @[ IoU=0.50      | area=   all | maxDets=100 ] = 0.013\n",
            " Average Precision  (AP) @[ IoU=0.75      | area=   all | maxDets=100 ] = 0.001\n",
            " Average Precision  (AP) @[ IoU=0.50:0.95 | area= small | maxDets=100 ] = 0.000\n",
            " Average Precision  (AP) @[ IoU=0.50:0.95 | area=medium | maxDets=100 ] = 0.000\n",
            " Average Precision  (AP) @[ IoU=0.50:0.95 | area= large | maxDets=100 ] = 0.006\n",
            " Average Recall     (AR) @[ IoU=0.50:0.95 | area=   all | maxDets=  1 ] = 0.001\n",
            " Average Recall     (AR) @[ IoU=0.50:0.95 | area=   all | maxDets= 10 ] = 0.001\n",
            " Average Recall     (AR) @[ IoU=0.50:0.95 | area=   all | maxDets=100 ] = 0.001\n",
            " Average Recall     (AR) @[ IoU=0.50:0.95 | area= small | maxDets=100 ] = 0.000\n",
            " Average Recall     (AR) @[ IoU=0.50:0.95 | area=medium | maxDets=100 ] = 0.000\n",
            " Average Recall     (AR) @[ IoU=0.50:0.95 | area= large | maxDets=100 ] = 0.006\n"
          ]
        },
        {
          "output_type": "stream",
          "name": "stderr",
          "text": [
            "Stage 2 Epoch 2 [Val]:  80%|████████  | 4/5 [00:22<00:05,  5.70s/it]\n",
            "Evaluating:   0%|          | 0/5 [00:00<?, ?it/s]\u001b[A\n",
            "Evaluating:  20%|██        | 1/5 [00:00<00:01,  2.08it/s]\u001b[A\n",
            "Evaluating:  40%|████      | 2/5 [00:00<00:01,  2.61it/s]\u001b[A\n",
            "Evaluating:  60%|██████    | 3/5 [00:01<00:00,  2.76it/s]\u001b[A\n",
            "Evaluating:  80%|████████  | 4/5 [00:01<00:00,  2.42it/s]\u001b[A\n",
            "Evaluating: 100%|██████████| 5/5 [00:01<00:00,  2.54it/s]\n"
          ]
        },
        {
          "output_type": "stream",
          "name": "stdout",
          "text": [
            "Total detections: 74869\n",
            "Loading and preparing results...\n",
            "DONE (t=1.01s)\n",
            "creating index...\n",
            "index created!\n",
            "Running per image evaluation...\n",
            "Evaluate annotation type *bbox*\n",
            "DONE (t=1.30s).\n",
            "Accumulating evaluation results...\n",
            "DONE (t=0.13s).\n",
            " Average Precision  (AP) @[ IoU=0.50:0.95 | area=   all | maxDets=100 ] = 0.002\n",
            " Average Precision  (AP) @[ IoU=0.50      | area=   all | maxDets=100 ] = 0.013\n",
            " Average Precision  (AP) @[ IoU=0.75      | area=   all | maxDets=100 ] = 0.001\n",
            " Average Precision  (AP) @[ IoU=0.50:0.95 | area= small | maxDets=100 ] = 0.000\n",
            " Average Precision  (AP) @[ IoU=0.50:0.95 | area=medium | maxDets=100 ] = 0.000\n",
            " Average Precision  (AP) @[ IoU=0.50:0.95 | area= large | maxDets=100 ] = 0.006\n",
            " Average Recall     (AR) @[ IoU=0.50:0.95 | area=   all | maxDets=  1 ] = 0.001\n",
            " Average Recall     (AR) @[ IoU=0.50:0.95 | area=   all | maxDets= 10 ] = 0.001\n",
            " Average Recall     (AR) @[ IoU=0.50:0.95 | area=   all | maxDets=100 ] = 0.001\n",
            " Average Recall     (AR) @[ IoU=0.50:0.95 | area= small | maxDets=100 ] = 0.000\n",
            " Average Recall     (AR) @[ IoU=0.50:0.95 | area=medium | maxDets=100 ] = 0.000\n",
            " Average Recall     (AR) @[ IoU=0.50:0.95 | area= large | maxDets=100 ] = 0.006\n"
          ]
        },
        {
          "output_type": "stream",
          "name": "stderr",
          "text": [
            "Stage 2 Epoch 2 [Val]: 100%|██████████| 5/5 [00:29<00:00,  5.97s/it]\n"
          ]
        },
        {
          "output_type": "stream",
          "name": "stdout",
          "text": [
            "[Stage 2 Epoch 2] Train Loss: 0.7321, Val Loss: 0.5826, mAP: 0.001782, Train Time: 00:00:09, Val Time: 00:00:29\n"
          ]
        },
        {
          "output_type": "stream",
          "name": "stderr",
          "text": [
            "Stage 2 Epoch 3 [Train]: 100%|██████████| 20/20 [00:09<00:00,  2.15it/s]\n",
            "Stage 2 Epoch 3 [Val]:   0%|          | 0/5 [00:00<?, ?it/s]\n",
            "Evaluating:   0%|          | 0/5 [00:00<?, ?it/s]\u001b[A\n",
            "Evaluating:  20%|██        | 1/5 [00:00<00:01,  2.29it/s]\u001b[A\n",
            "Evaluating:  40%|████      | 2/5 [00:00<00:01,  2.34it/s]\u001b[A\n",
            "Evaluating:  60%|██████    | 3/5 [00:01<00:00,  2.38it/s]\u001b[A\n",
            "Evaluating:  80%|████████  | 4/5 [00:01<00:00,  2.43it/s]\u001b[A\n",
            "Evaluating: 100%|██████████| 5/5 [00:02<00:00,  2.12it/s]\n"
          ]
        },
        {
          "output_type": "stream",
          "name": "stdout",
          "text": [
            "Total detections: 76976\n",
            "Loading and preparing results...\n",
            "DONE (t=0.73s)\n",
            "creating index...\n",
            "index created!\n",
            "Running per image evaluation...\n",
            "Evaluate annotation type *bbox*\n",
            "DONE (t=1.08s).\n",
            "Accumulating evaluation results...\n",
            "DONE (t=0.12s).\n",
            " Average Precision  (AP) @[ IoU=0.50:0.95 | area=   all | maxDets=100 ] = 0.002\n",
            " Average Precision  (AP) @[ IoU=0.50      | area=   all | maxDets=100 ] = 0.019\n",
            " Average Precision  (AP) @[ IoU=0.75      | area=   all | maxDets=100 ] = 0.000\n",
            " Average Precision  (AP) @[ IoU=0.50:0.95 | area= small | maxDets=100 ] = 0.000\n",
            " Average Precision  (AP) @[ IoU=0.50:0.95 | area=medium | maxDets=100 ] = 0.000\n",
            " Average Precision  (AP) @[ IoU=0.50:0.95 | area= large | maxDets=100 ] = 0.004\n",
            " Average Recall     (AR) @[ IoU=0.50:0.95 | area=   all | maxDets=  1 ] = 0.001\n",
            " Average Recall     (AR) @[ IoU=0.50:0.95 | area=   all | maxDets= 10 ] = 0.003\n",
            " Average Recall     (AR) @[ IoU=0.50:0.95 | area=   all | maxDets=100 ] = 0.014\n",
            " Average Recall     (AR) @[ IoU=0.50:0.95 | area= small | maxDets=100 ] = 0.000\n",
            " Average Recall     (AR) @[ IoU=0.50:0.95 | area=medium | maxDets=100 ] = 0.013\n",
            " Average Recall     (AR) @[ IoU=0.50:0.95 | area= large | maxDets=100 ] = 0.019\n"
          ]
        },
        {
          "output_type": "stream",
          "name": "stderr",
          "text": [
            "Stage 2 Epoch 3 [Val]:  20%|██        | 1/5 [00:06<00:24,  6.11s/it]\n",
            "Evaluating:   0%|          | 0/5 [00:00<?, ?it/s]\u001b[A\n",
            "Evaluating:  20%|██        | 1/5 [00:00<00:01,  2.95it/s]\u001b[A\n",
            "Evaluating:  40%|████      | 2/5 [00:00<00:00,  3.14it/s]\u001b[A\n",
            "Evaluating:  60%|██████    | 3/5 [00:00<00:00,  3.19it/s]\u001b[A\n",
            "Evaluating:  80%|████████  | 4/5 [00:01<00:00,  3.20it/s]\u001b[A\n",
            "Evaluating: 100%|██████████| 5/5 [00:01<00:00,  3.15it/s]\n"
          ]
        },
        {
          "output_type": "stream",
          "name": "stdout",
          "text": [
            "Total detections: 76976\n",
            "Loading and preparing results...\n",
            "DONE (t=0.70s)\n",
            "creating index...\n",
            "index created!\n",
            "Running per image evaluation...\n",
            "Evaluate annotation type *bbox*\n",
            "DONE (t=1.07s).\n",
            "Accumulating evaluation results...\n",
            "DONE (t=0.13s).\n",
            " Average Precision  (AP) @[ IoU=0.50:0.95 | area=   all | maxDets=100 ] = 0.002\n",
            " Average Precision  (AP) @[ IoU=0.50      | area=   all | maxDets=100 ] = 0.019\n",
            " Average Precision  (AP) @[ IoU=0.75      | area=   all | maxDets=100 ] = 0.000\n",
            " Average Precision  (AP) @[ IoU=0.50:0.95 | area= small | maxDets=100 ] = 0.000\n",
            " Average Precision  (AP) @[ IoU=0.50:0.95 | area=medium | maxDets=100 ] = 0.000\n",
            " Average Precision  (AP) @[ IoU=0.50:0.95 | area= large | maxDets=100 ] = 0.004\n",
            " Average Recall     (AR) @[ IoU=0.50:0.95 | area=   all | maxDets=  1 ] = 0.001\n",
            " Average Recall     (AR) @[ IoU=0.50:0.95 | area=   all | maxDets= 10 ] = 0.003\n",
            " Average Recall     (AR) @[ IoU=0.50:0.95 | area=   all | maxDets=100 ] = 0.014\n",
            " Average Recall     (AR) @[ IoU=0.50:0.95 | area= small | maxDets=100 ] = 0.000\n",
            " Average Recall     (AR) @[ IoU=0.50:0.95 | area=medium | maxDets=100 ] = 0.013\n",
            " Average Recall     (AR) @[ IoU=0.50:0.95 | area= large | maxDets=100 ] = 0.019\n"
          ]
        },
        {
          "output_type": "stream",
          "name": "stderr",
          "text": [
            "Stage 2 Epoch 3 [Val]:  40%|████      | 2/5 [00:11<00:16,  5.56s/it]\n",
            "Evaluating:   0%|          | 0/5 [00:00<?, ?it/s]\u001b[A\n",
            "Evaluating:  20%|██        | 1/5 [00:00<00:01,  2.97it/s]\u001b[A\n",
            "Evaluating:  40%|████      | 2/5 [00:00<00:00,  3.08it/s]\u001b[A\n",
            "Evaluating:  60%|██████    | 3/5 [00:01<00:00,  2.53it/s]\u001b[A\n",
            "Evaluating:  80%|████████  | 4/5 [00:01<00:00,  2.53it/s]\u001b[A\n",
            "Evaluating: 100%|██████████| 5/5 [00:01<00:00,  2.56it/s]\n"
          ]
        },
        {
          "output_type": "stream",
          "name": "stdout",
          "text": [
            "Total detections: 76976\n",
            "Loading and preparing results...\n",
            "DONE (t=0.73s)\n",
            "creating index...\n",
            "index created!\n",
            "Running per image evaluation...\n",
            "Evaluate annotation type *bbox*\n",
            "DONE (t=1.09s).\n",
            "Accumulating evaluation results...\n",
            "DONE (t=0.12s).\n",
            " Average Precision  (AP) @[ IoU=0.50:0.95 | area=   all | maxDets=100 ] = 0.002\n",
            " Average Precision  (AP) @[ IoU=0.50      | area=   all | maxDets=100 ] = 0.019\n",
            " Average Precision  (AP) @[ IoU=0.75      | area=   all | maxDets=100 ] = 0.000\n",
            " Average Precision  (AP) @[ IoU=0.50:0.95 | area= small | maxDets=100 ] = 0.000\n",
            " Average Precision  (AP) @[ IoU=0.50:0.95 | area=medium | maxDets=100 ] = 0.000\n",
            " Average Precision  (AP) @[ IoU=0.50:0.95 | area= large | maxDets=100 ] = 0.004\n",
            " Average Recall     (AR) @[ IoU=0.50:0.95 | area=   all | maxDets=  1 ] = 0.001\n",
            " Average Recall     (AR) @[ IoU=0.50:0.95 | area=   all | maxDets= 10 ] = 0.003\n",
            " Average Recall     (AR) @[ IoU=0.50:0.95 | area=   all | maxDets=100 ] = 0.014\n",
            " Average Recall     (AR) @[ IoU=0.50:0.95 | area= small | maxDets=100 ] = 0.000\n",
            " Average Recall     (AR) @[ IoU=0.50:0.95 | area=medium | maxDets=100 ] = 0.013\n",
            " Average Recall     (AR) @[ IoU=0.50:0.95 | area= large | maxDets=100 ] = 0.019\n"
          ]
        },
        {
          "output_type": "stream",
          "name": "stderr",
          "text": [
            "Stage 2 Epoch 3 [Val]:  60%|██████    | 3/5 [00:17<00:12,  6.07s/it]\n",
            "Evaluating:   0%|          | 0/5 [00:00<?, ?it/s]\u001b[A\n",
            "Evaluating:  20%|██        | 1/5 [00:00<00:01,  3.06it/s]\u001b[A\n",
            "Evaluating:  40%|████      | 2/5 [00:00<00:01,  2.44it/s]\u001b[A\n",
            "Evaluating:  60%|██████    | 3/5 [00:01<00:00,  2.71it/s]\u001b[A\n",
            "Evaluating:  80%|████████  | 4/5 [00:01<00:00,  2.88it/s]\u001b[A\n",
            "Evaluating: 100%|██████████| 5/5 [00:01<00:00,  2.55it/s]\n"
          ]
        },
        {
          "output_type": "stream",
          "name": "stdout",
          "text": [
            "Total detections: 76976\n",
            "Loading and preparing results...\n",
            "DONE (t=0.73s)\n",
            "creating index...\n",
            "index created!\n",
            "Running per image evaluation...\n",
            "Evaluate annotation type *bbox*\n",
            "DONE (t=1.10s).\n",
            "Accumulating evaluation results...\n",
            "DONE (t=0.13s).\n",
            " Average Precision  (AP) @[ IoU=0.50:0.95 | area=   all | maxDets=100 ] = 0.002\n",
            " Average Precision  (AP) @[ IoU=0.50      | area=   all | maxDets=100 ] = 0.019\n",
            " Average Precision  (AP) @[ IoU=0.75      | area=   all | maxDets=100 ] = 0.000\n",
            " Average Precision  (AP) @[ IoU=0.50:0.95 | area= small | maxDets=100 ] = 0.000\n",
            " Average Precision  (AP) @[ IoU=0.50:0.95 | area=medium | maxDets=100 ] = 0.000\n",
            " Average Precision  (AP) @[ IoU=0.50:0.95 | area= large | maxDets=100 ] = 0.004\n",
            " Average Recall     (AR) @[ IoU=0.50:0.95 | area=   all | maxDets=  1 ] = 0.001\n",
            " Average Recall     (AR) @[ IoU=0.50:0.95 | area=   all | maxDets= 10 ] = 0.003\n",
            " Average Recall     (AR) @[ IoU=0.50:0.95 | area=   all | maxDets=100 ] = 0.014\n",
            " Average Recall     (AR) @[ IoU=0.50:0.95 | area= small | maxDets=100 ] = 0.000\n",
            " Average Recall     (AR) @[ IoU=0.50:0.95 | area=medium | maxDets=100 ] = 0.013\n",
            " Average Recall     (AR) @[ IoU=0.50:0.95 | area= large | maxDets=100 ] = 0.019\n"
          ]
        },
        {
          "output_type": "stream",
          "name": "stderr",
          "text": [
            "Stage 2 Epoch 3 [Val]:  80%|████████  | 4/5 [00:23<00:05,  5.93s/it]\n",
            "Evaluating:   0%|          | 0/5 [00:00<?, ?it/s]\u001b[A\n",
            "Evaluating:  20%|██        | 1/5 [00:00<00:01,  3.06it/s]\u001b[A\n",
            "Evaluating:  40%|████      | 2/5 [00:00<00:00,  3.01it/s]\u001b[A\n",
            "Evaluating:  60%|██████    | 3/5 [00:00<00:00,  3.09it/s]\u001b[A\n",
            "Evaluating:  80%|████████  | 4/5 [00:01<00:00,  3.13it/s]\u001b[A\n",
            "Evaluating: 100%|██████████| 5/5 [00:01<00:00,  3.08it/s]\n"
          ]
        },
        {
          "output_type": "stream",
          "name": "stdout",
          "text": [
            "Total detections: 76976\n",
            "Loading and preparing results...\n",
            "DONE (t=0.98s)\n",
            "creating index...\n",
            "index created!\n",
            "Running per image evaluation...\n",
            "Evaluate annotation type *bbox*\n",
            "DONE (t=1.39s).\n",
            "Accumulating evaluation results...\n",
            "DONE (t=0.12s).\n",
            " Average Precision  (AP) @[ IoU=0.50:0.95 | area=   all | maxDets=100 ] = 0.002\n",
            " Average Precision  (AP) @[ IoU=0.50      | area=   all | maxDets=100 ] = 0.019\n",
            " Average Precision  (AP) @[ IoU=0.75      | area=   all | maxDets=100 ] = 0.000\n",
            " Average Precision  (AP) @[ IoU=0.50:0.95 | area= small | maxDets=100 ] = 0.000\n",
            " Average Precision  (AP) @[ IoU=0.50:0.95 | area=medium | maxDets=100 ] = 0.000\n",
            " Average Precision  (AP) @[ IoU=0.50:0.95 | area= large | maxDets=100 ] = 0.004\n",
            " Average Recall     (AR) @[ IoU=0.50:0.95 | area=   all | maxDets=  1 ] = 0.001\n",
            " Average Recall     (AR) @[ IoU=0.50:0.95 | area=   all | maxDets= 10 ] = 0.003\n",
            " Average Recall     (AR) @[ IoU=0.50:0.95 | area=   all | maxDets=100 ] = 0.014\n",
            " Average Recall     (AR) @[ IoU=0.50:0.95 | area= small | maxDets=100 ] = 0.000\n",
            " Average Recall     (AR) @[ IoU=0.50:0.95 | area=medium | maxDets=100 ] = 0.013\n",
            " Average Recall     (AR) @[ IoU=0.50:0.95 | area= large | maxDets=100 ] = 0.019\n"
          ]
        },
        {
          "output_type": "stream",
          "name": "stderr",
          "text": [
            "Stage 2 Epoch 3 [Val]: 100%|██████████| 5/5 [00:30<00:00,  6.03s/it]\n"
          ]
        },
        {
          "output_type": "stream",
          "name": "stdout",
          "text": [
            "[Stage 2 Epoch 3] Train Loss: 0.6471, Val Loss: 0.5753, mAP: 0.002277, Train Time: 00:00:09, Val Time: 00:00:30\n"
          ]
        },
        {
          "output_type": "stream",
          "name": "stderr",
          "text": [
            "Stage 2 Epoch 4 [Train]: 100%|██████████| 20/20 [00:09<00:00,  2.15it/s]\n",
            "Stage 2 Epoch 4 [Val]:   0%|          | 0/5 [00:00<?, ?it/s]\n",
            "Evaluating:   0%|          | 0/5 [00:00<?, ?it/s]\u001b[A\n",
            "Evaluating:  20%|██        | 1/5 [00:00<00:01,  2.43it/s]\u001b[A\n",
            "Evaluating:  40%|████      | 2/5 [00:00<00:01,  2.38it/s]\u001b[A\n",
            "Evaluating:  60%|██████    | 3/5 [00:01<00:01,  1.91it/s]\u001b[A\n",
            "Evaluating:  80%|████████  | 4/5 [00:01<00:00,  2.10it/s]\u001b[A\n",
            "Evaluating: 100%|██████████| 5/5 [00:02<00:00,  2.14it/s]\n"
          ]
        },
        {
          "output_type": "stream",
          "name": "stdout",
          "text": [
            "Total detections: 74375\n",
            "Loading and preparing results...\n",
            "DONE (t=1.00s)\n",
            "creating index...\n",
            "index created!\n",
            "Running per image evaluation...\n",
            "Evaluate annotation type *bbox*\n",
            "DONE (t=1.12s).\n",
            "Accumulating evaluation results...\n",
            "DONE (t=0.13s).\n",
            " Average Precision  (AP) @[ IoU=0.50:0.95 | area=   all | maxDets=100 ] = 0.001\n",
            " Average Precision  (AP) @[ IoU=0.50      | area=   all | maxDets=100 ] = 0.009\n",
            " Average Precision  (AP) @[ IoU=0.75      | area=   all | maxDets=100 ] = 0.000\n",
            " Average Precision  (AP) @[ IoU=0.50:0.95 | area= small | maxDets=100 ] = 0.000\n",
            " Average Precision  (AP) @[ IoU=0.50:0.95 | area=medium | maxDets=100 ] = 0.000\n",
            " Average Precision  (AP) @[ IoU=0.50:0.95 | area= large | maxDets=100 ] = 0.002\n",
            " Average Recall     (AR) @[ IoU=0.50:0.95 | area=   all | maxDets=  1 ] = 0.001\n",
            " Average Recall     (AR) @[ IoU=0.50:0.95 | area=   all | maxDets= 10 ] = 0.004\n",
            " Average Recall     (AR) @[ IoU=0.50:0.95 | area=   all | maxDets=100 ] = 0.008\n",
            " Average Recall     (AR) @[ IoU=0.50:0.95 | area= small | maxDets=100 ] = 0.000\n",
            " Average Recall     (AR) @[ IoU=0.50:0.95 | area=medium | maxDets=100 ] = 0.010\n",
            " Average Recall     (AR) @[ IoU=0.50:0.95 | area= large | maxDets=100 ] = 0.007\n"
          ]
        },
        {
          "output_type": "stream",
          "name": "stderr",
          "text": [
            "Stage 2 Epoch 4 [Val]:  20%|██        | 1/5 [00:07<00:30,  7.54s/it]\n",
            "Evaluating:   0%|          | 0/5 [00:00<?, ?it/s]\u001b[A\n",
            "Evaluating:  20%|██        | 1/5 [00:00<00:01,  3.06it/s]\u001b[A\n",
            "Evaluating:  40%|████      | 2/5 [00:00<00:00,  3.08it/s]\u001b[A\n",
            "Evaluating:  60%|██████    | 3/5 [00:01<00:00,  2.50it/s]\u001b[A\n",
            "Evaluating:  80%|████████  | 4/5 [00:01<00:00,  2.72it/s]\u001b[A\n",
            "Evaluating: 100%|██████████| 5/5 [00:01<00:00,  2.81it/s]\n"
          ]
        },
        {
          "output_type": "stream",
          "name": "stdout",
          "text": [
            "Total detections: 74375\n",
            "Loading and preparing results...\n",
            "DONE (t=0.70s)\n",
            "creating index...\n",
            "index created!\n",
            "Running per image evaluation...\n",
            "Evaluate annotation type *bbox*\n",
            "DONE (t=1.13s).\n",
            "Accumulating evaluation results...\n",
            "DONE (t=0.13s).\n",
            " Average Precision  (AP) @[ IoU=0.50:0.95 | area=   all | maxDets=100 ] = 0.001\n",
            " Average Precision  (AP) @[ IoU=0.50      | area=   all | maxDets=100 ] = 0.009\n",
            " Average Precision  (AP) @[ IoU=0.75      | area=   all | maxDets=100 ] = 0.000\n",
            " Average Precision  (AP) @[ IoU=0.50:0.95 | area= small | maxDets=100 ] = 0.000\n",
            " Average Precision  (AP) @[ IoU=0.50:0.95 | area=medium | maxDets=100 ] = 0.000\n",
            " Average Precision  (AP) @[ IoU=0.50:0.95 | area= large | maxDets=100 ] = 0.002\n",
            " Average Recall     (AR) @[ IoU=0.50:0.95 | area=   all | maxDets=  1 ] = 0.001\n",
            " Average Recall     (AR) @[ IoU=0.50:0.95 | area=   all | maxDets= 10 ] = 0.004\n",
            " Average Recall     (AR) @[ IoU=0.50:0.95 | area=   all | maxDets=100 ] = 0.008\n",
            " Average Recall     (AR) @[ IoU=0.50:0.95 | area= small | maxDets=100 ] = 0.000\n",
            " Average Recall     (AR) @[ IoU=0.50:0.95 | area=medium | maxDets=100 ] = 0.010\n",
            " Average Recall     (AR) @[ IoU=0.50:0.95 | area= large | maxDets=100 ] = 0.007\n"
          ]
        },
        {
          "output_type": "stream",
          "name": "stderr",
          "text": [
            "Stage 2 Epoch 4 [Val]:  40%|████      | 2/5 [00:12<00:18,  6.27s/it]\n",
            "Evaluating:   0%|          | 0/5 [00:00<?, ?it/s]\u001b[A\n",
            "Evaluating:  20%|██        | 1/5 [00:00<00:01,  3.05it/s]\u001b[A\n",
            "Evaluating:  40%|████      | 2/5 [00:00<00:01,  2.84it/s]\u001b[A\n",
            "Evaluating:  60%|██████    | 3/5 [00:01<00:00,  2.63it/s]\u001b[A\n",
            "Evaluating:  80%|████████  | 4/5 [00:01<00:00,  2.08it/s]\u001b[A\n",
            "Evaluating: 100%|██████████| 5/5 [00:02<00:00,  2.32it/s]\n"
          ]
        },
        {
          "output_type": "stream",
          "name": "stdout",
          "text": [
            "Total detections: 74375\n",
            "Loading and preparing results...\n",
            "DONE (t=0.72s)\n",
            "creating index...\n",
            "index created!\n",
            "Running per image evaluation...\n",
            "Evaluate annotation type *bbox*\n",
            "DONE (t=1.12s).\n",
            "Accumulating evaluation results...\n",
            "DONE (t=0.13s).\n",
            " Average Precision  (AP) @[ IoU=0.50:0.95 | area=   all | maxDets=100 ] = 0.001\n",
            " Average Precision  (AP) @[ IoU=0.50      | area=   all | maxDets=100 ] = 0.009\n",
            " Average Precision  (AP) @[ IoU=0.75      | area=   all | maxDets=100 ] = 0.000\n",
            " Average Precision  (AP) @[ IoU=0.50:0.95 | area= small | maxDets=100 ] = 0.000\n",
            " Average Precision  (AP) @[ IoU=0.50:0.95 | area=medium | maxDets=100 ] = 0.000\n",
            " Average Precision  (AP) @[ IoU=0.50:0.95 | area= large | maxDets=100 ] = 0.002\n",
            " Average Recall     (AR) @[ IoU=0.50:0.95 | area=   all | maxDets=  1 ] = 0.001\n",
            " Average Recall     (AR) @[ IoU=0.50:0.95 | area=   all | maxDets= 10 ] = 0.004\n",
            " Average Recall     (AR) @[ IoU=0.50:0.95 | area=   all | maxDets=100 ] = 0.008\n",
            " Average Recall     (AR) @[ IoU=0.50:0.95 | area= small | maxDets=100 ] = 0.000\n",
            " Average Recall     (AR) @[ IoU=0.50:0.95 | area=medium | maxDets=100 ] = 0.010\n",
            " Average Recall     (AR) @[ IoU=0.50:0.95 | area= large | maxDets=100 ] = 0.007\n"
          ]
        },
        {
          "output_type": "stream",
          "name": "stderr",
          "text": [
            "Stage 2 Epoch 4 [Val]:  60%|██████    | 3/5 [00:19<00:12,  6.37s/it]\n",
            "Evaluating:   0%|          | 0/5 [00:00<?, ?it/s]\u001b[A\n",
            "Evaluating:  20%|██        | 1/5 [00:00<00:01,  3.09it/s]\u001b[A\n",
            "Evaluating:  40%|████      | 2/5 [00:00<00:00,  3.13it/s]\u001b[A\n",
            "Evaluating:  60%|██████    | 3/5 [00:00<00:00,  3.12it/s]\u001b[A\n",
            "Evaluating:  80%|████████  | 4/5 [00:01<00:00,  3.15it/s]\u001b[A\n",
            "Evaluating: 100%|██████████| 5/5 [00:01<00:00,  2.82it/s]\n"
          ]
        },
        {
          "output_type": "stream",
          "name": "stdout",
          "text": [
            "Total detections: 74375\n",
            "Loading and preparing results...\n",
            "DONE (t=0.72s)\n",
            "creating index...\n",
            "index created!\n",
            "Running per image evaluation...\n",
            "Evaluate annotation type *bbox*\n",
            "DONE (t=1.10s).\n",
            "Accumulating evaluation results...\n",
            "DONE (t=0.14s).\n",
            " Average Precision  (AP) @[ IoU=0.50:0.95 | area=   all | maxDets=100 ] = 0.001\n",
            " Average Precision  (AP) @[ IoU=0.50      | area=   all | maxDets=100 ] = 0.009\n",
            " Average Precision  (AP) @[ IoU=0.75      | area=   all | maxDets=100 ] = 0.000\n",
            " Average Precision  (AP) @[ IoU=0.50:0.95 | area= small | maxDets=100 ] = 0.000\n",
            " Average Precision  (AP) @[ IoU=0.50:0.95 | area=medium | maxDets=100 ] = 0.000\n",
            " Average Precision  (AP) @[ IoU=0.50:0.95 | area= large | maxDets=100 ] = 0.002\n",
            " Average Recall     (AR) @[ IoU=0.50:0.95 | area=   all | maxDets=  1 ] = 0.001\n",
            " Average Recall     (AR) @[ IoU=0.50:0.95 | area=   all | maxDets= 10 ] = 0.004\n",
            " Average Recall     (AR) @[ IoU=0.50:0.95 | area=   all | maxDets=100 ] = 0.008\n",
            " Average Recall     (AR) @[ IoU=0.50:0.95 | area= small | maxDets=100 ] = 0.000\n",
            " Average Recall     (AR) @[ IoU=0.50:0.95 | area=medium | maxDets=100 ] = 0.010\n",
            " Average Recall     (AR) @[ IoU=0.50:0.95 | area= large | maxDets=100 ] = 0.007\n"
          ]
        },
        {
          "output_type": "stream",
          "name": "stderr",
          "text": [
            "Stage 2 Epoch 4 [Val]:  80%|████████  | 4/5 [00:24<00:05,  5.99s/it]\n",
            "Evaluating:   0%|          | 0/5 [00:00<?, ?it/s]\u001b[A\n",
            "Evaluating:  20%|██        | 1/5 [00:00<00:01,  2.88it/s]\u001b[A\n",
            "Evaluating:  40%|████      | 2/5 [00:00<00:01,  2.44it/s]\u001b[A\n",
            "Evaluating:  60%|██████    | 3/5 [00:01<00:00,  2.75it/s]\u001b[A\n",
            "Evaluating:  80%|████████  | 4/5 [00:01<00:00,  2.94it/s]\u001b[A\n",
            "Evaluating: 100%|██████████| 5/5 [00:01<00:00,  2.87it/s]\n"
          ]
        },
        {
          "output_type": "stream",
          "name": "stdout",
          "text": [
            "Total detections: 74375\n",
            "Loading and preparing results...\n",
            "DONE (t=1.01s)\n",
            "creating index...\n",
            "index created!\n",
            "Running per image evaluation...\n",
            "Evaluate annotation type *bbox*\n",
            "DONE (t=1.14s).\n",
            "Accumulating evaluation results...\n",
            "DONE (t=0.13s).\n",
            " Average Precision  (AP) @[ IoU=0.50:0.95 | area=   all | maxDets=100 ] = 0.001\n",
            " Average Precision  (AP) @[ IoU=0.50      | area=   all | maxDets=100 ] = 0.009\n",
            " Average Precision  (AP) @[ IoU=0.75      | area=   all | maxDets=100 ] = 0.000\n",
            " Average Precision  (AP) @[ IoU=0.50:0.95 | area= small | maxDets=100 ] = 0.000\n",
            " Average Precision  (AP) @[ IoU=0.50:0.95 | area=medium | maxDets=100 ] = 0.000\n",
            " Average Precision  (AP) @[ IoU=0.50:0.95 | area= large | maxDets=100 ] = 0.002\n",
            " Average Recall     (AR) @[ IoU=0.50:0.95 | area=   all | maxDets=  1 ] = 0.001\n",
            " Average Recall     (AR) @[ IoU=0.50:0.95 | area=   all | maxDets= 10 ] = 0.004\n",
            " Average Recall     (AR) @[ IoU=0.50:0.95 | area=   all | maxDets=100 ] = 0.008\n",
            " Average Recall     (AR) @[ IoU=0.50:0.95 | area= small | maxDets=100 ] = 0.000\n",
            " Average Recall     (AR) @[ IoU=0.50:0.95 | area=medium | maxDets=100 ] = 0.010\n",
            " Average Recall     (AR) @[ IoU=0.50:0.95 | area= large | maxDets=100 ] = 0.007\n"
          ]
        },
        {
          "output_type": "stream",
          "name": "stderr",
          "text": [
            "Stage 2 Epoch 4 [Val]: 100%|██████████| 5/5 [00:31<00:00,  6.30s/it]\n"
          ]
        },
        {
          "output_type": "stream",
          "name": "stdout",
          "text": [
            "[Stage 2 Epoch 4] Train Loss: 0.6356, Val Loss: 0.5592, mAP: 0.000979, Train Time: 00:00:09, Val Time: 00:00:31\n"
          ]
        },
        {
          "output_type": "stream",
          "name": "stderr",
          "text": [
            "Stage 2 Epoch 5 [Train]: 100%|██████████| 20/20 [00:09<00:00,  2.15it/s]\n",
            "Stage 2 Epoch 5 [Val]:   0%|          | 0/5 [00:00<?, ?it/s]\n",
            "Evaluating:   0%|          | 0/5 [00:00<?, ?it/s]\u001b[A\n",
            "Evaluating:  20%|██        | 1/5 [00:00<00:01,  2.48it/s]\u001b[A\n",
            "Evaluating:  40%|████      | 2/5 [00:00<00:01,  2.57it/s]\u001b[A\n",
            "Evaluating:  60%|██████    | 3/5 [00:01<00:00,  2.52it/s]\u001b[A\n",
            "Evaluating:  80%|████████  | 4/5 [00:01<00:00,  2.54it/s]\u001b[A\n",
            "Evaluating: 100%|██████████| 5/5 [00:02<00:00,  2.50it/s]\n"
          ]
        },
        {
          "output_type": "stream",
          "name": "stdout",
          "text": [
            "Total detections: 47635\n",
            "Loading and preparing results...\n",
            "DONE (t=0.55s)\n",
            "creating index...\n",
            "index created!\n",
            "Running per image evaluation...\n",
            "Evaluate annotation type *bbox*\n",
            "DONE (t=1.07s).\n",
            "Accumulating evaluation results...\n",
            "DONE (t=0.14s).\n",
            " Average Precision  (AP) @[ IoU=0.50:0.95 | area=   all | maxDets=100 ] = 0.002\n",
            " Average Precision  (AP) @[ IoU=0.50      | area=   all | maxDets=100 ] = 0.011\n",
            " Average Precision  (AP) @[ IoU=0.75      | area=   all | maxDets=100 ] = 0.000\n",
            " Average Precision  (AP) @[ IoU=0.50:0.95 | area= small | maxDets=100 ] = 0.000\n",
            " Average Precision  (AP) @[ IoU=0.50:0.95 | area=medium | maxDets=100 ] = 0.000\n",
            " Average Precision  (AP) @[ IoU=0.50:0.95 | area= large | maxDets=100 ] = 0.004\n",
            " Average Recall     (AR) @[ IoU=0.50:0.95 | area=   all | maxDets=  1 ] = 0.003\n",
            " Average Recall     (AR) @[ IoU=0.50:0.95 | area=   all | maxDets= 10 ] = 0.007\n",
            " Average Recall     (AR) @[ IoU=0.50:0.95 | area=   all | maxDets=100 ] = 0.010\n",
            " Average Recall     (AR) @[ IoU=0.50:0.95 | area= small | maxDets=100 ] = 0.000\n",
            " Average Recall     (AR) @[ IoU=0.50:0.95 | area=medium | maxDets=100 ] = 0.016\n",
            " Average Recall     (AR) @[ IoU=0.50:0.95 | area= large | maxDets=100 ] = 0.015\n"
          ]
        },
        {
          "output_type": "stream",
          "name": "stderr",
          "text": [
            "Stage 2 Epoch 5 [Val]:  20%|██        | 1/5 [00:05<00:20,  5.21s/it]\n",
            "Evaluating:   0%|          | 0/5 [00:00<?, ?it/s]\u001b[A\n",
            "Evaluating:  20%|██        | 1/5 [00:00<00:01,  3.27it/s]\u001b[A\n",
            "Evaluating:  40%|████      | 2/5 [00:00<00:00,  3.30it/s]\u001b[A\n",
            "Evaluating:  60%|██████    | 3/5 [00:00<00:00,  3.33it/s]\u001b[A\n",
            "Evaluating:  80%|████████  | 4/5 [00:01<00:00,  3.35it/s]\u001b[A\n",
            "Evaluating: 100%|██████████| 5/5 [00:01<00:00,  2.95it/s]\n"
          ]
        },
        {
          "output_type": "stream",
          "name": "stdout",
          "text": [
            "Total detections: 47635\n",
            "Loading and preparing results...\n",
            "DONE (t=0.37s)\n",
            "creating index...\n",
            "index created!\n",
            "Running per image evaluation...\n",
            "Evaluate annotation type *bbox*\n",
            "DONE (t=1.07s).\n",
            "Accumulating evaluation results...\n",
            "DONE (t=0.14s).\n",
            " Average Precision  (AP) @[ IoU=0.50:0.95 | area=   all | maxDets=100 ] = 0.002\n",
            " Average Precision  (AP) @[ IoU=0.50      | area=   all | maxDets=100 ] = 0.011\n",
            " Average Precision  (AP) @[ IoU=0.75      | area=   all | maxDets=100 ] = 0.000\n",
            " Average Precision  (AP) @[ IoU=0.50:0.95 | area= small | maxDets=100 ] = 0.000\n",
            " Average Precision  (AP) @[ IoU=0.50:0.95 | area=medium | maxDets=100 ] = 0.000\n",
            " Average Precision  (AP) @[ IoU=0.50:0.95 | area= large | maxDets=100 ] = 0.004\n",
            " Average Recall     (AR) @[ IoU=0.50:0.95 | area=   all | maxDets=  1 ] = 0.003\n",
            " Average Recall     (AR) @[ IoU=0.50:0.95 | area=   all | maxDets= 10 ] = 0.007\n",
            " Average Recall     (AR) @[ IoU=0.50:0.95 | area=   all | maxDets=100 ] = 0.010\n",
            " Average Recall     (AR) @[ IoU=0.50:0.95 | area= small | maxDets=100 ] = 0.000\n",
            " Average Recall     (AR) @[ IoU=0.50:0.95 | area=medium | maxDets=100 ] = 0.016\n",
            " Average Recall     (AR) @[ IoU=0.50:0.95 | area= large | maxDets=100 ] = 0.015\n"
          ]
        },
        {
          "output_type": "stream",
          "name": "stderr",
          "text": [
            "Stage 2 Epoch 5 [Val]:  40%|████      | 2/5 [00:09<00:14,  4.76s/it]\n",
            "Evaluating:   0%|          | 0/5 [00:00<?, ?it/s]\u001b[A\n",
            "Evaluating:  20%|██        | 1/5 [00:00<00:01,  3.17it/s]\u001b[A\n",
            "Evaluating:  40%|████      | 2/5 [00:00<00:00,  3.32it/s]\u001b[A\n",
            "Evaluating:  60%|██████    | 3/5 [00:00<00:00,  3.37it/s]\u001b[A\n",
            "Evaluating:  80%|████████  | 4/5 [00:01<00:00,  3.33it/s]\u001b[A\n",
            "Evaluating: 100%|██████████| 5/5 [00:01<00:00,  2.98it/s]\n"
          ]
        },
        {
          "output_type": "stream",
          "name": "stdout",
          "text": [
            "Total detections: 47635\n",
            "Loading and preparing results...\n",
            "DONE (t=0.41s)\n",
            "creating index...\n",
            "index created!\n",
            "Running per image evaluation...\n",
            "Evaluate annotation type *bbox*\n",
            "DONE (t=1.96s).\n",
            "Accumulating evaluation results...\n"
          ]
        },
        {
          "output_type": "stream",
          "name": "stderr",
          "text": [
            "\rStage 2 Epoch 5 [Val]:  60%|██████    | 3/5 [00:15<00:10,  5.11s/it]"
          ]
        },
        {
          "output_type": "stream",
          "name": "stdout",
          "text": [
            "DONE (t=0.23s).\n",
            " Average Precision  (AP) @[ IoU=0.50:0.95 | area=   all | maxDets=100 ] = 0.002\n",
            " Average Precision  (AP) @[ IoU=0.50      | area=   all | maxDets=100 ] = 0.011\n",
            " Average Precision  (AP) @[ IoU=0.75      | area=   all | maxDets=100 ] = 0.000\n",
            " Average Precision  (AP) @[ IoU=0.50:0.95 | area= small | maxDets=100 ] = 0.000\n",
            " Average Precision  (AP) @[ IoU=0.50:0.95 | area=medium | maxDets=100 ] = 0.000\n",
            " Average Precision  (AP) @[ IoU=0.50:0.95 | area= large | maxDets=100 ] = 0.004\n",
            " Average Recall     (AR) @[ IoU=0.50:0.95 | area=   all | maxDets=  1 ] = 0.003\n",
            " Average Recall     (AR) @[ IoU=0.50:0.95 | area=   all | maxDets= 10 ] = 0.007\n",
            " Average Recall     (AR) @[ IoU=0.50:0.95 | area=   all | maxDets=100 ] = 0.010\n",
            " Average Recall     (AR) @[ IoU=0.50:0.95 | area= small | maxDets=100 ] = 0.000\n",
            " Average Recall     (AR) @[ IoU=0.50:0.95 | area=medium | maxDets=100 ] = 0.016\n",
            " Average Recall     (AR) @[ IoU=0.50:0.95 | area= large | maxDets=100 ] = 0.015\n"
          ]
        },
        {
          "output_type": "stream",
          "name": "stderr",
          "text": [
            "\n",
            "Evaluating:   0%|          | 0/5 [00:00<?, ?it/s]\u001b[A\n",
            "Evaluating:  20%|██        | 1/5 [00:00<00:01,  2.50it/s]\u001b[A\n",
            "Evaluating:  40%|████      | 2/5 [00:00<00:01,  2.94it/s]\u001b[A\n",
            "Evaluating:  60%|██████    | 3/5 [00:01<00:00,  2.52it/s]\u001b[A\n",
            "Evaluating:  80%|████████  | 4/5 [00:01<00:00,  2.76it/s]\u001b[A\n",
            "Evaluating: 100%|██████████| 5/5 [00:01<00:00,  2.82it/s]\n"
          ]
        },
        {
          "output_type": "stream",
          "name": "stdout",
          "text": [
            "Total detections: 47635\n",
            "Loading and preparing results...\n",
            "DONE (t=0.37s)\n",
            "creating index...\n",
            "index created!\n",
            "Running per image evaluation...\n",
            "Evaluate annotation type *bbox*\n",
            "DONE (t=1.06s).\n",
            "Accumulating evaluation results...\n",
            "DONE (t=0.13s).\n",
            " Average Precision  (AP) @[ IoU=0.50:0.95 | area=   all | maxDets=100 ] = 0.002\n",
            " Average Precision  (AP) @[ IoU=0.50      | area=   all | maxDets=100 ] = 0.011\n",
            " Average Precision  (AP) @[ IoU=0.75      | area=   all | maxDets=100 ] = 0.000\n",
            " Average Precision  (AP) @[ IoU=0.50:0.95 | area= small | maxDets=100 ] = 0.000\n",
            " Average Precision  (AP) @[ IoU=0.50:0.95 | area=medium | maxDets=100 ] = 0.000\n",
            " Average Precision  (AP) @[ IoU=0.50:0.95 | area= large | maxDets=100 ] = 0.004\n",
            " Average Recall     (AR) @[ IoU=0.50:0.95 | area=   all | maxDets=  1 ] = 0.003\n",
            " Average Recall     (AR) @[ IoU=0.50:0.95 | area=   all | maxDets= 10 ] = 0.007\n",
            " Average Recall     (AR) @[ IoU=0.50:0.95 | area=   all | maxDets=100 ] = 0.010\n",
            " Average Recall     (AR) @[ IoU=0.50:0.95 | area= small | maxDets=100 ] = 0.000\n",
            " Average Recall     (AR) @[ IoU=0.50:0.95 | area=medium | maxDets=100 ] = 0.016\n",
            " Average Recall     (AR) @[ IoU=0.50:0.95 | area= large | maxDets=100 ] = 0.015\n"
          ]
        },
        {
          "output_type": "stream",
          "name": "stderr",
          "text": [
            "Stage 2 Epoch 5 [Val]:  80%|████████  | 4/5 [00:19<00:04,  4.93s/it]\n",
            "Evaluating:   0%|          | 0/5 [00:00<?, ?it/s]\u001b[A\n",
            "Evaluating:  20%|██        | 1/5 [00:00<00:01,  3.19it/s]\u001b[A\n",
            "Evaluating:  40%|████      | 2/5 [00:00<00:01,  2.46it/s]\u001b[A\n",
            "Evaluating:  60%|██████    | 3/5 [00:01<00:00,  2.80it/s]\u001b[A\n",
            "Evaluating:  80%|████████  | 4/5 [00:01<00:00,  2.85it/s]\u001b[A\n",
            "Evaluating: 100%|██████████| 5/5 [00:01<00:00,  2.88it/s]\n"
          ]
        },
        {
          "output_type": "stream",
          "name": "stdout",
          "text": [
            "Total detections: 47635\n",
            "Loading and preparing results...\n",
            "DONE (t=0.58s)\n",
            "creating index...\n",
            "index created!\n",
            "Running per image evaluation...\n",
            "Evaluate annotation type *bbox*\n",
            "DONE (t=1.08s).\n",
            "Accumulating evaluation results...\n",
            "DONE (t=0.13s).\n",
            " Average Precision  (AP) @[ IoU=0.50:0.95 | area=   all | maxDets=100 ] = 0.002\n",
            " Average Precision  (AP) @[ IoU=0.50      | area=   all | maxDets=100 ] = 0.011\n",
            " Average Precision  (AP) @[ IoU=0.75      | area=   all | maxDets=100 ] = 0.000\n",
            " Average Precision  (AP) @[ IoU=0.50:0.95 | area= small | maxDets=100 ] = 0.000\n",
            " Average Precision  (AP) @[ IoU=0.50:0.95 | area=medium | maxDets=100 ] = 0.000\n",
            " Average Precision  (AP) @[ IoU=0.50:0.95 | area= large | maxDets=100 ] = 0.004\n",
            " Average Recall     (AR) @[ IoU=0.50:0.95 | area=   all | maxDets=  1 ] = 0.003\n",
            " Average Recall     (AR) @[ IoU=0.50:0.95 | area=   all | maxDets= 10 ] = 0.007\n",
            " Average Recall     (AR) @[ IoU=0.50:0.95 | area=   all | maxDets=100 ] = 0.010\n",
            " Average Recall     (AR) @[ IoU=0.50:0.95 | area= small | maxDets=100 ] = 0.000\n",
            " Average Recall     (AR) @[ IoU=0.50:0.95 | area=medium | maxDets=100 ] = 0.016\n",
            " Average Recall     (AR) @[ IoU=0.50:0.95 | area= large | maxDets=100 ] = 0.015\n"
          ]
        },
        {
          "output_type": "stream",
          "name": "stderr",
          "text": [
            "Stage 2 Epoch 5 [Val]: 100%|██████████| 5/5 [00:24<00:00,  4.90s/it]\n"
          ]
        },
        {
          "output_type": "stream",
          "name": "stdout",
          "text": [
            "[Stage 2 Epoch 5] Train Loss: 0.6302, Val Loss: 0.5854, mAP: 0.001874, Train Time: 00:00:09, Val Time: 00:00:24\n"
          ]
        },
        {
          "output_type": "stream",
          "name": "stderr",
          "text": [
            "Stage 2 Epoch 6 [Train]: 100%|██████████| 20/20 [00:10<00:00,  1.99it/s]\n",
            "Stage 2 Epoch 6 [Val]:   0%|          | 0/5 [00:00<?, ?it/s]\n",
            "Evaluating:   0%|          | 0/5 [00:00<?, ?it/s]\u001b[A\n",
            "Evaluating:  20%|██        | 1/5 [00:00<00:01,  3.25it/s]\u001b[A\n",
            "Evaluating:  40%|████      | 2/5 [00:00<00:00,  3.24it/s]\u001b[A\n",
            "Evaluating:  60%|██████    | 3/5 [00:00<00:00,  3.29it/s]\u001b[A\n",
            "Evaluating:  80%|████████  | 4/5 [00:01<00:00,  3.31it/s]\u001b[A\n",
            "Evaluating: 100%|██████████| 5/5 [00:01<00:00,  3.33it/s]\n"
          ]
        },
        {
          "output_type": "stream",
          "name": "stdout",
          "text": [
            "Total detections: 61504\n",
            "Loading and preparing results...\n",
            "DONE (t=0.63s)\n",
            "creating index...\n",
            "index created!\n",
            "Running per image evaluation...\n",
            "Evaluate annotation type *bbox*\n",
            "DONE (t=1.29s).\n",
            "Accumulating evaluation results...\n"
          ]
        },
        {
          "output_type": "stream",
          "name": "stderr",
          "text": [
            "\rStage 2 Epoch 6 [Val]:  20%|██        | 1/5 [00:05<00:20,  5.14s/it]"
          ]
        },
        {
          "output_type": "stream",
          "name": "stdout",
          "text": [
            "DONE (t=0.23s).\n",
            " Average Precision  (AP) @[ IoU=0.50:0.95 | area=   all | maxDets=100 ] = 0.000\n",
            " Average Precision  (AP) @[ IoU=0.50      | area=   all | maxDets=100 ] = 0.000\n",
            " Average Precision  (AP) @[ IoU=0.75      | area=   all | maxDets=100 ] = 0.000\n",
            " Average Precision  (AP) @[ IoU=0.50:0.95 | area= small | maxDets=100 ] = 0.000\n",
            " Average Precision  (AP) @[ IoU=0.50:0.95 | area=medium | maxDets=100 ] = 0.000\n",
            " Average Precision  (AP) @[ IoU=0.50:0.95 | area= large | maxDets=100 ] = 0.000\n",
            " Average Recall     (AR) @[ IoU=0.50:0.95 | area=   all | maxDets=  1 ] = 0.000\n",
            " Average Recall     (AR) @[ IoU=0.50:0.95 | area=   all | maxDets= 10 ] = 0.000\n",
            " Average Recall     (AR) @[ IoU=0.50:0.95 | area=   all | maxDets=100 ] = 0.000\n",
            " Average Recall     (AR) @[ IoU=0.50:0.95 | area= small | maxDets=100 ] = 0.000\n",
            " Average Recall     (AR) @[ IoU=0.50:0.95 | area=medium | maxDets=100 ] = 0.000\n",
            " Average Recall     (AR) @[ IoU=0.50:0.95 | area= large | maxDets=100 ] = 0.000\n"
          ]
        },
        {
          "output_type": "stream",
          "name": "stderr",
          "text": [
            "\n",
            "Evaluating:   0%|          | 0/5 [00:00<?, ?it/s]\u001b[A\n",
            "Evaluating:  20%|██        | 1/5 [00:00<00:01,  2.32it/s]\u001b[A\n",
            "Evaluating:  40%|████      | 2/5 [00:00<00:01,  2.42it/s]\u001b[A\n",
            "Evaluating:  60%|██████    | 3/5 [00:01<00:00,  2.49it/s]\u001b[A\n",
            "Evaluating:  80%|████████  | 4/5 [00:01<00:00,  2.47it/s]\u001b[A\n",
            "Evaluating: 100%|██████████| 5/5 [00:02<00:00,  2.25it/s]\n"
          ]
        },
        {
          "output_type": "stream",
          "name": "stdout",
          "text": [
            "Total detections: 61504\n",
            "Loading and preparing results...\n",
            "DONE (t=0.44s)\n",
            "creating index...\n",
            "index created!\n",
            "Running per image evaluation...\n",
            "Evaluate annotation type *bbox*\n",
            "DONE (t=1.13s).\n",
            "Accumulating evaluation results...\n",
            "DONE (t=0.13s).\n",
            " Average Precision  (AP) @[ IoU=0.50:0.95 | area=   all | maxDets=100 ] = 0.000\n",
            " Average Precision  (AP) @[ IoU=0.50      | area=   all | maxDets=100 ] = 0.000\n",
            " Average Precision  (AP) @[ IoU=0.75      | area=   all | maxDets=100 ] = 0.000\n",
            " Average Precision  (AP) @[ IoU=0.50:0.95 | area= small | maxDets=100 ] = 0.000\n",
            " Average Precision  (AP) @[ IoU=0.50:0.95 | area=medium | maxDets=100 ] = 0.000\n",
            " Average Precision  (AP) @[ IoU=0.50:0.95 | area= large | maxDets=100 ] = 0.000\n",
            " Average Recall     (AR) @[ IoU=0.50:0.95 | area=   all | maxDets=  1 ] = 0.000\n",
            " Average Recall     (AR) @[ IoU=0.50:0.95 | area=   all | maxDets= 10 ] = 0.000\n",
            " Average Recall     (AR) @[ IoU=0.50:0.95 | area=   all | maxDets=100 ] = 0.000\n",
            " Average Recall     (AR) @[ IoU=0.50:0.95 | area= small | maxDets=100 ] = 0.000\n",
            " Average Recall     (AR) @[ IoU=0.50:0.95 | area=medium | maxDets=100 ] = 0.000\n",
            " Average Recall     (AR) @[ IoU=0.50:0.95 | area= large | maxDets=100 ] = 0.000\n"
          ]
        },
        {
          "output_type": "stream",
          "name": "stderr",
          "text": [
            "Stage 2 Epoch 6 [Val]:  40%|████      | 2/5 [00:10<00:15,  5.31s/it]\n",
            "Evaluating:   0%|          | 0/5 [00:00<?, ?it/s]\u001b[A\n",
            "Evaluating:  20%|██        | 1/5 [00:00<00:01,  2.09it/s]\u001b[A\n",
            "Evaluating:  40%|████      | 2/5 [00:00<00:01,  2.66it/s]\u001b[A\n",
            "Evaluating:  60%|██████    | 3/5 [00:01<00:00,  2.93it/s]\u001b[A\n",
            "Evaluating:  80%|████████  | 4/5 [00:01<00:00,  3.05it/s]\u001b[A\n",
            "Evaluating: 100%|██████████| 5/5 [00:01<00:00,  2.66it/s]\n"
          ]
        },
        {
          "output_type": "stream",
          "name": "stdout",
          "text": [
            "Total detections: 61504\n",
            "Loading and preparing results...\n",
            "DONE (t=0.43s)\n",
            "creating index...\n",
            "index created!\n",
            "Running per image evaluation...\n",
            "Evaluate annotation type *bbox*\n",
            "DONE (t=1.13s).\n",
            "Accumulating evaluation results...\n",
            "DONE (t=0.14s).\n",
            " Average Precision  (AP) @[ IoU=0.50:0.95 | area=   all | maxDets=100 ] = 0.000\n",
            " Average Precision  (AP) @[ IoU=0.50      | area=   all | maxDets=100 ] = 0.000\n",
            " Average Precision  (AP) @[ IoU=0.75      | area=   all | maxDets=100 ] = 0.000\n",
            " Average Precision  (AP) @[ IoU=0.50:0.95 | area= small | maxDets=100 ] = 0.000\n",
            " Average Precision  (AP) @[ IoU=0.50:0.95 | area=medium | maxDets=100 ] = 0.000\n",
            " Average Precision  (AP) @[ IoU=0.50:0.95 | area= large | maxDets=100 ] = 0.000\n",
            " Average Recall     (AR) @[ IoU=0.50:0.95 | area=   all | maxDets=  1 ] = 0.000\n",
            " Average Recall     (AR) @[ IoU=0.50:0.95 | area=   all | maxDets= 10 ] = 0.000\n",
            " Average Recall     (AR) @[ IoU=0.50:0.95 | area=   all | maxDets=100 ] = 0.000\n",
            " Average Recall     (AR) @[ IoU=0.50:0.95 | area= small | maxDets=100 ] = 0.000\n",
            " Average Recall     (AR) @[ IoU=0.50:0.95 | area=medium | maxDets=100 ] = 0.000\n",
            " Average Recall     (AR) @[ IoU=0.50:0.95 | area= large | maxDets=100 ] = 0.000\n"
          ]
        },
        {
          "output_type": "stream",
          "name": "stderr",
          "text": [
            "Stage 2 Epoch 6 [Val]:  60%|██████    | 3/5 [00:15<00:10,  5.17s/it]\n",
            "Evaluating:   0%|          | 0/5 [00:00<?, ?it/s]\u001b[A\n",
            "Evaluating:  20%|██        | 1/5 [00:00<00:01,  2.01it/s]\u001b[A\n",
            "Evaluating:  40%|████      | 2/5 [00:00<00:01,  2.58it/s]\u001b[A\n",
            "Evaluating:  60%|██████    | 3/5 [00:01<00:00,  2.87it/s]\u001b[A\n",
            "Evaluating:  80%|████████  | 4/5 [00:01<00:00,  3.01it/s]\u001b[A\n",
            "Evaluating: 100%|██████████| 5/5 [00:01<00:00,  2.89it/s]\n"
          ]
        },
        {
          "output_type": "stream",
          "name": "stdout",
          "text": [
            "Total detections: 61504\n",
            "Loading and preparing results...\n",
            "DONE (t=0.86s)\n",
            "creating index...\n",
            "index created!\n",
            "Running per image evaluation...\n",
            "Evaluate annotation type *bbox*\n",
            "DONE (t=1.34s).\n",
            "Accumulating evaluation results...\n",
            "DONE (t=0.14s).\n",
            " Average Precision  (AP) @[ IoU=0.50:0.95 | area=   all | maxDets=100 ] = 0.000\n",
            " Average Precision  (AP) @[ IoU=0.50      | area=   all | maxDets=100 ] = 0.000\n",
            " Average Precision  (AP) @[ IoU=0.75      | area=   all | maxDets=100 ] = 0.000\n",
            " Average Precision  (AP) @[ IoU=0.50:0.95 | area= small | maxDets=100 ] = 0.000\n",
            " Average Precision  (AP) @[ IoU=0.50:0.95 | area=medium | maxDets=100 ] = 0.000\n",
            " Average Precision  (AP) @[ IoU=0.50:0.95 | area= large | maxDets=100 ] = 0.000\n",
            " Average Recall     (AR) @[ IoU=0.50:0.95 | area=   all | maxDets=  1 ] = 0.000\n",
            " Average Recall     (AR) @[ IoU=0.50:0.95 | area=   all | maxDets= 10 ] = 0.000\n",
            " Average Recall     (AR) @[ IoU=0.50:0.95 | area=   all | maxDets=100 ] = 0.000\n",
            " Average Recall     (AR) @[ IoU=0.50:0.95 | area= small | maxDets=100 ] = 0.000\n",
            " Average Recall     (AR) @[ IoU=0.50:0.95 | area=medium | maxDets=100 ] = 0.000\n",
            " Average Recall     (AR) @[ IoU=0.50:0.95 | area= large | maxDets=100 ] = 0.000\n"
          ]
        },
        {
          "output_type": "stream",
          "name": "stderr",
          "text": [
            "Stage 2 Epoch 6 [Val]:  80%|████████  | 4/5 [00:21<00:05,  5.65s/it]\n",
            "Evaluating:   0%|          | 0/5 [00:00<?, ?it/s]\u001b[A\n",
            "Evaluating:  20%|██        | 1/5 [00:00<00:01,  3.05it/s]\u001b[A\n",
            "Evaluating:  40%|████      | 2/5 [00:00<00:00,  3.20it/s]\u001b[A\n",
            "Evaluating:  60%|██████    | 3/5 [00:01<00:00,  2.64it/s]\u001b[A\n",
            "Evaluating:  80%|████████  | 4/5 [00:01<00:00,  2.83it/s]\u001b[A\n",
            "Evaluating: 100%|██████████| 5/5 [00:01<00:00,  2.92it/s]\n"
          ]
        },
        {
          "output_type": "stream",
          "name": "stdout",
          "text": [
            "Total detections: 61504\n",
            "Loading and preparing results...\n",
            "DONE (t=0.65s)\n",
            "creating index...\n",
            "index created!\n",
            "Running per image evaluation...\n",
            "Evaluate annotation type *bbox*\n",
            "DONE (t=1.17s).\n",
            "Accumulating evaluation results...\n",
            "DONE (t=0.14s).\n",
            " Average Precision  (AP) @[ IoU=0.50:0.95 | area=   all | maxDets=100 ] = 0.000\n",
            " Average Precision  (AP) @[ IoU=0.50      | area=   all | maxDets=100 ] = 0.000\n",
            " Average Precision  (AP) @[ IoU=0.75      | area=   all | maxDets=100 ] = 0.000\n",
            " Average Precision  (AP) @[ IoU=0.50:0.95 | area= small | maxDets=100 ] = 0.000\n",
            " Average Precision  (AP) @[ IoU=0.50:0.95 | area=medium | maxDets=100 ] = 0.000\n",
            " Average Precision  (AP) @[ IoU=0.50:0.95 | area= large | maxDets=100 ] = 0.000\n",
            " Average Recall     (AR) @[ IoU=0.50:0.95 | area=   all | maxDets=  1 ] = 0.000\n",
            " Average Recall     (AR) @[ IoU=0.50:0.95 | area=   all | maxDets= 10 ] = 0.000\n",
            " Average Recall     (AR) @[ IoU=0.50:0.95 | area=   all | maxDets=100 ] = 0.000\n",
            " Average Recall     (AR) @[ IoU=0.50:0.95 | area= small | maxDets=100 ] = 0.000\n",
            " Average Recall     (AR) @[ IoU=0.50:0.95 | area=medium | maxDets=100 ] = 0.000\n",
            " Average Recall     (AR) @[ IoU=0.50:0.95 | area= large | maxDets=100 ] = 0.000\n"
          ]
        },
        {
          "output_type": "stream",
          "name": "stderr",
          "text": [
            "Stage 2 Epoch 6 [Val]: 100%|██████████| 5/5 [00:27<00:00,  5.41s/it]\n"
          ]
        },
        {
          "output_type": "stream",
          "name": "stdout",
          "text": [
            "[Stage 2 Epoch 6] Train Loss: 0.6380, Val Loss: 0.5634, mAP: 0.000000, Train Time: 00:00:10, Val Time: 00:00:27\n"
          ]
        },
        {
          "output_type": "stream",
          "name": "stderr",
          "text": [
            "Stage 2 Epoch 7 [Train]: 100%|██████████| 20/20 [00:10<00:00,  1.97it/s]\n",
            "Stage 2 Epoch 7 [Val]:   0%|          | 0/5 [00:00<?, ?it/s]\n",
            "Evaluating:   0%|          | 0/5 [00:00<?, ?it/s]\u001b[A\n",
            "Evaluating:  20%|██        | 1/5 [00:00<00:01,  3.20it/s]\u001b[A\n",
            "Evaluating:  40%|████      | 2/5 [00:00<00:00,  3.27it/s]\u001b[A\n",
            "Evaluating:  60%|██████    | 3/5 [00:00<00:00,  3.19it/s]\u001b[A\n",
            "Evaluating:  80%|████████  | 4/5 [00:01<00:00,  3.15it/s]\u001b[A\n",
            "Evaluating: 100%|██████████| 5/5 [00:01<00:00,  3.19it/s]\n"
          ]
        },
        {
          "output_type": "stream",
          "name": "stdout",
          "text": [
            "Total detections: 73925\n",
            "Loading and preparing results...\n",
            "DONE (t=0.68s)\n",
            "creating index...\n",
            "index created!\n",
            "Running per image evaluation...\n",
            "Evaluate annotation type *bbox*\n",
            "DONE (t=1.17s).\n",
            "Accumulating evaluation results...\n",
            "DONE (t=0.16s).\n",
            " Average Precision  (AP) @[ IoU=0.50:0.95 | area=   all | maxDets=100 ] = 0.002\n",
            " Average Precision  (AP) @[ IoU=0.50      | area=   all | maxDets=100 ] = 0.012\n",
            " Average Precision  (AP) @[ IoU=0.75      | area=   all | maxDets=100 ] = 0.000\n",
            " Average Precision  (AP) @[ IoU=0.50:0.95 | area= small | maxDets=100 ] = 0.000\n",
            " Average Precision  (AP) @[ IoU=0.50:0.95 | area=medium | maxDets=100 ] = 0.000\n",
            " Average Precision  (AP) @[ IoU=0.50:0.95 | area= large | maxDets=100 ] = 0.002\n",
            " Average Recall     (AR) @[ IoU=0.50:0.95 | area=   all | maxDets=  1 ] = 0.001\n",
            " Average Recall     (AR) @[ IoU=0.50:0.95 | area=   all | maxDets= 10 ] = 0.002\n",
            " Average Recall     (AR) @[ IoU=0.50:0.95 | area=   all | maxDets=100 ] = 0.003\n",
            " Average Recall     (AR) @[ IoU=0.50:0.95 | area= small | maxDets=100 ] = 0.000\n",
            " Average Recall     (AR) @[ IoU=0.50:0.95 | area=medium | maxDets=100 ] = 0.001\n",
            " Average Recall     (AR) @[ IoU=0.50:0.95 | area= large | maxDets=100 ] = 0.004\n"
          ]
        },
        {
          "output_type": "stream",
          "name": "stderr",
          "text": [
            "Stage 2 Epoch 7 [Val]:  20%|██        | 1/5 [00:05<00:20,  5.24s/it]\n",
            "Evaluating:   0%|          | 0/5 [00:00<?, ?it/s]\u001b[A\n",
            "Evaluating:  20%|██        | 1/5 [00:00<00:01,  2.12it/s]\u001b[A\n",
            "Evaluating:  40%|████      | 2/5 [00:00<00:01,  2.55it/s]\u001b[A\n",
            "Evaluating:  60%|██████    | 3/5 [00:01<00:00,  2.81it/s]\u001b[A\n",
            "Evaluating:  80%|████████  | 4/5 [00:01<00:00,  2.81it/s]\u001b[A\n",
            "Evaluating: 100%|██████████| 5/5 [00:02<00:00,  2.36it/s]\n"
          ]
        },
        {
          "output_type": "stream",
          "name": "stdout",
          "text": [
            "Total detections: 73925\n",
            "Loading and preparing results...\n",
            "DONE (t=0.80s)\n",
            "creating index...\n",
            "index created!\n",
            "Running per image evaluation...\n",
            "Evaluate annotation type *bbox*\n",
            "DONE (t=1.18s).\n",
            "Accumulating evaluation results...\n",
            "DONE (t=0.14s).\n",
            " Average Precision  (AP) @[ IoU=0.50:0.95 | area=   all | maxDets=100 ] = 0.002\n",
            " Average Precision  (AP) @[ IoU=0.50      | area=   all | maxDets=100 ] = 0.012\n",
            " Average Precision  (AP) @[ IoU=0.75      | area=   all | maxDets=100 ] = 0.000\n",
            " Average Precision  (AP) @[ IoU=0.50:0.95 | area= small | maxDets=100 ] = 0.000\n",
            " Average Precision  (AP) @[ IoU=0.50:0.95 | area=medium | maxDets=100 ] = 0.000\n",
            " Average Precision  (AP) @[ IoU=0.50:0.95 | area= large | maxDets=100 ] = 0.002\n",
            " Average Recall     (AR) @[ IoU=0.50:0.95 | area=   all | maxDets=  1 ] = 0.001\n",
            " Average Recall     (AR) @[ IoU=0.50:0.95 | area=   all | maxDets= 10 ] = 0.002\n",
            " Average Recall     (AR) @[ IoU=0.50:0.95 | area=   all | maxDets=100 ] = 0.003\n",
            " Average Recall     (AR) @[ IoU=0.50:0.95 | area= small | maxDets=100 ] = 0.000\n",
            " Average Recall     (AR) @[ IoU=0.50:0.95 | area=medium | maxDets=100 ] = 0.001\n",
            " Average Recall     (AR) @[ IoU=0.50:0.95 | area= large | maxDets=100 ] = 0.004\n"
          ]
        },
        {
          "output_type": "stream",
          "name": "stderr",
          "text": [
            "Stage 2 Epoch 7 [Val]:  40%|████      | 2/5 [00:12<00:18,  6.24s/it]\n",
            "Evaluating:   0%|          | 0/5 [00:00<?, ?it/s]\u001b[A\n",
            "Evaluating:  20%|██        | 1/5 [00:00<00:01,  3.16it/s]\u001b[A\n",
            "Evaluating:  40%|████      | 2/5 [00:00<00:00,  3.25it/s]\u001b[A\n",
            "Evaluating:  60%|██████    | 3/5 [00:00<00:00,  3.23it/s]\u001b[A\n",
            "Evaluating:  80%|████████  | 4/5 [00:01<00:00,  3.18it/s]\u001b[A\n",
            "Evaluating: 100%|██████████| 5/5 [00:01<00:00,  3.19it/s]\n"
          ]
        },
        {
          "output_type": "stream",
          "name": "stdout",
          "text": [
            "Total detections: 73925\n",
            "Loading and preparing results...\n",
            "DONE (t=0.68s)\n",
            "creating index...\n",
            "index created!\n",
            "Running per image evaluation...\n",
            "Evaluate annotation type *bbox*\n",
            "DONE (t=1.15s).\n",
            "Accumulating evaluation results...\n",
            "DONE (t=0.15s).\n",
            " Average Precision  (AP) @[ IoU=0.50:0.95 | area=   all | maxDets=100 ] = 0.002\n",
            " Average Precision  (AP) @[ IoU=0.50      | area=   all | maxDets=100 ] = 0.012\n",
            " Average Precision  (AP) @[ IoU=0.75      | area=   all | maxDets=100 ] = 0.000\n",
            " Average Precision  (AP) @[ IoU=0.50:0.95 | area= small | maxDets=100 ] = 0.000\n",
            " Average Precision  (AP) @[ IoU=0.50:0.95 | area=medium | maxDets=100 ] = 0.000\n",
            " Average Precision  (AP) @[ IoU=0.50:0.95 | area= large | maxDets=100 ] = 0.002\n",
            " Average Recall     (AR) @[ IoU=0.50:0.95 | area=   all | maxDets=  1 ] = 0.001\n",
            " Average Recall     (AR) @[ IoU=0.50:0.95 | area=   all | maxDets= 10 ] = 0.002\n",
            " Average Recall     (AR) @[ IoU=0.50:0.95 | area=   all | maxDets=100 ] = 0.003\n",
            " Average Recall     (AR) @[ IoU=0.50:0.95 | area= small | maxDets=100 ] = 0.000\n",
            " Average Recall     (AR) @[ IoU=0.50:0.95 | area=medium | maxDets=100 ] = 0.001\n",
            " Average Recall     (AR) @[ IoU=0.50:0.95 | area= large | maxDets=100 ] = 0.004\n"
          ]
        },
        {
          "output_type": "stream",
          "name": "stderr",
          "text": [
            "Stage 2 Epoch 7 [Val]:  60%|██████    | 3/5 [00:17<00:11,  5.76s/it]\n",
            "Evaluating:   0%|          | 0/5 [00:00<?, ?it/s]\u001b[A\n",
            "Evaluating:  20%|██        | 1/5 [00:00<00:01,  3.19it/s]\u001b[A\n",
            "Evaluating:  40%|████      | 2/5 [00:00<00:00,  3.25it/s]\u001b[A\n",
            "Evaluating:  60%|██████    | 3/5 [00:01<00:00,  2.56it/s]\u001b[A\n",
            "Evaluating:  80%|████████  | 4/5 [00:01<00:00,  2.77it/s]\u001b[A\n",
            "Evaluating: 100%|██████████| 5/5 [00:01<00:00,  2.88it/s]\n"
          ]
        },
        {
          "output_type": "stream",
          "name": "stdout",
          "text": [
            "Total detections: 73925\n",
            "Loading and preparing results...\n",
            "DONE (t=0.99s)\n",
            "creating index...\n",
            "index created!\n",
            "Running per image evaluation...\n",
            "Evaluate annotation type *bbox*\n",
            "DONE (t=1.68s).\n",
            "Accumulating evaluation results...\n",
            "DONE (t=0.16s).\n",
            " Average Precision  (AP) @[ IoU=0.50:0.95 | area=   all | maxDets=100 ] = 0.002\n",
            " Average Precision  (AP) @[ IoU=0.50      | area=   all | maxDets=100 ] = 0.012\n",
            " Average Precision  (AP) @[ IoU=0.75      | area=   all | maxDets=100 ] = 0.000\n",
            " Average Precision  (AP) @[ IoU=0.50:0.95 | area= small | maxDets=100 ] = 0.000\n",
            " Average Precision  (AP) @[ IoU=0.50:0.95 | area=medium | maxDets=100 ] = 0.000\n",
            " Average Precision  (AP) @[ IoU=0.50:0.95 | area= large | maxDets=100 ] = 0.002\n",
            " Average Recall     (AR) @[ IoU=0.50:0.95 | area=   all | maxDets=  1 ] = 0.001\n",
            " Average Recall     (AR) @[ IoU=0.50:0.95 | area=   all | maxDets= 10 ] = 0.002\n",
            " Average Recall     (AR) @[ IoU=0.50:0.95 | area=   all | maxDets=100 ] = 0.003\n",
            " Average Recall     (AR) @[ IoU=0.50:0.95 | area= small | maxDets=100 ] = 0.000\n",
            " Average Recall     (AR) @[ IoU=0.50:0.95 | area=medium | maxDets=100 ] = 0.001\n",
            " Average Recall     (AR) @[ IoU=0.50:0.95 | area= large | maxDets=100 ] = 0.004\n"
          ]
        },
        {
          "output_type": "stream",
          "name": "stderr",
          "text": [
            "Stage 2 Epoch 7 [Val]:  80%|████████  | 4/5 [00:24<00:06,  6.15s/it]\n",
            "Evaluating:   0%|          | 0/5 [00:00<?, ?it/s]\u001b[A\n",
            "Evaluating:  20%|██        | 1/5 [00:00<00:01,  3.11it/s]\u001b[A\n",
            "Evaluating:  40%|████      | 2/5 [00:00<00:00,  3.21it/s]\u001b[A\n",
            "Evaluating:  60%|██████    | 3/5 [00:01<00:00,  2.53it/s]\u001b[A\n",
            "Evaluating:  80%|████████  | 4/5 [00:01<00:00,  2.45it/s]\u001b[A\n",
            "Evaluating: 100%|██████████| 5/5 [00:01<00:00,  2.67it/s]\n"
          ]
        },
        {
          "output_type": "stream",
          "name": "stdout",
          "text": [
            "Total detections: 73925\n",
            "Loading and preparing results...\n",
            "DONE (t=0.69s)\n",
            "creating index...\n",
            "index created!\n",
            "Running per image evaluation...\n",
            "Evaluate annotation type *bbox*\n",
            "DONE (t=1.19s).\n",
            "Accumulating evaluation results...\n",
            "DONE (t=0.14s).\n",
            " Average Precision  (AP) @[ IoU=0.50:0.95 | area=   all | maxDets=100 ] = 0.002\n",
            " Average Precision  (AP) @[ IoU=0.50      | area=   all | maxDets=100 ] = 0.012\n",
            " Average Precision  (AP) @[ IoU=0.75      | area=   all | maxDets=100 ] = 0.000\n",
            " Average Precision  (AP) @[ IoU=0.50:0.95 | area= small | maxDets=100 ] = 0.000\n",
            " Average Precision  (AP) @[ IoU=0.50:0.95 | area=medium | maxDets=100 ] = 0.000\n",
            " Average Precision  (AP) @[ IoU=0.50:0.95 | area= large | maxDets=100 ] = 0.002\n",
            " Average Recall     (AR) @[ IoU=0.50:0.95 | area=   all | maxDets=  1 ] = 0.001\n",
            " Average Recall     (AR) @[ IoU=0.50:0.95 | area=   all | maxDets= 10 ] = 0.002\n",
            " Average Recall     (AR) @[ IoU=0.50:0.95 | area=   all | maxDets=100 ] = 0.003\n",
            " Average Recall     (AR) @[ IoU=0.50:0.95 | area= small | maxDets=100 ] = 0.000\n",
            " Average Recall     (AR) @[ IoU=0.50:0.95 | area=medium | maxDets=100 ] = 0.001\n",
            " Average Recall     (AR) @[ IoU=0.50:0.95 | area= large | maxDets=100 ] = 0.004\n"
          ]
        },
        {
          "output_type": "stream",
          "name": "stderr",
          "text": [
            "Stage 2 Epoch 7 [Val]: 100%|██████████| 5/5 [00:29<00:00,  5.93s/it]\n"
          ]
        },
        {
          "output_type": "stream",
          "name": "stdout",
          "text": [
            "[Stage 2 Epoch 7] Train Loss: 0.5750, Val Loss: 0.5419, mAP: 0.001586, Train Time: 00:00:10, Val Time: 00:00:29\n"
          ]
        },
        {
          "output_type": "stream",
          "name": "stderr",
          "text": [
            "Stage 2 Epoch 8 [Train]: 100%|██████████| 20/20 [00:09<00:00,  2.02it/s]\n",
            "Stage 2 Epoch 8 [Val]:   0%|          | 0/5 [00:00<?, ?it/s]\n",
            "Evaluating:   0%|          | 0/5 [00:00<?, ?it/s]\u001b[A\n",
            "Evaluating:  20%|██        | 1/5 [00:00<00:01,  3.05it/s]\u001b[A\n",
            "Evaluating:  40%|████      | 2/5 [00:00<00:00,  3.19it/s]\u001b[A\n",
            "Evaluating:  60%|██████    | 3/5 [00:00<00:00,  3.19it/s]\u001b[A\n",
            "Evaluating:  80%|████████  | 4/5 [00:01<00:00,  2.64it/s]\u001b[A\n",
            "Evaluating: 100%|██████████| 5/5 [00:01<00:00,  2.86it/s]\n"
          ]
        },
        {
          "output_type": "stream",
          "name": "stdout",
          "text": [
            "Total detections: 71073\n",
            "Loading and preparing results...\n",
            "DONE (t=0.67s)\n",
            "creating index...\n",
            "index created!\n",
            "Running per image evaluation...\n",
            "Evaluate annotation type *bbox*\n",
            "DONE (t=1.18s).\n",
            "Accumulating evaluation results...\n",
            "DONE (t=0.14s).\n",
            " Average Precision  (AP) @[ IoU=0.50:0.95 | area=   all | maxDets=100 ] = 0.000\n",
            " Average Precision  (AP) @[ IoU=0.50      | area=   all | maxDets=100 ] = 0.000\n",
            " Average Precision  (AP) @[ IoU=0.75      | area=   all | maxDets=100 ] = 0.000\n",
            " Average Precision  (AP) @[ IoU=0.50:0.95 | area= small | maxDets=100 ] = 0.000\n",
            " Average Precision  (AP) @[ IoU=0.50:0.95 | area=medium | maxDets=100 ] = 0.000\n",
            " Average Precision  (AP) @[ IoU=0.50:0.95 | area= large | maxDets=100 ] = 0.000\n",
            " Average Recall     (AR) @[ IoU=0.50:0.95 | area=   all | maxDets=  1 ] = 0.000\n",
            " Average Recall     (AR) @[ IoU=0.50:0.95 | area=   all | maxDets= 10 ] = 0.003\n",
            " Average Recall     (AR) @[ IoU=0.50:0.95 | area=   all | maxDets=100 ] = 0.005\n",
            " Average Recall     (AR) @[ IoU=0.50:0.95 | area= small | maxDets=100 ] = 0.002\n",
            " Average Recall     (AR) @[ IoU=0.50:0.95 | area=medium | maxDets=100 ] = 0.016\n",
            " Average Recall     (AR) @[ IoU=0.50:0.95 | area= large | maxDets=100 ] = 0.000\n"
          ]
        },
        {
          "output_type": "stream",
          "name": "stderr",
          "text": [
            "Stage 2 Epoch 8 [Val]:  20%|██        | 1/5 [00:05<00:21,  5.37s/it]\n",
            "Evaluating:   0%|          | 0/5 [00:00<?, ?it/s]\u001b[A\n",
            "Evaluating:  20%|██        | 1/5 [00:00<00:01,  3.01it/s]\u001b[A\n",
            "Evaluating:  40%|████      | 2/5 [00:00<00:00,  3.12it/s]\u001b[A\n",
            "Evaluating:  60%|██████    | 3/5 [00:00<00:00,  3.16it/s]\u001b[A\n",
            "Evaluating:  80%|████████  | 4/5 [00:01<00:00,  3.21it/s]\u001b[A\n",
            "Evaluating: 100%|██████████| 5/5 [00:01<00:00,  2.97it/s]\n"
          ]
        },
        {
          "output_type": "stream",
          "name": "stdout",
          "text": [
            "Total detections: 71073\n",
            "Loading and preparing results...\n",
            "DONE (t=0.88s)\n",
            "creating index...\n",
            "index created!\n",
            "Running per image evaluation...\n",
            "Evaluate annotation type *bbox*\n",
            "DONE (t=1.20s).\n",
            "Accumulating evaluation results...\n",
            "DONE (t=0.15s).\n",
            " Average Precision  (AP) @[ IoU=0.50:0.95 | area=   all | maxDets=100 ] = 0.000\n",
            " Average Precision  (AP) @[ IoU=0.50      | area=   all | maxDets=100 ] = 0.000\n",
            " Average Precision  (AP) @[ IoU=0.75      | area=   all | maxDets=100 ] = 0.000\n",
            " Average Precision  (AP) @[ IoU=0.50:0.95 | area= small | maxDets=100 ] = 0.000\n",
            " Average Precision  (AP) @[ IoU=0.50:0.95 | area=medium | maxDets=100 ] = 0.000\n",
            " Average Precision  (AP) @[ IoU=0.50:0.95 | area= large | maxDets=100 ] = 0.000\n",
            " Average Recall     (AR) @[ IoU=0.50:0.95 | area=   all | maxDets=  1 ] = 0.000\n",
            " Average Recall     (AR) @[ IoU=0.50:0.95 | area=   all | maxDets= 10 ] = 0.003\n",
            " Average Recall     (AR) @[ IoU=0.50:0.95 | area=   all | maxDets=100 ] = 0.005\n",
            " Average Recall     (AR) @[ IoU=0.50:0.95 | area= small | maxDets=100 ] = 0.002\n",
            " Average Recall     (AR) @[ IoU=0.50:0.95 | area=medium | maxDets=100 ] = 0.016\n",
            " Average Recall     (AR) @[ IoU=0.50:0.95 | area= large | maxDets=100 ] = 0.000\n"
          ]
        },
        {
          "output_type": "stream",
          "name": "stderr",
          "text": [
            "Stage 2 Epoch 8 [Val]:  40%|████      | 2/5 [00:11<00:18,  6.04s/it]\n",
            "Evaluating:   0%|          | 0/5 [00:00<?, ?it/s]\u001b[A\n",
            "Evaluating:  20%|██        | 1/5 [00:00<00:01,  2.02it/s]\u001b[A\n",
            "Evaluating:  40%|████      | 2/5 [00:00<00:01,  2.58it/s]\u001b[A\n",
            "Evaluating:  60%|██████    | 3/5 [00:01<00:00,  2.84it/s]\u001b[A\n",
            "Evaluating:  80%|████████  | 4/5 [00:01<00:00,  2.99it/s]\u001b[A\n",
            "Evaluating: 100%|██████████| 5/5 [00:01<00:00,  2.60it/s]\n"
          ]
        },
        {
          "output_type": "stream",
          "name": "stdout",
          "text": [
            "Total detections: 71073\n",
            "Loading and preparing results...\n",
            "DONE (t=0.71s)\n",
            "creating index...\n",
            "index created!\n",
            "Running per image evaluation...\n",
            "Evaluate annotation type *bbox*\n",
            "DONE (t=1.84s).\n",
            "Accumulating evaluation results...\n",
            "DONE (t=0.14s).\n",
            " Average Precision  (AP) @[ IoU=0.50:0.95 | area=   all | maxDets=100 ] = 0.000\n",
            " Average Precision  (AP) @[ IoU=0.50      | area=   all | maxDets=100 ] = 0.000\n",
            " Average Precision  (AP) @[ IoU=0.75      | area=   all | maxDets=100 ] = 0.000\n",
            " Average Precision  (AP) @[ IoU=0.50:0.95 | area= small | maxDets=100 ] = 0.000\n",
            " Average Precision  (AP) @[ IoU=0.50:0.95 | area=medium | maxDets=100 ] = 0.000\n",
            " Average Precision  (AP) @[ IoU=0.50:0.95 | area= large | maxDets=100 ] = 0.000\n",
            " Average Recall     (AR) @[ IoU=0.50:0.95 | area=   all | maxDets=  1 ] = 0.000\n",
            " Average Recall     (AR) @[ IoU=0.50:0.95 | area=   all | maxDets= 10 ] = 0.003\n",
            " Average Recall     (AR) @[ IoU=0.50:0.95 | area=   all | maxDets=100 ] = 0.005\n",
            " Average Recall     (AR) @[ IoU=0.50:0.95 | area= small | maxDets=100 ] = 0.002\n",
            " Average Recall     (AR) @[ IoU=0.50:0.95 | area=medium | maxDets=100 ] = 0.016\n",
            " Average Recall     (AR) @[ IoU=0.50:0.95 | area= large | maxDets=100 ] = 0.000\n"
          ]
        },
        {
          "output_type": "stream",
          "name": "stderr",
          "text": [
            "Stage 2 Epoch 8 [Val]:  60%|██████    | 3/5 [00:18<00:12,  6.33s/it]\n",
            "Evaluating:   0%|          | 0/5 [00:00<?, ?it/s]\u001b[A\n",
            "Evaluating:  20%|██        | 1/5 [00:00<00:01,  2.10it/s]\u001b[A\n",
            "Evaluating:  40%|████      | 2/5 [00:00<00:01,  2.66it/s]\u001b[A\n",
            "Evaluating:  60%|██████    | 3/5 [00:01<00:00,  2.84it/s]\u001b[A\n",
            "Evaluating:  80%|████████  | 4/5 [00:01<00:00,  2.92it/s]\u001b[A\n",
            "Evaluating: 100%|██████████| 5/5 [00:02<00:00,  2.40it/s]\n"
          ]
        },
        {
          "output_type": "stream",
          "name": "stdout",
          "text": [
            "Total detections: 71073\n",
            "Loading and preparing results...\n",
            "DONE (t=0.80s)\n",
            "creating index...\n",
            "index created!\n",
            "Running per image evaluation...\n",
            "Evaluate annotation type *bbox*\n",
            "DONE (t=1.19s).\n",
            "Accumulating evaluation results...\n",
            "DONE (t=0.14s).\n",
            " Average Precision  (AP) @[ IoU=0.50:0.95 | area=   all | maxDets=100 ] = 0.000\n",
            " Average Precision  (AP) @[ IoU=0.50      | area=   all | maxDets=100 ] = 0.000\n",
            " Average Precision  (AP) @[ IoU=0.75      | area=   all | maxDets=100 ] = 0.000\n",
            " Average Precision  (AP) @[ IoU=0.50:0.95 | area= small | maxDets=100 ] = 0.000\n",
            " Average Precision  (AP) @[ IoU=0.50:0.95 | area=medium | maxDets=100 ] = 0.000\n",
            " Average Precision  (AP) @[ IoU=0.50:0.95 | area= large | maxDets=100 ] = 0.000\n",
            " Average Recall     (AR) @[ IoU=0.50:0.95 | area=   all | maxDets=  1 ] = 0.000\n",
            " Average Recall     (AR) @[ IoU=0.50:0.95 | area=   all | maxDets= 10 ] = 0.003\n",
            " Average Recall     (AR) @[ IoU=0.50:0.95 | area=   all | maxDets=100 ] = 0.005\n",
            " Average Recall     (AR) @[ IoU=0.50:0.95 | area= small | maxDets=100 ] = 0.002\n",
            " Average Recall     (AR) @[ IoU=0.50:0.95 | area=medium | maxDets=100 ] = 0.016\n",
            " Average Recall     (AR) @[ IoU=0.50:0.95 | area= large | maxDets=100 ] = 0.000\n"
          ]
        },
        {
          "output_type": "stream",
          "name": "stderr",
          "text": [
            "Stage 2 Epoch 8 [Val]:  80%|████████  | 4/5 [00:25<00:06,  6.54s/it]\n",
            "Evaluating:   0%|          | 0/5 [00:00<?, ?it/s]\u001b[A\n",
            "Evaluating:  20%|██        | 1/5 [00:00<00:01,  3.15it/s]\u001b[A\n",
            "Evaluating:  40%|████      | 2/5 [00:00<00:00,  3.07it/s]\u001b[A\n",
            "Evaluating:  60%|██████    | 3/5 [00:00<00:00,  3.16it/s]\u001b[A\n",
            "Evaluating:  80%|████████  | 4/5 [00:01<00:00,  3.19it/s]\u001b[A\n",
            "Evaluating: 100%|██████████| 5/5 [00:01<00:00,  3.13it/s]\n"
          ]
        },
        {
          "output_type": "stream",
          "name": "stdout",
          "text": [
            "Total detections: 71073\n",
            "Loading and preparing results...\n",
            "DONE (t=0.66s)\n",
            "creating index...\n",
            "index created!\n",
            "Running per image evaluation...\n",
            "Evaluate annotation type *bbox*\n",
            "DONE (t=1.15s).\n",
            "Accumulating evaluation results...\n",
            "DONE (t=0.15s).\n",
            " Average Precision  (AP) @[ IoU=0.50:0.95 | area=   all | maxDets=100 ] = 0.000\n",
            " Average Precision  (AP) @[ IoU=0.50      | area=   all | maxDets=100 ] = 0.000\n",
            " Average Precision  (AP) @[ IoU=0.75      | area=   all | maxDets=100 ] = 0.000\n",
            " Average Precision  (AP) @[ IoU=0.50:0.95 | area= small | maxDets=100 ] = 0.000\n",
            " Average Precision  (AP) @[ IoU=0.50:0.95 | area=medium | maxDets=100 ] = 0.000\n",
            " Average Precision  (AP) @[ IoU=0.50:0.95 | area= large | maxDets=100 ] = 0.000\n",
            " Average Recall     (AR) @[ IoU=0.50:0.95 | area=   all | maxDets=  1 ] = 0.000\n",
            " Average Recall     (AR) @[ IoU=0.50:0.95 | area=   all | maxDets= 10 ] = 0.003\n",
            " Average Recall     (AR) @[ IoU=0.50:0.95 | area=   all | maxDets=100 ] = 0.005\n",
            " Average Recall     (AR) @[ IoU=0.50:0.95 | area= small | maxDets=100 ] = 0.002\n",
            " Average Recall     (AR) @[ IoU=0.50:0.95 | area=medium | maxDets=100 ] = 0.016\n",
            " Average Recall     (AR) @[ IoU=0.50:0.95 | area= large | maxDets=100 ] = 0.000\n"
          ]
        },
        {
          "output_type": "stream",
          "name": "stderr",
          "text": [
            "Stage 2 Epoch 8 [Val]: 100%|██████████| 5/5 [00:30<00:00,  6.12s/it]\n"
          ]
        },
        {
          "output_type": "stream",
          "name": "stdout",
          "text": [
            "[Stage 2 Epoch 8] Train Loss: 0.5411, Val Loss: 0.5257, mAP: 0.000029, Train Time: 00:00:09, Val Time: 00:00:30\n"
          ]
        },
        {
          "output_type": "stream",
          "name": "stderr",
          "text": [
            "Stage 2 Epoch 9 [Train]: 100%|██████████| 20/20 [00:09<00:00,  2.01it/s]\n",
            "Stage 2 Epoch 9 [Val]:   0%|          | 0/5 [00:00<?, ?it/s]\n",
            "Evaluating:   0%|          | 0/5 [00:00<?, ?it/s]\u001b[A\n",
            "Evaluating:  20%|██        | 1/5 [00:00<00:01,  3.24it/s]\u001b[A\n",
            "Evaluating:  40%|████      | 2/5 [00:00<00:00,  3.32it/s]\u001b[A\n",
            "Evaluating:  60%|██████    | 3/5 [00:01<00:00,  2.65it/s]\u001b[A\n",
            "Evaluating:  80%|████████  | 4/5 [00:01<00:00,  2.86it/s]\u001b[A\n",
            "Evaluating: 100%|██████████| 5/5 [00:01<00:00,  2.95it/s]\n"
          ]
        },
        {
          "output_type": "stream",
          "name": "stdout",
          "text": [
            "Total detections: 53943\n",
            "Loading and preparing results...\n",
            "DONE (t=0.61s)\n",
            "creating index...\n",
            "index created!\n",
            "Running per image evaluation...\n",
            "Evaluate annotation type *bbox*\n",
            "DONE (t=1.14s).\n",
            "Accumulating evaluation results...\n",
            "DONE (t=0.14s).\n",
            " Average Precision  (AP) @[ IoU=0.50:0.95 | area=   all | maxDets=100 ] = 0.000\n",
            " Average Precision  (AP) @[ IoU=0.50      | area=   all | maxDets=100 ] = 0.000\n",
            " Average Precision  (AP) @[ IoU=0.75      | area=   all | maxDets=100 ] = 0.000\n",
            " Average Precision  (AP) @[ IoU=0.50:0.95 | area= small | maxDets=100 ] = 0.000\n",
            " Average Precision  (AP) @[ IoU=0.50:0.95 | area=medium | maxDets=100 ] = 0.000\n",
            " Average Precision  (AP) @[ IoU=0.50:0.95 | area= large | maxDets=100 ] = 0.000\n",
            " Average Recall     (AR) @[ IoU=0.50:0.95 | area=   all | maxDets=  1 ] = 0.000\n",
            " Average Recall     (AR) @[ IoU=0.50:0.95 | area=   all | maxDets= 10 ] = 0.000\n",
            " Average Recall     (AR) @[ IoU=0.50:0.95 | area=   all | maxDets=100 ] = 0.000\n",
            " Average Recall     (AR) @[ IoU=0.50:0.95 | area= small | maxDets=100 ] = 0.000\n",
            " Average Recall     (AR) @[ IoU=0.50:0.95 | area=medium | maxDets=100 ] = 0.000\n",
            " Average Recall     (AR) @[ IoU=0.50:0.95 | area= large | maxDets=100 ] = 0.001\n"
          ]
        },
        {
          "output_type": "stream",
          "name": "stderr",
          "text": [
            "Stage 2 Epoch 9 [Val]:  20%|██        | 1/5 [00:04<00:19,  4.89s/it]\n",
            "Evaluating:   0%|          | 0/5 [00:00<?, ?it/s]\u001b[A\n",
            "Evaluating:  20%|██        | 1/5 [00:00<00:01,  3.13it/s]\u001b[A\n",
            "Evaluating:  40%|████      | 2/5 [00:00<00:00,  3.23it/s]\u001b[A\n",
            "Evaluating:  60%|██████    | 3/5 [00:00<00:00,  3.16it/s]\u001b[A\n",
            "Evaluating:  80%|████████  | 4/5 [00:01<00:00,  2.87it/s]\u001b[A\n",
            "Evaluating: 100%|██████████| 5/5 [00:01<00:00,  2.86it/s]\n"
          ]
        },
        {
          "output_type": "stream",
          "name": "stdout",
          "text": [
            "Total detections: 53943\n",
            "Loading and preparing results...\n",
            "DONE (t=0.85s)\n",
            "creating index...\n",
            "index created!\n",
            "Running per image evaluation...\n",
            "Evaluate annotation type *bbox*\n",
            "DONE (t=1.17s).\n",
            "Accumulating evaluation results...\n",
            "DONE (t=0.14s).\n",
            " Average Precision  (AP) @[ IoU=0.50:0.95 | area=   all | maxDets=100 ] = 0.000\n",
            " Average Precision  (AP) @[ IoU=0.50      | area=   all | maxDets=100 ] = 0.000\n",
            " Average Precision  (AP) @[ IoU=0.75      | area=   all | maxDets=100 ] = 0.000\n",
            " Average Precision  (AP) @[ IoU=0.50:0.95 | area= small | maxDets=100 ] = 0.000\n",
            " Average Precision  (AP) @[ IoU=0.50:0.95 | area=medium | maxDets=100 ] = 0.000\n",
            " Average Precision  (AP) @[ IoU=0.50:0.95 | area= large | maxDets=100 ] = 0.000\n",
            " Average Recall     (AR) @[ IoU=0.50:0.95 | area=   all | maxDets=  1 ] = 0.000\n",
            " Average Recall     (AR) @[ IoU=0.50:0.95 | area=   all | maxDets= 10 ] = 0.000\n",
            " Average Recall     (AR) @[ IoU=0.50:0.95 | area=   all | maxDets=100 ] = 0.000\n",
            " Average Recall     (AR) @[ IoU=0.50:0.95 | area= small | maxDets=100 ] = 0.000\n",
            " Average Recall     (AR) @[ IoU=0.50:0.95 | area=medium | maxDets=100 ] = 0.000\n",
            " Average Recall     (AR) @[ IoU=0.50:0.95 | area= large | maxDets=100 ] = 0.001\n"
          ]
        },
        {
          "output_type": "stream",
          "name": "stderr",
          "text": [
            "Stage 2 Epoch 9 [Val]:  40%|████      | 2/5 [00:10<00:16,  5.52s/it]\n",
            "Evaluating:   0%|          | 0/5 [00:00<?, ?it/s]\u001b[A\n",
            "Evaluating:  20%|██        | 1/5 [00:00<00:01,  3.25it/s]\u001b[A\n",
            "Evaluating:  40%|████      | 2/5 [00:00<00:00,  3.32it/s]\u001b[A\n",
            "Evaluating:  60%|██████    | 3/5 [00:00<00:00,  3.25it/s]\u001b[A\n",
            "Evaluating:  80%|████████  | 4/5 [00:01<00:00,  3.29it/s]\u001b[A\n",
            "Evaluating: 100%|██████████| 5/5 [00:01<00:00,  3.29it/s]\n"
          ]
        },
        {
          "output_type": "stream",
          "name": "stdout",
          "text": [
            "Total detections: 53943\n",
            "Loading and preparing results...\n",
            "DONE (t=0.60s)\n",
            "creating index...\n",
            "index created!\n",
            "Running per image evaluation...\n",
            "Evaluate annotation type *bbox*\n",
            "DONE (t=1.16s).\n",
            "Accumulating evaluation results...\n",
            "DONE (t=0.15s).\n",
            " Average Precision  (AP) @[ IoU=0.50:0.95 | area=   all | maxDets=100 ] = 0.000\n",
            " Average Precision  (AP) @[ IoU=0.50      | area=   all | maxDets=100 ] = 0.000\n",
            " Average Precision  (AP) @[ IoU=0.75      | area=   all | maxDets=100 ] = 0.000\n",
            " Average Precision  (AP) @[ IoU=0.50:0.95 | area= small | maxDets=100 ] = 0.000\n",
            " Average Precision  (AP) @[ IoU=0.50:0.95 | area=medium | maxDets=100 ] = 0.000\n",
            " Average Precision  (AP) @[ IoU=0.50:0.95 | area= large | maxDets=100 ] = 0.000\n",
            " Average Recall     (AR) @[ IoU=0.50:0.95 | area=   all | maxDets=  1 ] = 0.000\n",
            " Average Recall     (AR) @[ IoU=0.50:0.95 | area=   all | maxDets= 10 ] = 0.000\n",
            " Average Recall     (AR) @[ IoU=0.50:0.95 | area=   all | maxDets=100 ] = 0.000\n",
            " Average Recall     (AR) @[ IoU=0.50:0.95 | area= small | maxDets=100 ] = 0.000\n",
            " Average Recall     (AR) @[ IoU=0.50:0.95 | area=medium | maxDets=100 ] = 0.000\n",
            " Average Recall     (AR) @[ IoU=0.50:0.95 | area= large | maxDets=100 ] = 0.001\n"
          ]
        },
        {
          "output_type": "stream",
          "name": "stderr",
          "text": [
            "Stage 2 Epoch 9 [Val]:  60%|██████    | 3/5 [00:15<00:10,  5.15s/it]\n",
            "Evaluating:   0%|          | 0/5 [00:00<?, ?it/s]\u001b[A\n",
            "Evaluating:  20%|██        | 1/5 [00:00<00:01,  3.09it/s]\u001b[A\n",
            "Evaluating:  40%|████      | 2/5 [00:00<00:00,  3.25it/s]\u001b[A\n",
            "Evaluating:  60%|██████    | 3/5 [00:00<00:00,  3.26it/s]\u001b[A\n",
            "Evaluating:  80%|████████  | 4/5 [00:01<00:00,  3.30it/s]\u001b[A\n",
            "Evaluating: 100%|██████████| 5/5 [00:01<00:00,  3.26it/s]\n"
          ]
        },
        {
          "output_type": "stream",
          "name": "stdout",
          "text": [
            "Total detections: 53943\n",
            "Loading and preparing results...\n",
            "DONE (t=0.58s)\n",
            "creating index...\n",
            "index created!\n",
            "Running per image evaluation...\n",
            "Evaluate annotation type *bbox*\n",
            "DONE (t=1.80s).\n",
            "Accumulating evaluation results...\n"
          ]
        },
        {
          "output_type": "stream",
          "name": "stderr",
          "text": [
            "\rStage 2 Epoch 9 [Val]:  80%|████████  | 4/5 [00:21<00:05,  5.28s/it]"
          ]
        },
        {
          "output_type": "stream",
          "name": "stdout",
          "text": [
            "DONE (t=0.25s).\n",
            " Average Precision  (AP) @[ IoU=0.50:0.95 | area=   all | maxDets=100 ] = 0.000\n",
            " Average Precision  (AP) @[ IoU=0.50      | area=   all | maxDets=100 ] = 0.000\n",
            " Average Precision  (AP) @[ IoU=0.75      | area=   all | maxDets=100 ] = 0.000\n",
            " Average Precision  (AP) @[ IoU=0.50:0.95 | area= small | maxDets=100 ] = 0.000\n",
            " Average Precision  (AP) @[ IoU=0.50:0.95 | area=medium | maxDets=100 ] = 0.000\n",
            " Average Precision  (AP) @[ IoU=0.50:0.95 | area= large | maxDets=100 ] = 0.000\n",
            " Average Recall     (AR) @[ IoU=0.50:0.95 | area=   all | maxDets=  1 ] = 0.000\n",
            " Average Recall     (AR) @[ IoU=0.50:0.95 | area=   all | maxDets= 10 ] = 0.000\n",
            " Average Recall     (AR) @[ IoU=0.50:0.95 | area=   all | maxDets=100 ] = 0.000\n",
            " Average Recall     (AR) @[ IoU=0.50:0.95 | area= small | maxDets=100 ] = 0.000\n",
            " Average Recall     (AR) @[ IoU=0.50:0.95 | area=medium | maxDets=100 ] = 0.000\n",
            " Average Recall     (AR) @[ IoU=0.50:0.95 | area= large | maxDets=100 ] = 0.001\n"
          ]
        },
        {
          "output_type": "stream",
          "name": "stderr",
          "text": [
            "\n",
            "Evaluating:   0%|          | 0/5 [00:00<?, ?it/s]\u001b[A\n",
            "Evaluating:  20%|██        | 1/5 [00:00<00:01,  2.38it/s]\u001b[A\n",
            "Evaluating:  40%|████      | 2/5 [00:00<00:01,  2.47it/s]\u001b[A\n",
            "Evaluating:  60%|██████    | 3/5 [00:01<00:00,  2.50it/s]\u001b[A\n",
            "Evaluating:  80%|████████  | 4/5 [00:01<00:00,  2.77it/s]\u001b[A\n",
            "Evaluating: 100%|██████████| 5/5 [00:01<00:00,  2.50it/s]\n"
          ]
        },
        {
          "output_type": "stream",
          "name": "stdout",
          "text": [
            "Total detections: 53943\n",
            "Loading and preparing results...\n",
            "DONE (t=0.42s)\n",
            "creating index...\n",
            "index created!\n",
            "Running per image evaluation...\n",
            "Evaluate annotation type *bbox*\n",
            "DONE (t=1.17s).\n",
            "Accumulating evaluation results...\n",
            "DONE (t=0.14s).\n",
            " Average Precision  (AP) @[ IoU=0.50:0.95 | area=   all | maxDets=100 ] = 0.000\n",
            " Average Precision  (AP) @[ IoU=0.50      | area=   all | maxDets=100 ] = 0.000\n",
            " Average Precision  (AP) @[ IoU=0.75      | area=   all | maxDets=100 ] = 0.000\n",
            " Average Precision  (AP) @[ IoU=0.50:0.95 | area= small | maxDets=100 ] = 0.000\n",
            " Average Precision  (AP) @[ IoU=0.50:0.95 | area=medium | maxDets=100 ] = 0.000\n",
            " Average Precision  (AP) @[ IoU=0.50:0.95 | area= large | maxDets=100 ] = 0.000\n",
            " Average Recall     (AR) @[ IoU=0.50:0.95 | area=   all | maxDets=  1 ] = 0.000\n",
            " Average Recall     (AR) @[ IoU=0.50:0.95 | area=   all | maxDets= 10 ] = 0.000\n",
            " Average Recall     (AR) @[ IoU=0.50:0.95 | area=   all | maxDets=100 ] = 0.000\n",
            " Average Recall     (AR) @[ IoU=0.50:0.95 | area= small | maxDets=100 ] = 0.000\n",
            " Average Recall     (AR) @[ IoU=0.50:0.95 | area=medium | maxDets=100 ] = 0.000\n",
            " Average Recall     (AR) @[ IoU=0.50:0.95 | area= large | maxDets=100 ] = 0.001\n"
          ]
        },
        {
          "output_type": "stream",
          "name": "stderr",
          "text": [
            "Stage 2 Epoch 9 [Val]: 100%|██████████| 5/5 [00:26<00:00,  5.23s/it]\n"
          ]
        },
        {
          "output_type": "stream",
          "name": "stdout",
          "text": [
            "[Stage 2 Epoch 9] Train Loss: 0.5285, Val Loss: 0.5557, mAP: 0.000002, Train Time: 00:00:09, Val Time: 00:00:26\n"
          ]
        },
        {
          "output_type": "stream",
          "name": "stderr",
          "text": [
            "Stage 2 Epoch 10 [Train]: 100%|██████████| 20/20 [00:10<00:00,  1.99it/s]\n",
            "Stage 2 Epoch 10 [Val]:   0%|          | 0/5 [00:00<?, ?it/s]\n",
            "Evaluating:   0%|          | 0/5 [00:00<?, ?it/s]\u001b[A\n",
            "Evaluating:  20%|██        | 1/5 [00:00<00:01,  3.31it/s]\u001b[A\n",
            "Evaluating:  40%|████      | 2/5 [00:00<00:00,  3.26it/s]\u001b[A\n",
            "Evaluating:  60%|██████    | 3/5 [00:01<00:00,  2.66it/s]\u001b[A\n",
            "Evaluating:  80%|████████  | 4/5 [00:01<00:00,  2.92it/s]\u001b[A\n",
            "Evaluating: 100%|██████████| 5/5 [00:01<00:00,  2.98it/s]\n"
          ]
        },
        {
          "output_type": "stream",
          "name": "stdout",
          "text": [
            "Total detections: 48088\n",
            "Loading and preparing results...\n",
            "DONE (t=0.59s)\n",
            "creating index...\n",
            "index created!\n",
            "Running per image evaluation...\n",
            "Evaluate annotation type *bbox*\n",
            "DONE (t=1.10s).\n",
            "Accumulating evaluation results...\n",
            "DONE (t=0.13s).\n",
            " Average Precision  (AP) @[ IoU=0.50:0.95 | area=   all | maxDets=100 ] = 0.000\n",
            " Average Precision  (AP) @[ IoU=0.50      | area=   all | maxDets=100 ] = 0.000\n",
            " Average Precision  (AP) @[ IoU=0.75      | area=   all | maxDets=100 ] = 0.000\n",
            " Average Precision  (AP) @[ IoU=0.50:0.95 | area= small | maxDets=100 ] = 0.000\n",
            " Average Precision  (AP) @[ IoU=0.50:0.95 | area=medium | maxDets=100 ] = 0.000\n",
            " Average Precision  (AP) @[ IoU=0.50:0.95 | area= large | maxDets=100 ] = 0.000\n",
            " Average Recall     (AR) @[ IoU=0.50:0.95 | area=   all | maxDets=  1 ] = 0.000\n",
            " Average Recall     (AR) @[ IoU=0.50:0.95 | area=   all | maxDets= 10 ] = 0.000\n",
            " Average Recall     (AR) @[ IoU=0.50:0.95 | area=   all | maxDets=100 ] = 0.001\n",
            " Average Recall     (AR) @[ IoU=0.50:0.95 | area= small | maxDets=100 ] = 0.000\n",
            " Average Recall     (AR) @[ IoU=0.50:0.95 | area=medium | maxDets=100 ] = 0.002\n",
            " Average Recall     (AR) @[ IoU=0.50:0.95 | area= large | maxDets=100 ] = 0.000\n"
          ]
        },
        {
          "output_type": "stream",
          "name": "stderr",
          "text": [
            "Stage 2 Epoch 10 [Val]:  20%|██        | 1/5 [00:04<00:18,  4.71s/it]\n",
            "Evaluating:   0%|          | 0/5 [00:00<?, ?it/s]\u001b[A\n",
            "Evaluating:  20%|██        | 1/5 [00:00<00:01,  3.33it/s]\u001b[A\n",
            "Evaluating:  40%|████      | 2/5 [00:00<00:00,  3.35it/s]\u001b[A\n",
            "Evaluating:  60%|██████    | 3/5 [00:00<00:00,  3.35it/s]\u001b[A\n",
            "Evaluating:  80%|████████  | 4/5 [00:01<00:00,  3.37it/s]\u001b[A\n",
            "Evaluating: 100%|██████████| 5/5 [00:01<00:00,  3.36it/s]\n"
          ]
        },
        {
          "output_type": "stream",
          "name": "stdout",
          "text": [
            "Total detections: 48088\n",
            "Loading and preparing results...\n",
            "DONE (t=0.37s)\n",
            "creating index...\n",
            "index created!\n",
            "Running per image evaluation...\n",
            "Evaluate annotation type *bbox*\n",
            "DONE (t=1.09s).\n",
            "Accumulating evaluation results...\n",
            "DONE (t=0.14s).\n",
            " Average Precision  (AP) @[ IoU=0.50:0.95 | area=   all | maxDets=100 ] = 0.000\n",
            " Average Precision  (AP) @[ IoU=0.50      | area=   all | maxDets=100 ] = 0.000\n",
            " Average Precision  (AP) @[ IoU=0.75      | area=   all | maxDets=100 ] = 0.000\n",
            " Average Precision  (AP) @[ IoU=0.50:0.95 | area= small | maxDets=100 ] = 0.000\n",
            " Average Precision  (AP) @[ IoU=0.50:0.95 | area=medium | maxDets=100 ] = 0.000\n",
            " Average Precision  (AP) @[ IoU=0.50:0.95 | area= large | maxDets=100 ] = 0.000\n",
            " Average Recall     (AR) @[ IoU=0.50:0.95 | area=   all | maxDets=  1 ] = 0.000\n",
            " Average Recall     (AR) @[ IoU=0.50:0.95 | area=   all | maxDets= 10 ] = 0.000\n",
            " Average Recall     (AR) @[ IoU=0.50:0.95 | area=   all | maxDets=100 ] = 0.001\n",
            " Average Recall     (AR) @[ IoU=0.50:0.95 | area= small | maxDets=100 ] = 0.000\n",
            " Average Recall     (AR) @[ IoU=0.50:0.95 | area=medium | maxDets=100 ] = 0.002\n",
            " Average Recall     (AR) @[ IoU=0.50:0.95 | area= large | maxDets=100 ] = 0.000\n"
          ]
        },
        {
          "output_type": "stream",
          "name": "stderr",
          "text": [
            "Stage 2 Epoch 10 [Val]:  40%|████      | 2/5 [00:09<00:13,  4.46s/it]\n",
            "Evaluating:   0%|          | 0/5 [00:00<?, ?it/s]\u001b[A\n",
            "Evaluating:  20%|██        | 1/5 [00:00<00:02,  1.88it/s]\u001b[A\n",
            "Evaluating:  40%|████      | 2/5 [00:00<00:01,  2.20it/s]\u001b[A\n",
            "Evaluating:  60%|██████    | 3/5 [00:01<00:00,  2.39it/s]\u001b[A\n",
            "Evaluating:  80%|████████  | 4/5 [00:01<00:00,  2.46it/s]\u001b[A\n",
            "Evaluating: 100%|██████████| 5/5 [00:02<00:00,  2.37it/s]\n"
          ]
        },
        {
          "output_type": "stream",
          "name": "stdout",
          "text": [
            "Total detections: 48088\n",
            "Loading and preparing results...\n",
            "DONE (t=0.58s)\n",
            "creating index...\n",
            "index created!\n",
            "Running per image evaluation...\n",
            "Evaluate annotation type *bbox*\n",
            "DONE (t=1.10s).\n",
            "Accumulating evaluation results...\n",
            "DONE (t=0.13s).\n",
            " Average Precision  (AP) @[ IoU=0.50:0.95 | area=   all | maxDets=100 ] = 0.000\n",
            " Average Precision  (AP) @[ IoU=0.50      | area=   all | maxDets=100 ] = 0.000\n",
            " Average Precision  (AP) @[ IoU=0.75      | area=   all | maxDets=100 ] = 0.000\n",
            " Average Precision  (AP) @[ IoU=0.50:0.95 | area= small | maxDets=100 ] = 0.000\n",
            " Average Precision  (AP) @[ IoU=0.50:0.95 | area=medium | maxDets=100 ] = 0.000\n",
            " Average Precision  (AP) @[ IoU=0.50:0.95 | area= large | maxDets=100 ] = 0.000\n",
            " Average Recall     (AR) @[ IoU=0.50:0.95 | area=   all | maxDets=  1 ] = 0.000\n",
            " Average Recall     (AR) @[ IoU=0.50:0.95 | area=   all | maxDets= 10 ] = 0.000\n",
            " Average Recall     (AR) @[ IoU=0.50:0.95 | area=   all | maxDets=100 ] = 0.001\n",
            " Average Recall     (AR) @[ IoU=0.50:0.95 | area= small | maxDets=100 ] = 0.000\n",
            " Average Recall     (AR) @[ IoU=0.50:0.95 | area=medium | maxDets=100 ] = 0.002\n",
            " Average Recall     (AR) @[ IoU=0.50:0.95 | area= large | maxDets=100 ] = 0.000\n"
          ]
        },
        {
          "output_type": "stream",
          "name": "stderr",
          "text": [
            "Stage 2 Epoch 10 [Val]:  60%|██████    | 3/5 [00:14<00:10,  5.05s/it]\n",
            "Evaluating:   0%|          | 0/5 [00:00<?, ?it/s]\u001b[A\n",
            "Evaluating:  20%|██        | 1/5 [00:00<00:01,  3.24it/s]\u001b[A\n",
            "Evaluating:  40%|████      | 2/5 [00:00<00:00,  3.33it/s]\u001b[A\n",
            "Evaluating:  60%|██████    | 3/5 [00:00<00:00,  3.35it/s]\u001b[A\n",
            "Evaluating:  80%|████████  | 4/5 [00:01<00:00,  3.36it/s]\u001b[A\n",
            "Evaluating: 100%|██████████| 5/5 [00:01<00:00,  3.30it/s]\n"
          ]
        },
        {
          "output_type": "stream",
          "name": "stdout",
          "text": [
            "Total detections: 48088\n",
            "Loading and preparing results...\n",
            "DONE (t=0.57s)\n",
            "creating index...\n",
            "index created!\n",
            "Running per image evaluation...\n",
            "Evaluate annotation type *bbox*\n",
            "DONE (t=1.09s).\n",
            "Accumulating evaluation results...\n",
            "DONE (t=0.13s).\n",
            " Average Precision  (AP) @[ IoU=0.50:0.95 | area=   all | maxDets=100 ] = 0.000\n",
            " Average Precision  (AP) @[ IoU=0.50      | area=   all | maxDets=100 ] = 0.000\n",
            " Average Precision  (AP) @[ IoU=0.75      | area=   all | maxDets=100 ] = 0.000\n",
            " Average Precision  (AP) @[ IoU=0.50:0.95 | area= small | maxDets=100 ] = 0.000\n",
            " Average Precision  (AP) @[ IoU=0.50:0.95 | area=medium | maxDets=100 ] = 0.000\n",
            " Average Precision  (AP) @[ IoU=0.50:0.95 | area= large | maxDets=100 ] = 0.000\n",
            " Average Recall     (AR) @[ IoU=0.50:0.95 | area=   all | maxDets=  1 ] = 0.000\n",
            " Average Recall     (AR) @[ IoU=0.50:0.95 | area=   all | maxDets= 10 ] = 0.000\n",
            " Average Recall     (AR) @[ IoU=0.50:0.95 | area=   all | maxDets=100 ] = 0.001\n",
            " Average Recall     (AR) @[ IoU=0.50:0.95 | area= small | maxDets=100 ] = 0.000\n",
            " Average Recall     (AR) @[ IoU=0.50:0.95 | area=medium | maxDets=100 ] = 0.002\n",
            " Average Recall     (AR) @[ IoU=0.50:0.95 | area= large | maxDets=100 ] = 0.000\n"
          ]
        },
        {
          "output_type": "stream",
          "name": "stderr",
          "text": [
            "Stage 2 Epoch 10 [Val]:  80%|████████  | 4/5 [00:19<00:04,  4.84s/it]\n",
            "Evaluating:   0%|          | 0/5 [00:00<?, ?it/s]\u001b[A\n",
            "Evaluating:  20%|██        | 1/5 [00:00<00:01,  3.31it/s]\u001b[A\n",
            "Evaluating:  40%|████      | 2/5 [00:00<00:00,  3.35it/s]\u001b[A\n",
            "Evaluating:  60%|██████    | 3/5 [00:00<00:00,  3.30it/s]\u001b[A\n",
            "Evaluating:  80%|████████  | 4/5 [00:01<00:00,  3.36it/s]\u001b[A\n",
            "Evaluating: 100%|██████████| 5/5 [00:01<00:00,  3.31it/s]\n"
          ]
        },
        {
          "output_type": "stream",
          "name": "stdout",
          "text": [
            "Total detections: 48088\n",
            "Loading and preparing results...\n",
            "DONE (t=0.57s)\n",
            "creating index...\n",
            "index created!\n",
            "Running per image evaluation...\n",
            "Evaluate annotation type *bbox*\n",
            "DONE (t=1.72s).\n",
            "Accumulating evaluation results...\n"
          ]
        },
        {
          "output_type": "stream",
          "name": "stderr",
          "text": [
            "Stage 2 Epoch 10 [Val]: 100%|██████████| 5/5 [00:24<00:00,  4.90s/it]"
          ]
        },
        {
          "output_type": "stream",
          "name": "stdout",
          "text": [
            "DONE (t=0.21s).\n",
            " Average Precision  (AP) @[ IoU=0.50:0.95 | area=   all | maxDets=100 ] = 0.000\n",
            " Average Precision  (AP) @[ IoU=0.50      | area=   all | maxDets=100 ] = 0.000\n",
            " Average Precision  (AP) @[ IoU=0.75      | area=   all | maxDets=100 ] = 0.000\n",
            " Average Precision  (AP) @[ IoU=0.50:0.95 | area= small | maxDets=100 ] = 0.000\n",
            " Average Precision  (AP) @[ IoU=0.50:0.95 | area=medium | maxDets=100 ] = 0.000\n",
            " Average Precision  (AP) @[ IoU=0.50:0.95 | area= large | maxDets=100 ] = 0.000\n",
            " Average Recall     (AR) @[ IoU=0.50:0.95 | area=   all | maxDets=  1 ] = 0.000\n",
            " Average Recall     (AR) @[ IoU=0.50:0.95 | area=   all | maxDets= 10 ] = 0.000\n",
            " Average Recall     (AR) @[ IoU=0.50:0.95 | area=   all | maxDets=100 ] = 0.001\n",
            " Average Recall     (AR) @[ IoU=0.50:0.95 | area= small | maxDets=100 ] = 0.000\n",
            " Average Recall     (AR) @[ IoU=0.50:0.95 | area=medium | maxDets=100 ] = 0.002\n",
            " Average Recall     (AR) @[ IoU=0.50:0.95 | area= large | maxDets=100 ] = 0.000\n",
            "[Stage 2 Epoch 10] Train Loss: 0.5019, Val Loss: 0.5572, mAP: 0.000003, Train Time: 00:00:10, Val Time: 00:00:24\n",
            "Stage 2 Total Training Time: 00:01:37, Total Validation Time: 00:04:37\n"
          ]
        },
        {
          "output_type": "stream",
          "name": "stderr",
          "text": [
            "\n",
            "Stage 3 Epoch 1 [Train]: 100%|██████████| 20/20 [00:05<00:00,  3.65it/s]\n",
            "Stage 3 Epoch 1 [Val]: 100%|██████████| 5/5 [00:01<00:00,  4.26it/s]\n"
          ]
        },
        {
          "output_type": "stream",
          "name": "stdout",
          "text": [
            "[Stage 3 Epoch 1] Train Loss: 1.9070, Val Loss: 2.0558, Top-1 Acc: 0.350000, Train Time: 00:00:05, Val Time: 00:00:01\n"
          ]
        },
        {
          "output_type": "stream",
          "name": "stderr",
          "text": [
            "Stage 3 Epoch 2 [Train]: 100%|██████████| 20/20 [00:05<00:00,  3.80it/s]\n",
            "Stage 3 Epoch 2 [Val]: 100%|██████████| 5/5 [00:01<00:00,  3.43it/s]\n"
          ]
        },
        {
          "output_type": "stream",
          "name": "stdout",
          "text": [
            "[Stage 3 Epoch 2] Train Loss: 1.4228, Val Loss: 2.4340, Top-1 Acc: 0.383333, Train Time: 00:00:05, Val Time: 00:00:01\n"
          ]
        },
        {
          "output_type": "stream",
          "name": "stderr",
          "text": [
            "Stage 3 Epoch 3 [Train]: 100%|██████████| 20/20 [00:05<00:00,  3.73it/s]\n",
            "Stage 3 Epoch 3 [Val]: 100%|██████████| 5/5 [00:01<00:00,  4.32it/s]\n"
          ]
        },
        {
          "output_type": "stream",
          "name": "stdout",
          "text": [
            "[Stage 3 Epoch 3] Train Loss: 1.1547, Val Loss: 2.2907, Top-1 Acc: 0.366667, Train Time: 00:00:05, Val Time: 00:00:01\n"
          ]
        },
        {
          "output_type": "stream",
          "name": "stderr",
          "text": [
            "Stage 3 Epoch 4 [Train]: 100%|██████████| 20/20 [00:05<00:00,  3.77it/s]\n",
            "Stage 3 Epoch 4 [Val]: 100%|██████████| 5/5 [00:01<00:00,  3.46it/s]\n"
          ]
        },
        {
          "output_type": "stream",
          "name": "stdout",
          "text": [
            "[Stage 3 Epoch 4] Train Loss: 0.9711, Val Loss: 2.5560, Top-1 Acc: 0.333333, Train Time: 00:00:05, Val Time: 00:00:01\n"
          ]
        },
        {
          "output_type": "stream",
          "name": "stderr",
          "text": [
            "Stage 3 Epoch 5 [Train]: 100%|██████████| 20/20 [00:05<00:00,  3.80it/s]\n",
            "Stage 3 Epoch 5 [Val]: 100%|██████████| 5/5 [00:01<00:00,  4.30it/s]\n"
          ]
        },
        {
          "output_type": "stream",
          "name": "stdout",
          "text": [
            "[Stage 3 Epoch 5] Train Loss: 0.8979, Val Loss: 2.6379, Top-1 Acc: 0.433333, Train Time: 00:00:05, Val Time: 00:00:01\n"
          ]
        },
        {
          "output_type": "stream",
          "name": "stderr",
          "text": [
            "Stage 3 Epoch 6 [Train]: 100%|██████████| 20/20 [00:05<00:00,  3.81it/s]\n",
            "Stage 3 Epoch 6 [Val]: 100%|██████████| 5/5 [00:01<00:00,  3.43it/s]\n"
          ]
        },
        {
          "output_type": "stream",
          "name": "stdout",
          "text": [
            "[Stage 3 Epoch 6] Train Loss: 0.7737, Val Loss: 2.7513, Top-1 Acc: 0.383333, Train Time: 00:00:05, Val Time: 00:00:01\n"
          ]
        },
        {
          "output_type": "stream",
          "name": "stderr",
          "text": [
            "Stage 3 Epoch 7 [Train]: 100%|██████████| 20/20 [00:05<00:00,  3.78it/s]\n",
            "Stage 3 Epoch 7 [Val]: 100%|██████████| 5/5 [00:01<00:00,  4.23it/s]\n"
          ]
        },
        {
          "output_type": "stream",
          "name": "stdout",
          "text": [
            "[Stage 3 Epoch 7] Train Loss: 0.6962, Val Loss: 2.8637, Top-1 Acc: 0.350000, Train Time: 00:00:05, Val Time: 00:00:01\n"
          ]
        },
        {
          "output_type": "stream",
          "name": "stderr",
          "text": [
            "Stage 3 Epoch 8 [Train]: 100%|██████████| 20/20 [00:05<00:00,  3.80it/s]\n",
            "Stage 3 Epoch 8 [Val]: 100%|██████████| 5/5 [00:01<00:00,  3.44it/s]\n"
          ]
        },
        {
          "output_type": "stream",
          "name": "stdout",
          "text": [
            "[Stage 3 Epoch 8] Train Loss: 0.5731, Val Loss: 2.7132, Top-1 Acc: 0.383333, Train Time: 00:00:05, Val Time: 00:00:01\n"
          ]
        },
        {
          "output_type": "stream",
          "name": "stderr",
          "text": [
            "Stage 3 Epoch 9 [Train]: 100%|██████████| 20/20 [00:05<00:00,  3.70it/s]\n",
            "Stage 3 Epoch 9 [Val]: 100%|██████████| 5/5 [00:01<00:00,  4.24it/s]\n"
          ]
        },
        {
          "output_type": "stream",
          "name": "stdout",
          "text": [
            "[Stage 3 Epoch 9] Train Loss: 0.5827, Val Loss: 3.2610, Top-1 Acc: 0.350000, Train Time: 00:00:05, Val Time: 00:00:01\n"
          ]
        },
        {
          "output_type": "stream",
          "name": "stderr",
          "text": [
            "Stage 3 Epoch 10 [Train]: 100%|██████████| 20/20 [00:05<00:00,  3.77it/s]\n",
            "Stage 3 Epoch 10 [Val]: 100%|██████████| 5/5 [00:01<00:00,  3.43it/s]\n"
          ]
        },
        {
          "output_type": "stream",
          "name": "stdout",
          "text": [
            "[Stage 3 Epoch 10] Train Loss: 0.4882, Val Loss: 2.9991, Top-1 Acc: 0.350000, Train Time: 00:00:05, Val Time: 00:00:01\n",
            "Stage 3 Total Training Time: 00:00:53, Total Validation Time: 00:00:13\n",
            "Stage 1: Seg\n"
          ]
        },
        {
          "output_type": "stream",
          "name": "stderr",
          "text": [
            "Stage 1 Epoch 1 [Train]: 100%|██████████| 20/20 [01:03<00:00,  3.19s/it]\n",
            "Stage 1 Epoch 1 [Val]: 100%|██████████| 5/5 [00:14<00:00,  2.96s/it]\n"
          ]
        },
        {
          "output_type": "stream",
          "name": "stdout",
          "text": [
            "[Stage 1 Epoch 1] Train Loss: 2.1973, Val Loss: 1.4753, mIoU: 0.169268, Train Time: 00:01:03, Val Time: 00:00:14\n"
          ]
        },
        {
          "output_type": "stream",
          "name": "stderr",
          "text": [
            "Stage 1 Epoch 2 [Train]: 100%|██████████| 20/20 [01:03<00:00,  3.16s/it]\n",
            "Stage 1 Epoch 2 [Val]: 100%|██████████| 5/5 [00:14<00:00,  2.95s/it]\n"
          ]
        },
        {
          "output_type": "stream",
          "name": "stdout",
          "text": [
            "[Stage 1 Epoch 2] Train Loss: 1.4956, Val Loss: 0.9942, mIoU: 0.175644, Train Time: 00:01:03, Val Time: 00:00:14\n"
          ]
        },
        {
          "output_type": "stream",
          "name": "stderr",
          "text": [
            "Stage 1 Epoch 3 [Train]: 100%|██████████| 20/20 [01:04<00:00,  3.23s/it]\n",
            "Stage 1 Epoch 3 [Val]: 100%|██████████| 5/5 [00:14<00:00,  2.95s/it]\n"
          ]
        },
        {
          "output_type": "stream",
          "name": "stdout",
          "text": [
            "[Stage 1 Epoch 3] Train Loss: 1.1790, Val Loss: 0.8747, mIoU: 0.161706, Train Time: 00:01:04, Val Time: 00:00:14\n"
          ]
        },
        {
          "output_type": "stream",
          "name": "stderr",
          "text": [
            "Stage 1 Epoch 4 [Train]: 100%|██████████| 20/20 [01:03<00:00,  3.16s/it]\n",
            "Stage 1 Epoch 4 [Val]: 100%|██████████| 5/5 [00:14<00:00,  2.97s/it]\n"
          ]
        },
        {
          "output_type": "stream",
          "name": "stdout",
          "text": [
            "[Stage 1 Epoch 4] Train Loss: 1.0246, Val Loss: 0.9738, mIoU: 0.167906, Train Time: 00:01:03, Val Time: 00:00:14\n"
          ]
        },
        {
          "output_type": "stream",
          "name": "stderr",
          "text": [
            "Stage 1 Epoch 5 [Train]: 100%|██████████| 20/20 [01:04<00:00,  3.22s/it]\n",
            "Stage 1 Epoch 5 [Val]: 100%|██████████| 5/5 [00:14<00:00,  2.95s/it]\n"
          ]
        },
        {
          "output_type": "stream",
          "name": "stdout",
          "text": [
            "[Stage 1 Epoch 5] Train Loss: 0.9868, Val Loss: 0.8796, mIoU: 0.117494, Train Time: 00:01:04, Val Time: 00:00:14\n"
          ]
        },
        {
          "output_type": "stream",
          "name": "stderr",
          "text": [
            "Stage 1 Epoch 6 [Train]: 100%|██████████| 20/20 [01:03<00:00,  3.16s/it]\n",
            "Stage 1 Epoch 6 [Val]: 100%|██████████| 5/5 [00:14<00:00,  2.96s/it]\n"
          ]
        },
        {
          "output_type": "stream",
          "name": "stdout",
          "text": [
            "[Stage 1 Epoch 6] Train Loss: 0.8428, Val Loss: 0.8714, mIoU: 0.121244, Train Time: 00:01:03, Val Time: 00:00:14\n"
          ]
        },
        {
          "output_type": "stream",
          "name": "stderr",
          "text": [
            "Stage 1 Epoch 7 [Train]: 100%|██████████| 20/20 [01:04<00:00,  3.22s/it]\n",
            "Stage 1 Epoch 7 [Val]: 100%|██████████| 5/5 [00:14<00:00,  2.95s/it]\n"
          ]
        },
        {
          "output_type": "stream",
          "name": "stdout",
          "text": [
            "[Stage 1 Epoch 7] Train Loss: 0.7714, Val Loss: 0.9430, mIoU: 0.130725, Train Time: 00:01:04, Val Time: 00:00:14\n"
          ]
        },
        {
          "output_type": "stream",
          "name": "stderr",
          "text": [
            "Stage 1 Epoch 8 [Train]: 100%|██████████| 20/20 [01:01<00:00,  3.10s/it]\n",
            "Stage 1 Epoch 8 [Val]: 100%|██████████| 5/5 [00:15<00:00,  3.11s/it]\n"
          ]
        },
        {
          "output_type": "stream",
          "name": "stdout",
          "text": [
            "[Stage 1 Epoch 8] Train Loss: 0.6828, Val Loss: 0.9990, mIoU: 0.115045, Train Time: 00:01:02, Val Time: 00:00:15\n"
          ]
        },
        {
          "output_type": "stream",
          "name": "stderr",
          "text": [
            "Stage 1 Epoch 9 [Train]: 100%|██████████| 20/20 [01:03<00:00,  3.18s/it]\n",
            "Stage 1 Epoch 9 [Val]: 100%|██████████| 5/5 [00:14<00:00,  2.96s/it]\n"
          ]
        },
        {
          "output_type": "stream",
          "name": "stdout",
          "text": [
            "[Stage 1 Epoch 9] Train Loss: 0.6149, Val Loss: 0.8778, mIoU: 0.104138, Train Time: 00:01:03, Val Time: 00:00:14\n"
          ]
        },
        {
          "output_type": "stream",
          "name": "stderr",
          "text": [
            "Stage 1 Epoch 10 [Train]: 100%|██████████| 20/20 [01:03<00:00,  3.16s/it]\n",
            "Stage 1 Epoch 10 [Val]: 100%|██████████| 5/5 [00:14<00:00,  2.96s/it]\n"
          ]
        },
        {
          "output_type": "stream",
          "name": "stdout",
          "text": [
            "[Stage 1 Epoch 10] Train Loss: 0.6034, Val Loss: 0.9400, mIoU: 0.120198, Train Time: 00:01:03, Val Time: 00:00:14\n",
            "Stage 1 Total Training Time: 00:10:35, Total Validation Time: 00:02:28\n",
            "Stage 2: Det\n",
            "loading annotations into memory...\n",
            "Done (t=0.02s)\n",
            "creating index...\n",
            "index created!\n"
          ]
        },
        {
          "output_type": "stream",
          "name": "stderr",
          "text": [
            "Stage 2 Epoch 1 [Train]: 100%|██████████| 20/20 [00:10<00:00,  1.98it/s]\n",
            "Stage 2 Epoch 1 [Val]:   0%|          | 0/5 [00:00<?, ?it/s]\n",
            "Evaluating:   0%|          | 0/5 [00:00<?, ?it/s]\u001b[A\n",
            "Evaluating:  20%|██        | 1/5 [00:00<00:01,  3.15it/s]\u001b[A\n",
            "Evaluating:  40%|████      | 2/5 [00:00<00:00,  3.20it/s]\u001b[A\n",
            "Evaluating:  60%|██████    | 3/5 [00:00<00:00,  3.14it/s]\u001b[A\n",
            "Evaluating:  80%|████████  | 4/5 [00:01<00:00,  3.14it/s]\u001b[A\n",
            "Evaluating: 100%|██████████| 5/5 [00:01<00:00,  3.14it/s]\n"
          ]
        },
        {
          "output_type": "stream",
          "name": "stdout",
          "text": [
            "Total detections: 51296\n",
            "Loading and preparing results...\n",
            "DONE (t=0.62s)\n",
            "creating index...\n",
            "index created!\n",
            "Running per image evaluation...\n",
            "Evaluate annotation type *bbox*\n"
          ]
        },
        {
          "output_type": "stream",
          "name": "stderr",
          "text": [
            "\rStage 2 Epoch 1 [Val]:  20%|██        | 1/5 [00:04<00:17,  4.42s/it]"
          ]
        },
        {
          "output_type": "stream",
          "name": "stdout",
          "text": [
            "DONE (t=0.86s).\n",
            "Accumulating evaluation results...\n",
            "DONE (t=0.08s).\n",
            " Average Precision  (AP) @[ IoU=0.50:0.95 | area=   all | maxDets=100 ] = 0.000\n",
            " Average Precision  (AP) @[ IoU=0.50      | area=   all | maxDets=100 ] = 0.000\n",
            " Average Precision  (AP) @[ IoU=0.75      | area=   all | maxDets=100 ] = 0.000\n",
            " Average Precision  (AP) @[ IoU=0.50:0.95 | area= small | maxDets=100 ] = 0.000\n",
            " Average Precision  (AP) @[ IoU=0.50:0.95 | area=medium | maxDets=100 ] = 0.000\n",
            " Average Precision  (AP) @[ IoU=0.50:0.95 | area= large | maxDets=100 ] = 0.001\n",
            " Average Recall     (AR) @[ IoU=0.50:0.95 | area=   all | maxDets=  1 ] = 0.000\n",
            " Average Recall     (AR) @[ IoU=0.50:0.95 | area=   all | maxDets= 10 ] = 0.000\n",
            " Average Recall     (AR) @[ IoU=0.50:0.95 | area=   all | maxDets=100 ] = 0.000\n",
            " Average Recall     (AR) @[ IoU=0.50:0.95 | area= small | maxDets=100 ] = 0.000\n",
            " Average Recall     (AR) @[ IoU=0.50:0.95 | area=medium | maxDets=100 ] = 0.000\n",
            " Average Recall     (AR) @[ IoU=0.50:0.95 | area= large | maxDets=100 ] = 0.005\n"
          ]
        },
        {
          "output_type": "stream",
          "name": "stderr",
          "text": [
            "\n",
            "Evaluating:   0%|          | 0/5 [00:00<?, ?it/s]\u001b[A\n",
            "Evaluating:  20%|██        | 1/5 [00:00<00:01,  2.90it/s]\u001b[A\n",
            "Evaluating:  40%|████      | 2/5 [00:00<00:01,  2.56it/s]\u001b[A\n",
            "Evaluating:  60%|██████    | 3/5 [00:01<00:00,  2.52it/s]\u001b[A\n",
            "Evaluating:  80%|████████  | 4/5 [00:01<00:00,  2.44it/s]\u001b[A\n",
            "Evaluating: 100%|██████████| 5/5 [00:02<00:00,  2.48it/s]\n"
          ]
        },
        {
          "output_type": "stream",
          "name": "stdout",
          "text": [
            "Total detections: 51296\n",
            "Loading and preparing results...\n",
            "DONE (t=0.59s)\n",
            "creating index...\n",
            "index created!\n",
            "Running per image evaluation...\n",
            "Evaluate annotation type *bbox*\n"
          ]
        },
        {
          "output_type": "stream",
          "name": "stderr",
          "text": [
            "\rStage 2 Epoch 1 [Val]:  40%|████      | 2/5 [00:09<00:15,  5.03s/it]"
          ]
        },
        {
          "output_type": "stream",
          "name": "stdout",
          "text": [
            "DONE (t=0.87s).\n",
            "Accumulating evaluation results...\n",
            "DONE (t=0.08s).\n",
            " Average Precision  (AP) @[ IoU=0.50:0.95 | area=   all | maxDets=100 ] = 0.000\n",
            " Average Precision  (AP) @[ IoU=0.50      | area=   all | maxDets=100 ] = 0.000\n",
            " Average Precision  (AP) @[ IoU=0.75      | area=   all | maxDets=100 ] = 0.000\n",
            " Average Precision  (AP) @[ IoU=0.50:0.95 | area= small | maxDets=100 ] = 0.000\n",
            " Average Precision  (AP) @[ IoU=0.50:0.95 | area=medium | maxDets=100 ] = 0.000\n",
            " Average Precision  (AP) @[ IoU=0.50:0.95 | area= large | maxDets=100 ] = 0.001\n",
            " Average Recall     (AR) @[ IoU=0.50:0.95 | area=   all | maxDets=  1 ] = 0.000\n",
            " Average Recall     (AR) @[ IoU=0.50:0.95 | area=   all | maxDets= 10 ] = 0.000\n",
            " Average Recall     (AR) @[ IoU=0.50:0.95 | area=   all | maxDets=100 ] = 0.000\n",
            " Average Recall     (AR) @[ IoU=0.50:0.95 | area= small | maxDets=100 ] = 0.000\n",
            " Average Recall     (AR) @[ IoU=0.50:0.95 | area=medium | maxDets=100 ] = 0.000\n",
            " Average Recall     (AR) @[ IoU=0.50:0.95 | area= large | maxDets=100 ] = 0.005\n"
          ]
        },
        {
          "output_type": "stream",
          "name": "stderr",
          "text": [
            "\n",
            "Evaluating:   0%|          | 0/5 [00:00<?, ?it/s]\u001b[A\n",
            "Evaluating:  20%|██        | 1/5 [00:00<00:01,  2.99it/s]\u001b[A\n",
            "Evaluating:  40%|████      | 2/5 [00:00<00:00,  3.04it/s]\u001b[A\n",
            "Evaluating:  60%|██████    | 3/5 [00:00<00:00,  3.14it/s]\u001b[A\n",
            "Evaluating:  80%|████████  | 4/5 [00:01<00:00,  3.16it/s]\u001b[A\n",
            "Evaluating: 100%|██████████| 5/5 [00:01<00:00,  3.10it/s]\n"
          ]
        },
        {
          "output_type": "stream",
          "name": "stdout",
          "text": [
            "Total detections: 51296\n",
            "Loading and preparing results...\n",
            "DONE (t=0.56s)\n",
            "creating index...\n",
            "index created!\n",
            "Running per image evaluation...\n",
            "Evaluate annotation type *bbox*\n"
          ]
        },
        {
          "output_type": "stream",
          "name": "stderr",
          "text": [
            "\rStage 2 Epoch 1 [Val]:  60%|██████    | 3/5 [00:14<00:09,  4.75s/it]"
          ]
        },
        {
          "output_type": "stream",
          "name": "stdout",
          "text": [
            "DONE (t=0.90s).\n",
            "Accumulating evaluation results...\n",
            "DONE (t=0.08s).\n",
            " Average Precision  (AP) @[ IoU=0.50:0.95 | area=   all | maxDets=100 ] = 0.000\n",
            " Average Precision  (AP) @[ IoU=0.50      | area=   all | maxDets=100 ] = 0.000\n",
            " Average Precision  (AP) @[ IoU=0.75      | area=   all | maxDets=100 ] = 0.000\n",
            " Average Precision  (AP) @[ IoU=0.50:0.95 | area= small | maxDets=100 ] = 0.000\n",
            " Average Precision  (AP) @[ IoU=0.50:0.95 | area=medium | maxDets=100 ] = 0.000\n",
            " Average Precision  (AP) @[ IoU=0.50:0.95 | area= large | maxDets=100 ] = 0.001\n",
            " Average Recall     (AR) @[ IoU=0.50:0.95 | area=   all | maxDets=  1 ] = 0.000\n",
            " Average Recall     (AR) @[ IoU=0.50:0.95 | area=   all | maxDets= 10 ] = 0.000\n",
            " Average Recall     (AR) @[ IoU=0.50:0.95 | area=   all | maxDets=100 ] = 0.000\n",
            " Average Recall     (AR) @[ IoU=0.50:0.95 | area= small | maxDets=100 ] = 0.000\n",
            " Average Recall     (AR) @[ IoU=0.50:0.95 | area=medium | maxDets=100 ] = 0.000\n",
            " Average Recall     (AR) @[ IoU=0.50:0.95 | area= large | maxDets=100 ] = 0.005\n"
          ]
        },
        {
          "output_type": "stream",
          "name": "stderr",
          "text": [
            "\n",
            "Evaluating:   0%|          | 0/5 [00:00<?, ?it/s]\u001b[A\n",
            "Evaluating:  20%|██        | 1/5 [00:00<00:01,  3.04it/s]\u001b[A\n",
            "Evaluating:  40%|████      | 2/5 [00:00<00:00,  3.09it/s]\u001b[A\n",
            "Evaluating:  60%|██████    | 3/5 [00:00<00:00,  3.18it/s]\u001b[A\n",
            "Evaluating:  80%|████████  | 4/5 [00:01<00:00,  3.12it/s]\u001b[A\n",
            "Evaluating: 100%|██████████| 5/5 [00:01<00:00,  2.82it/s]\n"
          ]
        },
        {
          "output_type": "stream",
          "name": "stdout",
          "text": [
            "Total detections: 51296\n",
            "Loading and preparing results...\n",
            "DONE (t=0.39s)\n",
            "creating index...\n",
            "index created!\n",
            "Running per image evaluation...\n",
            "Evaluate annotation type *bbox*\n",
            "DONE (t=1.09s).\n",
            "Accumulating evaluation results...\n",
            "DONE (t=0.14s).\n",
            " Average Precision  (AP) @[ IoU=0.50:0.95 | area=   all | maxDets=100 ] = 0.000\n",
            " Average Precision  (AP) @[ IoU=0.50      | area=   all | maxDets=100 ] = 0.000\n",
            " Average Precision  (AP) @[ IoU=0.75      | area=   all | maxDets=100 ] = 0.000\n",
            " Average Precision  (AP) @[ IoU=0.50:0.95 | area= small | maxDets=100 ] = 0.000\n",
            " Average Precision  (AP) @[ IoU=0.50:0.95 | area=medium | maxDets=100 ] = 0.000\n",
            " Average Precision  (AP) @[ IoU=0.50:0.95 | area= large | maxDets=100 ] = 0.001\n",
            " Average Recall     (AR) @[ IoU=0.50:0.95 | area=   all | maxDets=  1 ] = 0.000\n",
            " Average Recall     (AR) @[ IoU=0.50:0.95 | area=   all | maxDets= 10 ] = 0.000\n",
            " Average Recall     (AR) @[ IoU=0.50:0.95 | area=   all | maxDets=100 ] = 0.000\n",
            " Average Recall     (AR) @[ IoU=0.50:0.95 | area= small | maxDets=100 ] = 0.000\n",
            " Average Recall     (AR) @[ IoU=0.50:0.95 | area=medium | maxDets=100 ] = 0.000\n",
            " Average Recall     (AR) @[ IoU=0.50:0.95 | area= large | maxDets=100 ] = 0.005\n"
          ]
        },
        {
          "output_type": "stream",
          "name": "stderr",
          "text": [
            "Stage 2 Epoch 1 [Val]:  80%|████████  | 4/5 [00:18<00:04,  4.72s/it]\n",
            "Evaluating:   0%|          | 0/5 [00:00<?, ?it/s]\u001b[A\n",
            "Evaluating:  20%|██        | 1/5 [00:00<00:01,  2.42it/s]\u001b[A\n",
            "Evaluating:  40%|████      | 2/5 [00:00<00:01,  2.37it/s]\u001b[A\n",
            "Evaluating:  60%|██████    | 3/5 [00:01<00:00,  2.45it/s]\u001b[A\n",
            "Evaluating:  80%|████████  | 4/5 [00:01<00:00,  1.83it/s]\u001b[A\n",
            "Evaluating: 100%|██████████| 5/5 [00:02<00:00,  2.04it/s]\n"
          ]
        },
        {
          "output_type": "stream",
          "name": "stdout",
          "text": [
            "Total detections: 51296\n",
            "Loading and preparing results...\n",
            "DONE (t=0.58s)\n",
            "creating index...\n",
            "index created!\n",
            "Running per image evaluation...\n",
            "Evaluate annotation type *bbox*\n"
          ]
        },
        {
          "output_type": "stream",
          "name": "stderr",
          "text": [
            "\rStage 2 Epoch 1 [Val]: 100%|██████████| 5/5 [00:25<00:00,  5.30s/it]"
          ]
        },
        {
          "output_type": "stream",
          "name": "stdout",
          "text": [
            "DONE (t=1.07s).\n",
            "Accumulating evaluation results...\n",
            "DONE (t=0.10s).\n",
            " Average Precision  (AP) @[ IoU=0.50:0.95 | area=   all | maxDets=100 ] = 0.000\n",
            " Average Precision  (AP) @[ IoU=0.50      | area=   all | maxDets=100 ] = 0.000\n",
            " Average Precision  (AP) @[ IoU=0.75      | area=   all | maxDets=100 ] = 0.000\n",
            " Average Precision  (AP) @[ IoU=0.50:0.95 | area= small | maxDets=100 ] = 0.000\n",
            " Average Precision  (AP) @[ IoU=0.50:0.95 | area=medium | maxDets=100 ] = 0.000\n",
            " Average Precision  (AP) @[ IoU=0.50:0.95 | area= large | maxDets=100 ] = 0.001\n",
            " Average Recall     (AR) @[ IoU=0.50:0.95 | area=   all | maxDets=  1 ] = 0.000\n",
            " Average Recall     (AR) @[ IoU=0.50:0.95 | area=   all | maxDets= 10 ] = 0.000\n",
            " Average Recall     (AR) @[ IoU=0.50:0.95 | area=   all | maxDets=100 ] = 0.000\n",
            " Average Recall     (AR) @[ IoU=0.50:0.95 | area= small | maxDets=100 ] = 0.000\n",
            " Average Recall     (AR) @[ IoU=0.50:0.95 | area=medium | maxDets=100 ] = 0.000\n",
            " Average Recall     (AR) @[ IoU=0.50:0.95 | area= large | maxDets=100 ] = 0.005\n"
          ]
        },
        {
          "output_type": "stream",
          "name": "stderr",
          "text": [
            "\rStage 2 Epoch 1 [Val]: 100%|██████████| 5/5 [00:25<00:00,  5.06s/it]\n"
          ]
        },
        {
          "output_type": "stream",
          "name": "stdout",
          "text": [
            "[Stage 2 Epoch 1] Train Loss: 0.9260, Val Loss: 0.6161, mAP: 0.000059, Train Time: 00:00:10, Val Time: 00:00:25\n"
          ]
        },
        {
          "output_type": "stream",
          "name": "stderr",
          "text": [
            "Stage 2 Epoch 2 [Train]: 100%|██████████| 20/20 [00:10<00:00,  1.94it/s]\n",
            "Stage 2 Epoch 2 [Val]:   0%|          | 0/5 [00:00<?, ?it/s]\n",
            "Evaluating:   0%|          | 0/5 [00:00<?, ?it/s]\u001b[A\n",
            "Evaluating:  20%|██        | 1/5 [00:00<00:01,  2.91it/s]\u001b[A\n",
            "Evaluating:  40%|████      | 2/5 [00:00<00:01,  2.30it/s]\u001b[A\n",
            "Evaluating:  60%|██████    | 3/5 [00:01<00:00,  2.65it/s]\u001b[A\n",
            "Evaluating:  80%|████████  | 4/5 [00:01<00:00,  2.81it/s]\u001b[A\n",
            "Evaluating: 100%|██████████| 5/5 [00:01<00:00,  2.78it/s]\n"
          ]
        },
        {
          "output_type": "stream",
          "name": "stdout",
          "text": [
            "Total detections: 65705\n",
            "Loading and preparing results...\n",
            "DONE (t=0.64s)\n",
            "creating index...\n",
            "index created!\n",
            "Running per image evaluation...\n",
            "Evaluate annotation type *bbox*\n",
            "DONE (t=1.00s).\n",
            "Accumulating evaluation results...\n",
            "DONE (t=0.10s).\n",
            " Average Precision  (AP) @[ IoU=0.50:0.95 | area=   all | maxDets=100 ] = 0.000\n",
            " Average Precision  (AP) @[ IoU=0.50      | area=   all | maxDets=100 ] = 0.000\n",
            " Average Precision  (AP) @[ IoU=0.75      | area=   all | maxDets=100 ] = 0.000\n",
            " Average Precision  (AP) @[ IoU=0.50:0.95 | area= small | maxDets=100 ] = 0.000\n",
            " Average Precision  (AP) @[ IoU=0.50:0.95 | area=medium | maxDets=100 ] = 0.000\n",
            " Average Precision  (AP) @[ IoU=0.50:0.95 | area= large | maxDets=100 ] = 0.000\n",
            " Average Recall     (AR) @[ IoU=0.50:0.95 | area=   all | maxDets=  1 ] = 0.000\n",
            " Average Recall     (AR) @[ IoU=0.50:0.95 | area=   all | maxDets= 10 ] = 0.000\n",
            " Average Recall     (AR) @[ IoU=0.50:0.95 | area=   all | maxDets=100 ] = 0.000\n",
            " Average Recall     (AR) @[ IoU=0.50:0.95 | area= small | maxDets=100 ] = 0.000\n",
            " Average Recall     (AR) @[ IoU=0.50:0.95 | area=medium | maxDets=100 ] = 0.000\n",
            " Average Recall     (AR) @[ IoU=0.50:0.95 | area= large | maxDets=100 ] = 0.000\n"
          ]
        },
        {
          "output_type": "stream",
          "name": "stderr",
          "text": [
            "Stage 2 Epoch 2 [Val]:  20%|██        | 1/5 [00:05<00:20,  5.11s/it]\n",
            "Evaluating:   0%|          | 0/5 [00:00<?, ?it/s]\u001b[A\n",
            "Evaluating:  20%|██        | 1/5 [00:00<00:01,  3.01it/s]\u001b[A\n",
            "Evaluating:  40%|████      | 2/5 [00:00<00:01,  2.33it/s]\u001b[A\n",
            "Evaluating:  60%|██████    | 3/5 [00:01<00:00,  2.62it/s]\u001b[A\n",
            "Evaluating:  80%|████████  | 4/5 [00:01<00:00,  2.81it/s]\u001b[A\n",
            "Evaluating: 100%|██████████| 5/5 [00:01<00:00,  2.78it/s]\n"
          ]
        },
        {
          "output_type": "stream",
          "name": "stdout",
          "text": [
            "Total detections: 65705\n",
            "Loading and preparing results...\n",
            "DONE (t=0.66s)\n",
            "creating index...\n",
            "index created!\n",
            "Running per image evaluation...\n",
            "Evaluate annotation type *bbox*\n",
            "DONE (t=1.52s).\n",
            "Accumulating evaluation results...\n",
            "DONE (t=0.18s).\n",
            " Average Precision  (AP) @[ IoU=0.50:0.95 | area=   all | maxDets=100 ] = 0.000\n",
            " Average Precision  (AP) @[ IoU=0.50      | area=   all | maxDets=100 ] = 0.000\n",
            " Average Precision  (AP) @[ IoU=0.75      | area=   all | maxDets=100 ] = 0.000\n",
            " Average Precision  (AP) @[ IoU=0.50:0.95 | area= small | maxDets=100 ] = 0.000\n",
            " Average Precision  (AP) @[ IoU=0.50:0.95 | area=medium | maxDets=100 ] = 0.000\n",
            " Average Precision  (AP) @[ IoU=0.50:0.95 | area= large | maxDets=100 ] = 0.000\n",
            " Average Recall     (AR) @[ IoU=0.50:0.95 | area=   all | maxDets=  1 ] = 0.000\n",
            " Average Recall     (AR) @[ IoU=0.50:0.95 | area=   all | maxDets= 10 ] = 0.000\n",
            " Average Recall     (AR) @[ IoU=0.50:0.95 | area=   all | maxDets=100 ] = 0.000\n",
            " Average Recall     (AR) @[ IoU=0.50:0.95 | area= small | maxDets=100 ] = 0.000\n",
            " Average Recall     (AR) @[ IoU=0.50:0.95 | area=medium | maxDets=100 ] = 0.000\n",
            " Average Recall     (AR) @[ IoU=0.50:0.95 | area= large | maxDets=100 ] = 0.000\n"
          ]
        },
        {
          "output_type": "stream",
          "name": "stderr",
          "text": [
            "Stage 2 Epoch 2 [Val]:  40%|████      | 2/5 [00:10<00:16,  5.51s/it]\n",
            "Evaluating:   0%|          | 0/5 [00:00<?, ?it/s]\u001b[A\n",
            "Evaluating:  20%|██        | 1/5 [00:00<00:01,  2.27it/s]\u001b[A\n",
            "Evaluating:  40%|████      | 2/5 [00:00<00:01,  2.23it/s]\u001b[A\n",
            "Evaluating:  60%|██████    | 3/5 [00:01<00:00,  2.31it/s]\u001b[A\n",
            "Evaluating:  80%|████████  | 4/5 [00:01<00:00,  2.05it/s]\u001b[A\n",
            "Evaluating: 100%|██████████| 5/5 [00:02<00:00,  2.27it/s]\n"
          ]
        },
        {
          "output_type": "stream",
          "name": "stdout",
          "text": [
            "Total detections: 65705\n",
            "Loading and preparing results...\n",
            "DONE (t=0.68s)\n",
            "creating index...\n",
            "index created!\n",
            "Running per image evaluation...\n",
            "Evaluate annotation type *bbox*\n",
            "DONE (t=0.99s).\n",
            "Accumulating evaluation results...\n",
            "DONE (t=0.11s).\n",
            " Average Precision  (AP) @[ IoU=0.50:0.95 | area=   all | maxDets=100 ] = 0.000\n",
            " Average Precision  (AP) @[ IoU=0.50      | area=   all | maxDets=100 ] = 0.000\n",
            " Average Precision  (AP) @[ IoU=0.75      | area=   all | maxDets=100 ] = 0.000\n",
            " Average Precision  (AP) @[ IoU=0.50:0.95 | area= small | maxDets=100 ] = 0.000\n",
            " Average Precision  (AP) @[ IoU=0.50:0.95 | area=medium | maxDets=100 ] = 0.000\n",
            " Average Precision  (AP) @[ IoU=0.50:0.95 | area= large | maxDets=100 ] = 0.000\n",
            " Average Recall     (AR) @[ IoU=0.50:0.95 | area=   all | maxDets=  1 ] = 0.000\n",
            " Average Recall     (AR) @[ IoU=0.50:0.95 | area=   all | maxDets= 10 ] = 0.000\n",
            " Average Recall     (AR) @[ IoU=0.50:0.95 | area=   all | maxDets=100 ] = 0.000\n",
            " Average Recall     (AR) @[ IoU=0.50:0.95 | area= small | maxDets=100 ] = 0.000\n",
            " Average Recall     (AR) @[ IoU=0.50:0.95 | area=medium | maxDets=100 ] = 0.000\n",
            " Average Recall     (AR) @[ IoU=0.50:0.95 | area= large | maxDets=100 ] = 0.000\n"
          ]
        },
        {
          "output_type": "stream",
          "name": "stderr",
          "text": [
            "Stage 2 Epoch 2 [Val]:  60%|██████    | 3/5 [00:16<00:11,  5.54s/it]\n",
            "Evaluating:   0%|          | 0/5 [00:00<?, ?it/s]\u001b[A\n",
            "Evaluating:  20%|██        | 1/5 [00:00<00:01,  2.89it/s]\u001b[A\n",
            "Evaluating:  40%|████      | 2/5 [00:00<00:00,  3.05it/s]\u001b[A\n",
            "Evaluating:  60%|██████    | 3/5 [00:00<00:00,  3.11it/s]\u001b[A\n",
            "Evaluating:  80%|████████  | 4/5 [00:01<00:00,  3.07it/s]\u001b[A\n",
            "Evaluating: 100%|██████████| 5/5 [00:01<00:00,  3.06it/s]\n"
          ]
        },
        {
          "output_type": "stream",
          "name": "stdout",
          "text": [
            "Total detections: 65705\n",
            "Loading and preparing results...\n",
            "DONE (t=0.68s)\n",
            "creating index...\n",
            "index created!\n",
            "Running per image evaluation...\n",
            "Evaluate annotation type *bbox*\n",
            "DONE (t=1.00s).\n",
            "Accumulating evaluation results...\n",
            "DONE (t=0.10s).\n",
            " Average Precision  (AP) @[ IoU=0.50:0.95 | area=   all | maxDets=100 ] = 0.000\n",
            " Average Precision  (AP) @[ IoU=0.50      | area=   all | maxDets=100 ] = 0.000\n",
            " Average Precision  (AP) @[ IoU=0.75      | area=   all | maxDets=100 ] = 0.000\n",
            " Average Precision  (AP) @[ IoU=0.50:0.95 | area= small | maxDets=100 ] = 0.000\n",
            " Average Precision  (AP) @[ IoU=0.50:0.95 | area=medium | maxDets=100 ] = 0.000\n",
            " Average Precision  (AP) @[ IoU=0.50:0.95 | area= large | maxDets=100 ] = 0.000\n",
            " Average Recall     (AR) @[ IoU=0.50:0.95 | area=   all | maxDets=  1 ] = 0.000\n",
            " Average Recall     (AR) @[ IoU=0.50:0.95 | area=   all | maxDets= 10 ] = 0.000\n",
            " Average Recall     (AR) @[ IoU=0.50:0.95 | area=   all | maxDets=100 ] = 0.000\n",
            " Average Recall     (AR) @[ IoU=0.50:0.95 | area= small | maxDets=100 ] = 0.000\n",
            " Average Recall     (AR) @[ IoU=0.50:0.95 | area=medium | maxDets=100 ] = 0.000\n",
            " Average Recall     (AR) @[ IoU=0.50:0.95 | area= large | maxDets=100 ] = 0.000\n"
          ]
        },
        {
          "output_type": "stream",
          "name": "stderr",
          "text": [
            "Stage 2 Epoch 2 [Val]:  80%|████████  | 4/5 [00:21<00:05,  5.30s/it]\n",
            "Evaluating:   0%|          | 0/5 [00:00<?, ?it/s]\u001b[A\n",
            "Evaluating:  20%|██        | 1/5 [00:00<00:01,  2.94it/s]\u001b[A\n",
            "Evaluating:  40%|████      | 2/5 [00:00<00:00,  3.04it/s]\u001b[A\n",
            "Evaluating:  60%|██████    | 3/5 [00:00<00:00,  3.09it/s]\u001b[A\n",
            "Evaluating:  80%|████████  | 4/5 [00:01<00:00,  3.02it/s]\u001b[A\n",
            "Evaluating: 100%|██████████| 5/5 [00:01<00:00,  2.53it/s]\n"
          ]
        },
        {
          "output_type": "stream",
          "name": "stdout",
          "text": [
            "Total detections: 65705\n",
            "Loading and preparing results...\n",
            "DONE (t=0.65s)\n",
            "creating index...\n",
            "index created!\n",
            "Running per image evaluation...\n",
            "Evaluate annotation type *bbox*\n",
            "DONE (t=1.02s).\n",
            "Accumulating evaluation results...\n",
            "DONE (t=0.11s).\n",
            " Average Precision  (AP) @[ IoU=0.50:0.95 | area=   all | maxDets=100 ] = 0.000\n",
            " Average Precision  (AP) @[ IoU=0.50      | area=   all | maxDets=100 ] = 0.000\n",
            " Average Precision  (AP) @[ IoU=0.75      | area=   all | maxDets=100 ] = 0.000\n",
            " Average Precision  (AP) @[ IoU=0.50:0.95 | area= small | maxDets=100 ] = 0.000\n",
            " Average Precision  (AP) @[ IoU=0.50:0.95 | area=medium | maxDets=100 ] = 0.000\n",
            " Average Precision  (AP) @[ IoU=0.50:0.95 | area= large | maxDets=100 ] = 0.000\n",
            " Average Recall     (AR) @[ IoU=0.50:0.95 | area=   all | maxDets=  1 ] = 0.000\n",
            " Average Recall     (AR) @[ IoU=0.50:0.95 | area=   all | maxDets= 10 ] = 0.000\n",
            " Average Recall     (AR) @[ IoU=0.50:0.95 | area=   all | maxDets=100 ] = 0.000\n",
            " Average Recall     (AR) @[ IoU=0.50:0.95 | area= small | maxDets=100 ] = 0.000\n",
            " Average Recall     (AR) @[ IoU=0.50:0.95 | area=medium | maxDets=100 ] = 0.000\n",
            " Average Recall     (AR) @[ IoU=0.50:0.95 | area= large | maxDets=100 ] = 0.000\n"
          ]
        },
        {
          "output_type": "stream",
          "name": "stderr",
          "text": [
            "Stage 2 Epoch 2 [Val]: 100%|██████████| 5/5 [00:27<00:00,  5.52s/it]\n"
          ]
        },
        {
          "output_type": "stream",
          "name": "stdout",
          "text": [
            "[Stage 2 Epoch 2] Train Loss: 0.7774, Val Loss: 0.5892, mAP: 0.000004, Train Time: 00:00:10, Val Time: 00:00:27\n"
          ]
        },
        {
          "output_type": "stream",
          "name": "stderr",
          "text": [
            "Stage 2 Epoch 3 [Train]: 100%|██████████| 20/20 [00:09<00:00,  2.07it/s]\n",
            "Stage 2 Epoch 3 [Val]:   0%|          | 0/5 [00:00<?, ?it/s]\n",
            "Evaluating:   0%|          | 0/5 [00:00<?, ?it/s]\u001b[A\n",
            "Evaluating:  20%|██        | 1/5 [00:00<00:01,  2.37it/s]\u001b[A\n",
            "Evaluating:  40%|████      | 2/5 [00:01<00:01,  1.84it/s]\u001b[A\n",
            "Evaluating:  60%|██████    | 3/5 [00:01<00:00,  2.04it/s]\u001b[A\n",
            "Evaluating:  80%|████████  | 4/5 [00:01<00:00,  2.09it/s]\u001b[A\n",
            "Evaluating: 100%|██████████| 5/5 [00:02<00:00,  2.18it/s]\n"
          ]
        },
        {
          "output_type": "stream",
          "name": "stdout",
          "text": [
            "Total detections: 63242\n",
            "Loading and preparing results...\n",
            "DONE (t=0.62s)\n",
            "creating index...\n",
            "index created!\n",
            "Running per image evaluation...\n",
            "Evaluate annotation type *bbox*\n",
            "DONE (t=1.05s).\n",
            "Accumulating evaluation results...\n",
            "DONE (t=0.13s).\n",
            " Average Precision  (AP) @[ IoU=0.50:0.95 | area=   all | maxDets=100 ] = 0.000\n",
            " Average Precision  (AP) @[ IoU=0.50      | area=   all | maxDets=100 ] = 0.000\n",
            " Average Precision  (AP) @[ IoU=0.75      | area=   all | maxDets=100 ] = 0.000\n",
            " Average Precision  (AP) @[ IoU=0.50:0.95 | area= small | maxDets=100 ] = 0.000\n",
            " Average Precision  (AP) @[ IoU=0.50:0.95 | area=medium | maxDets=100 ] = 0.000\n",
            " Average Precision  (AP) @[ IoU=0.50:0.95 | area= large | maxDets=100 ] = 0.000\n",
            " Average Recall     (AR) @[ IoU=0.50:0.95 | area=   all | maxDets=  1 ] = 0.000\n",
            " Average Recall     (AR) @[ IoU=0.50:0.95 | area=   all | maxDets= 10 ] = 0.000\n",
            " Average Recall     (AR) @[ IoU=0.50:0.95 | area=   all | maxDets=100 ] = 0.001\n",
            " Average Recall     (AR) @[ IoU=0.50:0.95 | area= small | maxDets=100 ] = 0.000\n",
            " Average Recall     (AR) @[ IoU=0.50:0.95 | area=medium | maxDets=100 ] = 0.000\n",
            " Average Recall     (AR) @[ IoU=0.50:0.95 | area= large | maxDets=100 ] = 0.003\n"
          ]
        },
        {
          "output_type": "stream",
          "name": "stderr",
          "text": [
            "Stage 2 Epoch 3 [Val]:  20%|██        | 1/5 [00:05<00:22,  5.69s/it]\n",
            "Evaluating:   0%|          | 0/5 [00:00<?, ?it/s]\u001b[A\n",
            "Evaluating:  20%|██        | 1/5 [00:00<00:01,  3.02it/s]\u001b[A\n",
            "Evaluating:  40%|████      | 2/5 [00:00<00:00,  3.03it/s]\u001b[A\n",
            "Evaluating:  60%|██████    | 3/5 [00:01<00:00,  2.50it/s]\u001b[A\n",
            "Evaluating:  80%|████████  | 4/5 [00:01<00:00,  2.69it/s]\u001b[A\n",
            "Evaluating: 100%|██████████| 5/5 [00:01<00:00,  2.76it/s]\n"
          ]
        },
        {
          "output_type": "stream",
          "name": "stdout",
          "text": [
            "Total detections: 63242\n",
            "Loading and preparing results...\n",
            "DONE (t=0.65s)\n",
            "creating index...\n",
            "index created!\n",
            "Running per image evaluation...\n",
            "Evaluate annotation type *bbox*\n",
            "DONE (t=1.02s).\n",
            "Accumulating evaluation results...\n",
            "DONE (t=0.11s).\n",
            " Average Precision  (AP) @[ IoU=0.50:0.95 | area=   all | maxDets=100 ] = 0.000\n",
            " Average Precision  (AP) @[ IoU=0.50      | area=   all | maxDets=100 ] = 0.000\n",
            " Average Precision  (AP) @[ IoU=0.75      | area=   all | maxDets=100 ] = 0.000\n",
            " Average Precision  (AP) @[ IoU=0.50:0.95 | area= small | maxDets=100 ] = 0.000\n",
            " Average Precision  (AP) @[ IoU=0.50:0.95 | area=medium | maxDets=100 ] = 0.000\n",
            " Average Precision  (AP) @[ IoU=0.50:0.95 | area= large | maxDets=100 ] = 0.000\n",
            " Average Recall     (AR) @[ IoU=0.50:0.95 | area=   all | maxDets=  1 ] = 0.000\n",
            " Average Recall     (AR) @[ IoU=0.50:0.95 | area=   all | maxDets= 10 ] = 0.000\n",
            " Average Recall     (AR) @[ IoU=0.50:0.95 | area=   all | maxDets=100 ] = 0.001\n",
            " Average Recall     (AR) @[ IoU=0.50:0.95 | area= small | maxDets=100 ] = 0.000\n",
            " Average Recall     (AR) @[ IoU=0.50:0.95 | area=medium | maxDets=100 ] = 0.000\n",
            " Average Recall     (AR) @[ IoU=0.50:0.95 | area= large | maxDets=100 ] = 0.003\n"
          ]
        },
        {
          "output_type": "stream",
          "name": "stderr",
          "text": [
            "Stage 2 Epoch 3 [Val]:  40%|████      | 2/5 [00:10<00:15,  5.33s/it]\n",
            "Evaluating:   0%|          | 0/5 [00:00<?, ?it/s]\u001b[A\n",
            "Evaluating:  20%|██        | 1/5 [00:00<00:01,  3.01it/s]\u001b[A\n",
            "Evaluating:  40%|████      | 2/5 [00:00<00:00,  3.06it/s]\u001b[A\n",
            "Evaluating:  60%|██████    | 3/5 [00:00<00:00,  3.11it/s]\u001b[A\n",
            "Evaluating:  80%|████████  | 4/5 [00:01<00:00,  2.89it/s]\u001b[A\n",
            "Evaluating: 100%|██████████| 5/5 [00:01<00:00,  2.72it/s]\n"
          ]
        },
        {
          "output_type": "stream",
          "name": "stdout",
          "text": [
            "Total detections: 63242\n",
            "Loading and preparing results...\n",
            "DONE (t=0.87s)\n",
            "creating index...\n",
            "index created!\n",
            "Running per image evaluation...\n",
            "Evaluate annotation type *bbox*\n",
            "DONE (t=1.02s).\n",
            "Accumulating evaluation results...\n",
            "DONE (t=0.11s).\n",
            " Average Precision  (AP) @[ IoU=0.50:0.95 | area=   all | maxDets=100 ] = 0.000\n",
            " Average Precision  (AP) @[ IoU=0.50      | area=   all | maxDets=100 ] = 0.000\n",
            " Average Precision  (AP) @[ IoU=0.75      | area=   all | maxDets=100 ] = 0.000\n",
            " Average Precision  (AP) @[ IoU=0.50:0.95 | area= small | maxDets=100 ] = 0.000\n",
            " Average Precision  (AP) @[ IoU=0.50:0.95 | area=medium | maxDets=100 ] = 0.000\n",
            " Average Precision  (AP) @[ IoU=0.50:0.95 | area= large | maxDets=100 ] = 0.000\n",
            " Average Recall     (AR) @[ IoU=0.50:0.95 | area=   all | maxDets=  1 ] = 0.000\n",
            " Average Recall     (AR) @[ IoU=0.50:0.95 | area=   all | maxDets= 10 ] = 0.000\n",
            " Average Recall     (AR) @[ IoU=0.50:0.95 | area=   all | maxDets=100 ] = 0.001\n",
            " Average Recall     (AR) @[ IoU=0.50:0.95 | area= small | maxDets=100 ] = 0.000\n",
            " Average Recall     (AR) @[ IoU=0.50:0.95 | area=medium | maxDets=100 ] = 0.000\n",
            " Average Recall     (AR) @[ IoU=0.50:0.95 | area= large | maxDets=100 ] = 0.003\n"
          ]
        },
        {
          "output_type": "stream",
          "name": "stderr",
          "text": [
            "Stage 2 Epoch 3 [Val]:  60%|██████    | 3/5 [00:16<00:11,  5.73s/it]\n",
            "Evaluating:   0%|          | 0/5 [00:00<?, ?it/s]\u001b[A\n",
            "Evaluating:  20%|██        | 1/5 [00:00<00:01,  3.02it/s]\u001b[A\n",
            "Evaluating:  40%|████      | 2/5 [00:00<00:00,  3.10it/s]\u001b[A\n",
            "Evaluating:  60%|██████    | 3/5 [00:01<00:00,  2.52it/s]\u001b[A\n",
            "Evaluating:  80%|████████  | 4/5 [00:01<00:00,  2.69it/s]\u001b[A\n",
            "Evaluating: 100%|██████████| 5/5 [00:01<00:00,  2.80it/s]\n"
          ]
        },
        {
          "output_type": "stream",
          "name": "stdout",
          "text": [
            "Total detections: 63242\n",
            "Loading and preparing results...\n",
            "DONE (t=0.67s)\n",
            "creating index...\n",
            "index created!\n",
            "Running per image evaluation...\n",
            "Evaluate annotation type *bbox*\n",
            "DONE (t=1.03s).\n",
            "Accumulating evaluation results...\n",
            "DONE (t=0.11s).\n",
            " Average Precision  (AP) @[ IoU=0.50:0.95 | area=   all | maxDets=100 ] = 0.000\n",
            " Average Precision  (AP) @[ IoU=0.50      | area=   all | maxDets=100 ] = 0.000\n",
            " Average Precision  (AP) @[ IoU=0.75      | area=   all | maxDets=100 ] = 0.000\n",
            " Average Precision  (AP) @[ IoU=0.50:0.95 | area= small | maxDets=100 ] = 0.000\n",
            " Average Precision  (AP) @[ IoU=0.50:0.95 | area=medium | maxDets=100 ] = 0.000\n",
            " Average Precision  (AP) @[ IoU=0.50:0.95 | area= large | maxDets=100 ] = 0.000\n",
            " Average Recall     (AR) @[ IoU=0.50:0.95 | area=   all | maxDets=  1 ] = 0.000\n",
            " Average Recall     (AR) @[ IoU=0.50:0.95 | area=   all | maxDets= 10 ] = 0.000\n",
            " Average Recall     (AR) @[ IoU=0.50:0.95 | area=   all | maxDets=100 ] = 0.001\n",
            " Average Recall     (AR) @[ IoU=0.50:0.95 | area= small | maxDets=100 ] = 0.000\n",
            " Average Recall     (AR) @[ IoU=0.50:0.95 | area=medium | maxDets=100 ] = 0.000\n",
            " Average Recall     (AR) @[ IoU=0.50:0.95 | area= large | maxDets=100 ] = 0.003\n"
          ]
        },
        {
          "output_type": "stream",
          "name": "stderr",
          "text": [
            "Stage 2 Epoch 3 [Val]:  80%|████████  | 4/5 [00:22<00:05,  5.49s/it]\n",
            "Evaluating:   0%|          | 0/5 [00:00<?, ?it/s]\u001b[A\n",
            "Evaluating:  20%|██        | 1/5 [00:00<00:01,  3.02it/s]\u001b[A\n",
            "Evaluating:  40%|████      | 2/5 [00:00<00:00,  3.11it/s]\u001b[A\n",
            "Evaluating:  60%|██████    | 3/5 [00:00<00:00,  2.99it/s]\u001b[A\n",
            "Evaluating:  80%|████████  | 4/5 [00:01<00:00,  3.02it/s]\u001b[A\n",
            "Evaluating: 100%|██████████| 5/5 [00:01<00:00,  2.73it/s]\n"
          ]
        },
        {
          "output_type": "stream",
          "name": "stdout",
          "text": [
            "Total detections: 63242\n",
            "Loading and preparing results...\n",
            "DONE (t=0.53s)\n",
            "creating index...\n",
            "index created!\n",
            "Running per image evaluation...\n",
            "Evaluate annotation type *bbox*\n",
            "DONE (t=1.86s).\n",
            "Accumulating evaluation results...\n",
            "DONE (t=0.20s).\n",
            " Average Precision  (AP) @[ IoU=0.50:0.95 | area=   all | maxDets=100 ] = 0.000\n",
            " Average Precision  (AP) @[ IoU=0.50      | area=   all | maxDets=100 ] = 0.000\n",
            " Average Precision  (AP) @[ IoU=0.75      | area=   all | maxDets=100 ] = 0.000\n",
            " Average Precision  (AP) @[ IoU=0.50:0.95 | area= small | maxDets=100 ] = 0.000\n",
            " Average Precision  (AP) @[ IoU=0.50:0.95 | area=medium | maxDets=100 ] = 0.000\n",
            " Average Precision  (AP) @[ IoU=0.50:0.95 | area= large | maxDets=100 ] = 0.000\n",
            " Average Recall     (AR) @[ IoU=0.50:0.95 | area=   all | maxDets=  1 ] = 0.000\n",
            " Average Recall     (AR) @[ IoU=0.50:0.95 | area=   all | maxDets= 10 ] = 0.000\n",
            " Average Recall     (AR) @[ IoU=0.50:0.95 | area=   all | maxDets=100 ] = 0.001\n",
            " Average Recall     (AR) @[ IoU=0.50:0.95 | area= small | maxDets=100 ] = 0.000\n",
            " Average Recall     (AR) @[ IoU=0.50:0.95 | area=medium | maxDets=100 ] = 0.000\n",
            " Average Recall     (AR) @[ IoU=0.50:0.95 | area= large | maxDets=100 ] = 0.003\n"
          ]
        },
        {
          "output_type": "stream",
          "name": "stderr",
          "text": [
            "Stage 2 Epoch 3 [Val]: 100%|██████████| 5/5 [00:28<00:00,  5.62s/it]\n"
          ]
        },
        {
          "output_type": "stream",
          "name": "stdout",
          "text": [
            "[Stage 2 Epoch 3] Train Loss: 0.7791, Val Loss: 0.5839, mAP: 0.000011, Train Time: 00:00:09, Val Time: 00:00:28\n"
          ]
        },
        {
          "output_type": "stream",
          "name": "stderr",
          "text": [
            "Stage 2 Epoch 4 [Train]: 100%|██████████| 20/20 [00:09<00:00,  2.07it/s]\n",
            "Stage 2 Epoch 4 [Val]:   0%|          | 0/5 [00:00<?, ?it/s]\n",
            "Evaluating:   0%|          | 0/5 [00:00<?, ?it/s]\u001b[A\n",
            "Evaluating:  20%|██        | 1/5 [00:00<00:01,  2.07it/s]\u001b[A\n",
            "Evaluating:  40%|████      | 2/5 [00:00<00:01,  2.63it/s]\u001b[A\n",
            "Evaluating:  60%|██████    | 3/5 [00:01<00:00,  2.46it/s]\u001b[A\n",
            "Evaluating:  80%|████████  | 4/5 [00:01<00:00,  2.01it/s]\u001b[A\n",
            "Evaluating: 100%|██████████| 5/5 [00:02<00:00,  2.15it/s]\n"
          ]
        },
        {
          "output_type": "stream",
          "name": "stdout",
          "text": [
            "Total detections: 69707\n",
            "Loading and preparing results...\n",
            "DONE (t=0.70s)\n",
            "creating index...\n",
            "index created!\n",
            "Running per image evaluation...\n",
            "Evaluate annotation type *bbox*\n",
            "DONE (t=1.13s).\n",
            "Accumulating evaluation results...\n",
            "DONE (t=0.13s).\n",
            " Average Precision  (AP) @[ IoU=0.50:0.95 | area=   all | maxDets=100 ] = 0.000\n",
            " Average Precision  (AP) @[ IoU=0.50      | area=   all | maxDets=100 ] = 0.001\n",
            " Average Precision  (AP) @[ IoU=0.75      | area=   all | maxDets=100 ] = 0.000\n",
            " Average Precision  (AP) @[ IoU=0.50:0.95 | area= small | maxDets=100 ] = 0.000\n",
            " Average Precision  (AP) @[ IoU=0.50:0.95 | area=medium | maxDets=100 ] = 0.000\n",
            " Average Precision  (AP) @[ IoU=0.50:0.95 | area= large | maxDets=100 ] = 0.002\n",
            " Average Recall     (AR) @[ IoU=0.50:0.95 | area=   all | maxDets=  1 ] = 0.000\n",
            " Average Recall     (AR) @[ IoU=0.50:0.95 | area=   all | maxDets= 10 ] = 0.000\n",
            " Average Recall     (AR) @[ IoU=0.50:0.95 | area=   all | maxDets=100 ] = 0.004\n",
            " Average Recall     (AR) @[ IoU=0.50:0.95 | area= small | maxDets=100 ] = 0.001\n",
            " Average Recall     (AR) @[ IoU=0.50:0.95 | area=medium | maxDets=100 ] = 0.019\n",
            " Average Recall     (AR) @[ IoU=0.50:0.95 | area= large | maxDets=100 ] = 0.002\n"
          ]
        },
        {
          "output_type": "stream",
          "name": "stderr",
          "text": [
            "Stage 2 Epoch 4 [Val]:  20%|██        | 1/5 [00:06<00:26,  6.74s/it]\n",
            "Evaluating:   0%|          | 0/5 [00:00<?, ?it/s]\u001b[A\n",
            "Evaluating:  20%|██        | 1/5 [00:00<00:01,  3.00it/s]\u001b[A\n",
            "Evaluating:  40%|████      | 2/5 [00:00<00:00,  3.01it/s]\u001b[A\n",
            "Evaluating:  60%|██████    | 3/5 [00:00<00:00,  3.09it/s]\u001b[A\n",
            "Evaluating:  80%|████████  | 4/5 [00:01<00:00,  3.09it/s]\u001b[A\n",
            "Evaluating: 100%|██████████| 5/5 [00:01<00:00,  3.02it/s]\n"
          ]
        },
        {
          "output_type": "stream",
          "name": "stdout",
          "text": [
            "Total detections: 69707\n",
            "Loading and preparing results...\n",
            "DONE (t=0.68s)\n",
            "creating index...\n",
            "index created!\n",
            "Running per image evaluation...\n",
            "Evaluate annotation type *bbox*\n",
            "DONE (t=1.11s).\n",
            "Accumulating evaluation results...\n",
            "DONE (t=0.13s).\n",
            " Average Precision  (AP) @[ IoU=0.50:0.95 | area=   all | maxDets=100 ] = 0.000\n",
            " Average Precision  (AP) @[ IoU=0.50      | area=   all | maxDets=100 ] = 0.001\n",
            " Average Precision  (AP) @[ IoU=0.75      | area=   all | maxDets=100 ] = 0.000\n",
            " Average Precision  (AP) @[ IoU=0.50:0.95 | area= small | maxDets=100 ] = 0.000\n",
            " Average Precision  (AP) @[ IoU=0.50:0.95 | area=medium | maxDets=100 ] = 0.000\n",
            " Average Precision  (AP) @[ IoU=0.50:0.95 | area= large | maxDets=100 ] = 0.002\n",
            " Average Recall     (AR) @[ IoU=0.50:0.95 | area=   all | maxDets=  1 ] = 0.000\n",
            " Average Recall     (AR) @[ IoU=0.50:0.95 | area=   all | maxDets= 10 ] = 0.000\n",
            " Average Recall     (AR) @[ IoU=0.50:0.95 | area=   all | maxDets=100 ] = 0.004\n",
            " Average Recall     (AR) @[ IoU=0.50:0.95 | area= small | maxDets=100 ] = 0.001\n",
            " Average Recall     (AR) @[ IoU=0.50:0.95 | area=medium | maxDets=100 ] = 0.019\n",
            " Average Recall     (AR) @[ IoU=0.50:0.95 | area= large | maxDets=100 ] = 0.002\n"
          ]
        },
        {
          "output_type": "stream",
          "name": "stderr",
          "text": [
            "Stage 2 Epoch 4 [Val]:  40%|████      | 2/5 [00:11<00:17,  5.85s/it]\n",
            "Evaluating:   0%|          | 0/5 [00:00<?, ?it/s]\u001b[A\n",
            "Evaluating:  20%|██        | 1/5 [00:00<00:01,  3.07it/s]\u001b[A\n",
            "Evaluating:  40%|████      | 2/5 [00:00<00:00,  3.10it/s]\u001b[A\n",
            "Evaluating:  60%|██████    | 3/5 [00:01<00:00,  2.50it/s]\u001b[A\n",
            "Evaluating:  80%|████████  | 4/5 [00:01<00:00,  2.73it/s]\u001b[A\n",
            "Evaluating: 100%|██████████| 5/5 [00:01<00:00,  2.80it/s]\n"
          ]
        },
        {
          "output_type": "stream",
          "name": "stdout",
          "text": [
            "Total detections: 69707\n",
            "Loading and preparing results...\n",
            "DONE (t=0.97s)\n",
            "creating index...\n",
            "index created!\n",
            "Running per image evaluation...\n",
            "Evaluate annotation type *bbox*\n",
            "DONE (t=1.42s).\n",
            "Accumulating evaluation results...\n",
            "DONE (t=0.14s).\n",
            " Average Precision  (AP) @[ IoU=0.50:0.95 | area=   all | maxDets=100 ] = 0.000\n",
            " Average Precision  (AP) @[ IoU=0.50      | area=   all | maxDets=100 ] = 0.001\n",
            " Average Precision  (AP) @[ IoU=0.75      | area=   all | maxDets=100 ] = 0.000\n",
            " Average Precision  (AP) @[ IoU=0.50:0.95 | area= small | maxDets=100 ] = 0.000\n",
            " Average Precision  (AP) @[ IoU=0.50:0.95 | area=medium | maxDets=100 ] = 0.000\n",
            " Average Precision  (AP) @[ IoU=0.50:0.95 | area= large | maxDets=100 ] = 0.002\n",
            " Average Recall     (AR) @[ IoU=0.50:0.95 | area=   all | maxDets=  1 ] = 0.000\n",
            " Average Recall     (AR) @[ IoU=0.50:0.95 | area=   all | maxDets= 10 ] = 0.000\n",
            " Average Recall     (AR) @[ IoU=0.50:0.95 | area=   all | maxDets=100 ] = 0.004\n",
            " Average Recall     (AR) @[ IoU=0.50:0.95 | area= small | maxDets=100 ] = 0.001\n",
            " Average Recall     (AR) @[ IoU=0.50:0.95 | area=medium | maxDets=100 ] = 0.019\n",
            " Average Recall     (AR) @[ IoU=0.50:0.95 | area= large | maxDets=100 ] = 0.002\n"
          ]
        },
        {
          "output_type": "stream",
          "name": "stderr",
          "text": [
            "Stage 2 Epoch 4 [Val]:  60%|██████    | 3/5 [00:18<00:12,  6.23s/it]\n",
            "Evaluating:   0%|          | 0/5 [00:00<?, ?it/s]\u001b[A\n",
            "Evaluating:  20%|██        | 1/5 [00:00<00:01,  2.84it/s]\u001b[A\n",
            "Evaluating:  40%|████      | 2/5 [00:00<00:01,  2.95it/s]\u001b[A\n",
            "Evaluating:  60%|██████    | 3/5 [00:00<00:00,  3.07it/s]\u001b[A\n",
            "Evaluating:  80%|████████  | 4/5 [00:01<00:00,  3.09it/s]\u001b[A\n",
            "Evaluating: 100%|██████████| 5/5 [00:01<00:00,  2.74it/s]\n"
          ]
        },
        {
          "output_type": "stream",
          "name": "stdout",
          "text": [
            "Total detections: 69707\n",
            "Loading and preparing results...\n",
            "DONE (t=0.48s)\n",
            "creating index...\n",
            "index created!\n",
            "Running per image evaluation...\n",
            "Evaluate annotation type *bbox*\n",
            "DONE (t=1.13s).\n",
            "Accumulating evaluation results...\n",
            "DONE (t=0.13s).\n",
            " Average Precision  (AP) @[ IoU=0.50:0.95 | area=   all | maxDets=100 ] = 0.000\n",
            " Average Precision  (AP) @[ IoU=0.50      | area=   all | maxDets=100 ] = 0.001\n",
            " Average Precision  (AP) @[ IoU=0.75      | area=   all | maxDets=100 ] = 0.000\n",
            " Average Precision  (AP) @[ IoU=0.50:0.95 | area= small | maxDets=100 ] = 0.000\n",
            " Average Precision  (AP) @[ IoU=0.50:0.95 | area=medium | maxDets=100 ] = 0.000\n",
            " Average Precision  (AP) @[ IoU=0.50:0.95 | area= large | maxDets=100 ] = 0.002\n",
            " Average Recall     (AR) @[ IoU=0.50:0.95 | area=   all | maxDets=  1 ] = 0.000\n",
            " Average Recall     (AR) @[ IoU=0.50:0.95 | area=   all | maxDets= 10 ] = 0.000\n",
            " Average Recall     (AR) @[ IoU=0.50:0.95 | area=   all | maxDets=100 ] = 0.004\n",
            " Average Recall     (AR) @[ IoU=0.50:0.95 | area= small | maxDets=100 ] = 0.001\n",
            " Average Recall     (AR) @[ IoU=0.50:0.95 | area=medium | maxDets=100 ] = 0.019\n",
            " Average Recall     (AR) @[ IoU=0.50:0.95 | area= large | maxDets=100 ] = 0.002\n"
          ]
        },
        {
          "output_type": "stream",
          "name": "stderr",
          "text": [
            "Stage 2 Epoch 4 [Val]:  80%|████████  | 4/5 [00:23<00:05,  5.85s/it]\n",
            "Evaluating:   0%|          | 0/5 [00:00<?, ?it/s]\u001b[A\n",
            "Evaluating:  20%|██        | 1/5 [00:00<00:02,  1.96it/s]\u001b[A\n",
            "Evaluating:  40%|████      | 2/5 [00:00<00:01,  2.53it/s]\u001b[A\n",
            "Evaluating:  60%|██████    | 3/5 [00:01<00:00,  2.80it/s]\u001b[A\n",
            "Evaluating:  80%|████████  | 4/5 [00:01<00:00,  2.86it/s]\u001b[A\n",
            "Evaluating: 100%|██████████| 5/5 [00:01<00:00,  2.52it/s]\n"
          ]
        },
        {
          "output_type": "stream",
          "name": "stdout",
          "text": [
            "Total detections: 69707\n",
            "Loading and preparing results...\n",
            "DONE (t=0.59s)\n",
            "creating index...\n",
            "index created!\n",
            "Running per image evaluation...\n",
            "Evaluate annotation type *bbox*\n",
            "DONE (t=1.99s).\n",
            "Accumulating evaluation results...\n"
          ]
        },
        {
          "output_type": "stream",
          "name": "stderr",
          "text": [
            "Stage 2 Epoch 4 [Val]: 100%|██████████| 5/5 [00:30<00:00,  6.09s/it]\n"
          ]
        },
        {
          "output_type": "stream",
          "name": "stdout",
          "text": [
            "DONE (t=0.23s).\n",
            " Average Precision  (AP) @[ IoU=0.50:0.95 | area=   all | maxDets=100 ] = 0.000\n",
            " Average Precision  (AP) @[ IoU=0.50      | area=   all | maxDets=100 ] = 0.001\n",
            " Average Precision  (AP) @[ IoU=0.75      | area=   all | maxDets=100 ] = 0.000\n",
            " Average Precision  (AP) @[ IoU=0.50:0.95 | area= small | maxDets=100 ] = 0.000\n",
            " Average Precision  (AP) @[ IoU=0.50:0.95 | area=medium | maxDets=100 ] = 0.000\n",
            " Average Precision  (AP) @[ IoU=0.50:0.95 | area= large | maxDets=100 ] = 0.002\n",
            " Average Recall     (AR) @[ IoU=0.50:0.95 | area=   all | maxDets=  1 ] = 0.000\n",
            " Average Recall     (AR) @[ IoU=0.50:0.95 | area=   all | maxDets= 10 ] = 0.000\n",
            " Average Recall     (AR) @[ IoU=0.50:0.95 | area=   all | maxDets=100 ] = 0.004\n",
            " Average Recall     (AR) @[ IoU=0.50:0.95 | area= small | maxDets=100 ] = 0.001\n",
            " Average Recall     (AR) @[ IoU=0.50:0.95 | area=medium | maxDets=100 ] = 0.019\n",
            " Average Recall     (AR) @[ IoU=0.50:0.95 | area= large | maxDets=100 ] = 0.002\n",
            "[Stage 2 Epoch 4] Train Loss: 0.7624, Val Loss: 0.5827, mAP: 0.000336, Train Time: 00:00:09, Val Time: 00:00:30\n"
          ]
        },
        {
          "output_type": "stream",
          "name": "stderr",
          "text": [
            "Stage 2 Epoch 5 [Train]: 100%|██████████| 20/20 [00:09<00:00,  2.09it/s]\n",
            "Stage 2 Epoch 5 [Val]:   0%|          | 0/5 [00:00<?, ?it/s]\n",
            "Evaluating:   0%|          | 0/5 [00:00<?, ?it/s]\u001b[A\n",
            "Evaluating:  20%|██        | 1/5 [00:00<00:01,  2.10it/s]\u001b[A\n",
            "Evaluating:  40%|████      | 2/5 [00:00<00:01,  2.51it/s]\u001b[A\n",
            "Evaluating:  60%|██████    | 3/5 [00:01<00:00,  2.45it/s]\u001b[A\n",
            "Evaluating:  80%|████████  | 4/5 [00:01<00:00,  2.45it/s]\u001b[A\n",
            "Evaluating: 100%|██████████| 5/5 [00:02<00:00,  2.43it/s]\n"
          ]
        },
        {
          "output_type": "stream",
          "name": "stdout",
          "text": [
            "Total detections: 53648\n",
            "Loading and preparing results...\n",
            "DONE (t=0.68s)\n",
            "creating index...\n",
            "index created!\n",
            "Running per image evaluation...\n",
            "Evaluate annotation type *bbox*\n",
            "DONE (t=1.09s).\n",
            "Accumulating evaluation results...\n",
            "DONE (t=0.13s).\n",
            " Average Precision  (AP) @[ IoU=0.50:0.95 | area=   all | maxDets=100 ] = 0.000\n",
            " Average Precision  (AP) @[ IoU=0.50      | area=   all | maxDets=100 ] = 0.001\n",
            " Average Precision  (AP) @[ IoU=0.75      | area=   all | maxDets=100 ] = 0.000\n",
            " Average Precision  (AP) @[ IoU=0.50:0.95 | area= small | maxDets=100 ] = 0.000\n",
            " Average Precision  (AP) @[ IoU=0.50:0.95 | area=medium | maxDets=100 ] = 0.000\n",
            " Average Precision  (AP) @[ IoU=0.50:0.95 | area= large | maxDets=100 ] = 0.001\n",
            " Average Recall     (AR) @[ IoU=0.50:0.95 | area=   all | maxDets=  1 ] = 0.000\n",
            " Average Recall     (AR) @[ IoU=0.50:0.95 | area=   all | maxDets= 10 ] = 0.002\n",
            " Average Recall     (AR) @[ IoU=0.50:0.95 | area=   all | maxDets=100 ] = 0.009\n",
            " Average Recall     (AR) @[ IoU=0.50:0.95 | area= small | maxDets=100 ] = 0.000\n",
            " Average Recall     (AR) @[ IoU=0.50:0.95 | area=medium | maxDets=100 ] = 0.032\n",
            " Average Recall     (AR) @[ IoU=0.50:0.95 | area= large | maxDets=100 ] = 0.008\n"
          ]
        },
        {
          "output_type": "stream",
          "name": "stderr",
          "text": [
            "Stage 2 Epoch 5 [Val]:  20%|██        | 1/5 [00:06<00:24,  6.04s/it]\n",
            "Evaluating:   0%|          | 0/5 [00:00<?, ?it/s]\u001b[A\n",
            "Evaluating:  20%|██        | 1/5 [00:00<00:01,  3.06it/s]\u001b[A\n",
            "Evaluating:  40%|████      | 2/5 [00:00<00:00,  3.14it/s]\u001b[A\n",
            "Evaluating:  60%|██████    | 3/5 [00:00<00:00,  3.04it/s]\u001b[A\n",
            "Evaluating:  80%|████████  | 4/5 [00:01<00:00,  3.03it/s]\u001b[A\n",
            "Evaluating: 100%|██████████| 5/5 [00:01<00:00,  2.78it/s]\n"
          ]
        },
        {
          "output_type": "stream",
          "name": "stdout",
          "text": [
            "Total detections: 53648\n",
            "Loading and preparing results...\n",
            "DONE (t=0.42s)\n",
            "creating index...\n",
            "index created!\n",
            "Running per image evaluation...\n",
            "Evaluate annotation type *bbox*\n",
            "DONE (t=1.06s).\n",
            "Accumulating evaluation results...\n",
            "DONE (t=0.12s).\n",
            " Average Precision  (AP) @[ IoU=0.50:0.95 | area=   all | maxDets=100 ] = 0.000\n",
            " Average Precision  (AP) @[ IoU=0.50      | area=   all | maxDets=100 ] = 0.001\n",
            " Average Precision  (AP) @[ IoU=0.75      | area=   all | maxDets=100 ] = 0.000\n",
            " Average Precision  (AP) @[ IoU=0.50:0.95 | area= small | maxDets=100 ] = 0.000\n",
            " Average Precision  (AP) @[ IoU=0.50:0.95 | area=medium | maxDets=100 ] = 0.000\n",
            " Average Precision  (AP) @[ IoU=0.50:0.95 | area= large | maxDets=100 ] = 0.001\n",
            " Average Recall     (AR) @[ IoU=0.50:0.95 | area=   all | maxDets=  1 ] = 0.000\n",
            " Average Recall     (AR) @[ IoU=0.50:0.95 | area=   all | maxDets= 10 ] = 0.002\n",
            " Average Recall     (AR) @[ IoU=0.50:0.95 | area=   all | maxDets=100 ] = 0.009\n",
            " Average Recall     (AR) @[ IoU=0.50:0.95 | area= small | maxDets=100 ] = 0.000\n",
            " Average Recall     (AR) @[ IoU=0.50:0.95 | area=medium | maxDets=100 ] = 0.032\n",
            " Average Recall     (AR) @[ IoU=0.50:0.95 | area= large | maxDets=100 ] = 0.008\n"
          ]
        },
        {
          "output_type": "stream",
          "name": "stderr",
          "text": [
            "Stage 2 Epoch 5 [Val]:  40%|████      | 2/5 [00:10<00:15,  5.27s/it]\n",
            "Evaluating:   0%|          | 0/5 [00:00<?, ?it/s]\u001b[A\n",
            "Evaluating:  20%|██        | 1/5 [00:00<00:01,  3.14it/s]\u001b[A\n",
            "Evaluating:  40%|████      | 2/5 [00:00<00:00,  3.09it/s]\u001b[A\n",
            "Evaluating:  60%|██████    | 3/5 [00:01<00:00,  2.47it/s]\u001b[A\n",
            "Evaluating:  80%|████████  | 4/5 [00:01<00:00,  2.65it/s]\u001b[A\n",
            "Evaluating: 100%|██████████| 5/5 [00:01<00:00,  2.76it/s]\n"
          ]
        },
        {
          "output_type": "stream",
          "name": "stdout",
          "text": [
            "Total detections: 53648\n",
            "Loading and preparing results...\n",
            "DONE (t=0.70s)\n",
            "creating index...\n",
            "index created!\n",
            "Running per image evaluation...\n",
            "Evaluate annotation type *bbox*\n",
            "DONE (t=1.92s).\n",
            "Accumulating evaluation results...\n"
          ]
        },
        {
          "output_type": "stream",
          "name": "stderr",
          "text": [
            "\rStage 2 Epoch 5 [Val]:  60%|██████    | 3/5 [00:16<00:11,  5.63s/it]"
          ]
        },
        {
          "output_type": "stream",
          "name": "stdout",
          "text": [
            "DONE (t=0.23s).\n",
            " Average Precision  (AP) @[ IoU=0.50:0.95 | area=   all | maxDets=100 ] = 0.000\n",
            " Average Precision  (AP) @[ IoU=0.50      | area=   all | maxDets=100 ] = 0.001\n",
            " Average Precision  (AP) @[ IoU=0.75      | area=   all | maxDets=100 ] = 0.000\n",
            " Average Precision  (AP) @[ IoU=0.50:0.95 | area= small | maxDets=100 ] = 0.000\n",
            " Average Precision  (AP) @[ IoU=0.50:0.95 | area=medium | maxDets=100 ] = 0.000\n",
            " Average Precision  (AP) @[ IoU=0.50:0.95 | area= large | maxDets=100 ] = 0.001\n",
            " Average Recall     (AR) @[ IoU=0.50:0.95 | area=   all | maxDets=  1 ] = 0.000\n",
            " Average Recall     (AR) @[ IoU=0.50:0.95 | area=   all | maxDets= 10 ] = 0.002\n",
            " Average Recall     (AR) @[ IoU=0.50:0.95 | area=   all | maxDets=100 ] = 0.009\n",
            " Average Recall     (AR) @[ IoU=0.50:0.95 | area= small | maxDets=100 ] = 0.000\n",
            " Average Recall     (AR) @[ IoU=0.50:0.95 | area=medium | maxDets=100 ] = 0.032\n",
            " Average Recall     (AR) @[ IoU=0.50:0.95 | area= large | maxDets=100 ] = 0.008\n"
          ]
        },
        {
          "output_type": "stream",
          "name": "stderr",
          "text": [
            "\n",
            "Evaluating:   0%|          | 0/5 [00:00<?, ?it/s]\u001b[A\n",
            "Evaluating:  20%|██        | 1/5 [00:00<00:01,  2.17it/s]\u001b[A\n",
            "Evaluating:  40%|████      | 2/5 [00:00<00:01,  2.55it/s]\u001b[A\n",
            "Evaluating:  60%|██████    | 3/5 [00:01<00:00,  2.84it/s]\u001b[A\n",
            "Evaluating:  80%|████████  | 4/5 [00:01<00:00,  2.92it/s]\u001b[A\n",
            "Evaluating: 100%|██████████| 5/5 [00:01<00:00,  2.83it/s]\n"
          ]
        },
        {
          "output_type": "stream",
          "name": "stdout",
          "text": [
            "Total detections: 53648\n",
            "Loading and preparing results...\n",
            "DONE (t=0.62s)\n",
            "creating index...\n",
            "index created!\n",
            "Running per image evaluation...\n",
            "Evaluate annotation type *bbox*\n",
            "DONE (t=1.08s).\n",
            "Accumulating evaluation results...\n",
            "DONE (t=0.13s).\n",
            " Average Precision  (AP) @[ IoU=0.50:0.95 | area=   all | maxDets=100 ] = 0.000\n",
            " Average Precision  (AP) @[ IoU=0.50      | area=   all | maxDets=100 ] = 0.001\n",
            " Average Precision  (AP) @[ IoU=0.75      | area=   all | maxDets=100 ] = 0.000\n",
            " Average Precision  (AP) @[ IoU=0.50:0.95 | area= small | maxDets=100 ] = 0.000\n",
            " Average Precision  (AP) @[ IoU=0.50:0.95 | area=medium | maxDets=100 ] = 0.000\n",
            " Average Precision  (AP) @[ IoU=0.50:0.95 | area= large | maxDets=100 ] = 0.001\n",
            " Average Recall     (AR) @[ IoU=0.50:0.95 | area=   all | maxDets=  1 ] = 0.000\n",
            " Average Recall     (AR) @[ IoU=0.50:0.95 | area=   all | maxDets= 10 ] = 0.002\n",
            " Average Recall     (AR) @[ IoU=0.50:0.95 | area=   all | maxDets=100 ] = 0.009\n",
            " Average Recall     (AR) @[ IoU=0.50:0.95 | area= small | maxDets=100 ] = 0.000\n",
            " Average Recall     (AR) @[ IoU=0.50:0.95 | area=medium | maxDets=100 ] = 0.032\n",
            " Average Recall     (AR) @[ IoU=0.50:0.95 | area= large | maxDets=100 ] = 0.008\n"
          ]
        },
        {
          "output_type": "stream",
          "name": "stderr",
          "text": [
            "Stage 2 Epoch 5 [Val]:  80%|████████  | 4/5 [00:21<00:05,  5.39s/it]\n",
            "Evaluating:   0%|          | 0/5 [00:00<?, ?it/s]\u001b[A\n",
            "Evaluating:  20%|██        | 1/5 [00:00<00:01,  3.16it/s]\u001b[A\n",
            "Evaluating:  40%|████      | 2/5 [00:00<00:00,  3.10it/s]\u001b[A\n",
            "Evaluating:  60%|██████    | 3/5 [00:00<00:00,  3.11it/s]\u001b[A\n",
            "Evaluating:  80%|████████  | 4/5 [00:01<00:00,  3.17it/s]\u001b[A\n",
            "Evaluating: 100%|██████████| 5/5 [00:01<00:00,  3.15it/s]\n"
          ]
        },
        {
          "output_type": "stream",
          "name": "stdout",
          "text": [
            "Total detections: 53648\n",
            "Loading and preparing results...\n",
            "DONE (t=0.62s)\n",
            "creating index...\n",
            "index created!\n",
            "Running per image evaluation...\n",
            "Evaluate annotation type *bbox*\n",
            "DONE (t=1.10s).\n",
            "Accumulating evaluation results...\n",
            "DONE (t=0.13s).\n",
            " Average Precision  (AP) @[ IoU=0.50:0.95 | area=   all | maxDets=100 ] = 0.000\n",
            " Average Precision  (AP) @[ IoU=0.50      | area=   all | maxDets=100 ] = 0.001\n",
            " Average Precision  (AP) @[ IoU=0.75      | area=   all | maxDets=100 ] = 0.000\n",
            " Average Precision  (AP) @[ IoU=0.50:0.95 | area= small | maxDets=100 ] = 0.000\n",
            " Average Precision  (AP) @[ IoU=0.50:0.95 | area=medium | maxDets=100 ] = 0.000\n",
            " Average Precision  (AP) @[ IoU=0.50:0.95 | area= large | maxDets=100 ] = 0.001\n",
            " Average Recall     (AR) @[ IoU=0.50:0.95 | area=   all | maxDets=  1 ] = 0.000\n",
            " Average Recall     (AR) @[ IoU=0.50:0.95 | area=   all | maxDets= 10 ] = 0.002\n",
            " Average Recall     (AR) @[ IoU=0.50:0.95 | area=   all | maxDets=100 ] = 0.009\n",
            " Average Recall     (AR) @[ IoU=0.50:0.95 | area= small | maxDets=100 ] = 0.000\n",
            " Average Recall     (AR) @[ IoU=0.50:0.95 | area=medium | maxDets=100 ] = 0.032\n",
            " Average Recall     (AR) @[ IoU=0.50:0.95 | area= large | maxDets=100 ] = 0.008\n"
          ]
        },
        {
          "output_type": "stream",
          "name": "stderr",
          "text": [
            "Stage 2 Epoch 5 [Val]: 100%|██████████| 5/5 [00:26<00:00,  5.32s/it]\n"
          ]
        },
        {
          "output_type": "stream",
          "name": "stdout",
          "text": [
            "[Stage 2 Epoch 5] Train Loss: 0.7125, Val Loss: 0.5639, mAP: 0.000276, Train Time: 00:00:09, Val Time: 00:00:26\n"
          ]
        },
        {
          "output_type": "stream",
          "name": "stderr",
          "text": [
            "Stage 2 Epoch 6 [Train]: 100%|██████████| 20/20 [00:11<00:00,  1.78it/s]\n",
            "Stage 2 Epoch 6 [Val]:   0%|          | 0/5 [00:00<?, ?it/s]\n",
            "Evaluating:   0%|          | 0/5 [00:00<?, ?it/s]\u001b[A\n",
            "Evaluating:  20%|██        | 1/5 [00:00<00:01,  3.09it/s]\u001b[A\n",
            "Evaluating:  40%|████      | 2/5 [00:00<00:00,  3.17it/s]\u001b[A\n",
            "Evaluating:  60%|██████    | 3/5 [00:00<00:00,  3.14it/s]\u001b[A\n",
            "Evaluating:  80%|████████  | 4/5 [00:01<00:00,  3.16it/s]\u001b[A\n",
            "Evaluating: 100%|██████████| 5/5 [00:01<00:00,  3.11it/s]\n"
          ]
        },
        {
          "output_type": "stream",
          "name": "stdout",
          "text": [
            "Total detections: 60306\n",
            "Loading and preparing results...\n",
            "DONE (t=0.91s)\n",
            "creating index...\n",
            "index created!\n",
            "Running per image evaluation...\n",
            "Evaluate annotation type *bbox*\n",
            "DONE (t=1.91s).\n",
            "Accumulating evaluation results...\n",
            "DONE (t=0.21s).\n",
            " Average Precision  (AP) @[ IoU=0.50:0.95 | area=   all | maxDets=100 ] = 0.001\n",
            " Average Precision  (AP) @[ IoU=0.50      | area=   all | maxDets=100 ] = 0.003\n",
            " Average Precision  (AP) @[ IoU=0.75      | area=   all | maxDets=100 ] = 0.000\n",
            " Average Precision  (AP) @[ IoU=0.50:0.95 | area= small | maxDets=100 ] = 0.000\n",
            " Average Precision  (AP) @[ IoU=0.50:0.95 | area=medium | maxDets=100 ] = 0.000\n",
            " Average Precision  (AP) @[ IoU=0.50:0.95 | area= large | maxDets=100 ] = 0.001\n",
            " Average Recall     (AR) @[ IoU=0.50:0.95 | area=   all | maxDets=  1 ] = 0.003\n",
            " Average Recall     (AR) @[ IoU=0.50:0.95 | area=   all | maxDets= 10 ] = 0.006\n",
            " Average Recall     (AR) @[ IoU=0.50:0.95 | area=   all | maxDets=100 ] = 0.009\n",
            " Average Recall     (AR) @[ IoU=0.50:0.95 | area= small | maxDets=100 ] = 0.000\n",
            " Average Recall     (AR) @[ IoU=0.50:0.95 | area=medium | maxDets=100 ] = 0.006\n",
            " Average Recall     (AR) @[ IoU=0.50:0.95 | area= large | maxDets=100 ] = 0.016\n"
          ]
        },
        {
          "output_type": "stream",
          "name": "stderr",
          "text": [
            "Stage 2 Epoch 6 [Val]:  20%|██        | 1/5 [00:06<00:24,  6.19s/it]\n",
            "Evaluating:   0%|          | 0/5 [00:00<?, ?it/s]\u001b[A\n",
            "Evaluating:  20%|██        | 1/5 [00:00<00:01,  2.95it/s]\u001b[A\n",
            "Evaluating:  40%|████      | 2/5 [00:00<00:00,  3.07it/s]\u001b[A\n",
            "Evaluating:  60%|██████    | 3/5 [00:00<00:00,  3.07it/s]\u001b[A\n",
            "Evaluating:  80%|████████  | 4/5 [00:01<00:00,  3.10it/s]\u001b[A\n",
            "Evaluating: 100%|██████████| 5/5 [00:01<00:00,  3.07it/s]\n"
          ]
        },
        {
          "output_type": "stream",
          "name": "stdout",
          "text": [
            "Total detections: 60306\n",
            "Loading and preparing results...\n",
            "DONE (t=0.62s)\n",
            "creating index...\n",
            "index created!\n",
            "Running per image evaluation...\n",
            "Evaluate annotation type *bbox*\n",
            "DONE (t=1.11s).\n",
            "Accumulating evaluation results...\n",
            "DONE (t=0.12s).\n",
            " Average Precision  (AP) @[ IoU=0.50:0.95 | area=   all | maxDets=100 ] = 0.001\n",
            " Average Precision  (AP) @[ IoU=0.50      | area=   all | maxDets=100 ] = 0.003\n",
            " Average Precision  (AP) @[ IoU=0.75      | area=   all | maxDets=100 ] = 0.000\n",
            " Average Precision  (AP) @[ IoU=0.50:0.95 | area= small | maxDets=100 ] = 0.000\n",
            " Average Precision  (AP) @[ IoU=0.50:0.95 | area=medium | maxDets=100 ] = 0.000\n",
            " Average Precision  (AP) @[ IoU=0.50:0.95 | area= large | maxDets=100 ] = 0.001\n",
            " Average Recall     (AR) @[ IoU=0.50:0.95 | area=   all | maxDets=  1 ] = 0.003\n",
            " Average Recall     (AR) @[ IoU=0.50:0.95 | area=   all | maxDets= 10 ] = 0.006\n",
            " Average Recall     (AR) @[ IoU=0.50:0.95 | area=   all | maxDets=100 ] = 0.009\n",
            " Average Recall     (AR) @[ IoU=0.50:0.95 | area= small | maxDets=100 ] = 0.000\n",
            " Average Recall     (AR) @[ IoU=0.50:0.95 | area=medium | maxDets=100 ] = 0.006\n",
            " Average Recall     (AR) @[ IoU=0.50:0.95 | area= large | maxDets=100 ] = 0.016\n"
          ]
        },
        {
          "output_type": "stream",
          "name": "stderr",
          "text": [
            "Stage 2 Epoch 6 [Val]:  40%|████      | 2/5 [00:11<00:16,  5.46s/it]\n",
            "Evaluating:   0%|          | 0/5 [00:00<?, ?it/s]\u001b[A\n",
            "Evaluating:  20%|██        | 1/5 [00:00<00:01,  3.06it/s]\u001b[A\n",
            "Evaluating:  40%|████      | 2/5 [00:00<00:00,  3.12it/s]\u001b[A\n",
            "Evaluating:  60%|██████    | 3/5 [00:01<00:00,  2.53it/s]\u001b[A\n",
            "Evaluating:  80%|████████  | 4/5 [00:01<00:00,  2.75it/s]\u001b[A\n",
            "Evaluating: 100%|██████████| 5/5 [00:01<00:00,  2.83it/s]\n"
          ]
        },
        {
          "output_type": "stream",
          "name": "stdout",
          "text": [
            "Total detections: 60306\n",
            "Loading and preparing results...\n",
            "DONE (t=0.67s)\n",
            "creating index...\n",
            "index created!\n",
            "Running per image evaluation...\n",
            "Evaluate annotation type *bbox*\n",
            "DONE (t=1.08s).\n",
            "Accumulating evaluation results...\n",
            "DONE (t=0.12s).\n",
            " Average Precision  (AP) @[ IoU=0.50:0.95 | area=   all | maxDets=100 ] = 0.001\n",
            " Average Precision  (AP) @[ IoU=0.50      | area=   all | maxDets=100 ] = 0.003\n",
            " Average Precision  (AP) @[ IoU=0.75      | area=   all | maxDets=100 ] = 0.000\n",
            " Average Precision  (AP) @[ IoU=0.50:0.95 | area= small | maxDets=100 ] = 0.000\n",
            " Average Precision  (AP) @[ IoU=0.50:0.95 | area=medium | maxDets=100 ] = 0.000\n",
            " Average Precision  (AP) @[ IoU=0.50:0.95 | area= large | maxDets=100 ] = 0.001\n",
            " Average Recall     (AR) @[ IoU=0.50:0.95 | area=   all | maxDets=  1 ] = 0.003\n",
            " Average Recall     (AR) @[ IoU=0.50:0.95 | area=   all | maxDets= 10 ] = 0.006\n",
            " Average Recall     (AR) @[ IoU=0.50:0.95 | area=   all | maxDets=100 ] = 0.009\n",
            " Average Recall     (AR) @[ IoU=0.50:0.95 | area= small | maxDets=100 ] = 0.000\n",
            " Average Recall     (AR) @[ IoU=0.50:0.95 | area=medium | maxDets=100 ] = 0.006\n",
            " Average Recall     (AR) @[ IoU=0.50:0.95 | area= large | maxDets=100 ] = 0.016\n"
          ]
        },
        {
          "output_type": "stream",
          "name": "stderr",
          "text": [
            "Stage 2 Epoch 6 [Val]:  60%|██████    | 3/5 [00:16<00:10,  5.28s/it]\n",
            "Evaluating:   0%|          | 0/5 [00:00<?, ?it/s]\u001b[A\n",
            "Evaluating:  20%|██        | 1/5 [00:00<00:01,  2.28it/s]\u001b[A\n",
            "Evaluating:  40%|████      | 2/5 [00:00<00:01,  2.31it/s]\u001b[A\n",
            "Evaluating:  60%|██████    | 3/5 [00:01<00:00,  2.39it/s]\u001b[A\n",
            "Evaluating:  80%|████████  | 4/5 [00:01<00:00,  2.42it/s]\u001b[A\n",
            "Evaluating: 100%|██████████| 5/5 [00:02<00:00,  2.37it/s]\n"
          ]
        },
        {
          "output_type": "stream",
          "name": "stdout",
          "text": [
            "Total detections: 60306\n",
            "Loading and preparing results...\n",
            "DONE (t=0.64s)\n",
            "creating index...\n",
            "index created!\n",
            "Running per image evaluation...\n",
            "Evaluate annotation type *bbox*\n",
            "DONE (t=1.06s).\n",
            "Accumulating evaluation results...\n",
            "DONE (t=0.12s).\n",
            " Average Precision  (AP) @[ IoU=0.50:0.95 | area=   all | maxDets=100 ] = 0.001\n",
            " Average Precision  (AP) @[ IoU=0.50      | area=   all | maxDets=100 ] = 0.003\n",
            " Average Precision  (AP) @[ IoU=0.75      | area=   all | maxDets=100 ] = 0.000\n",
            " Average Precision  (AP) @[ IoU=0.50:0.95 | area= small | maxDets=100 ] = 0.000\n",
            " Average Precision  (AP) @[ IoU=0.50:0.95 | area=medium | maxDets=100 ] = 0.000\n",
            " Average Precision  (AP) @[ IoU=0.50:0.95 | area= large | maxDets=100 ] = 0.001\n",
            " Average Recall     (AR) @[ IoU=0.50:0.95 | area=   all | maxDets=  1 ] = 0.003\n",
            " Average Recall     (AR) @[ IoU=0.50:0.95 | area=   all | maxDets= 10 ] = 0.006\n",
            " Average Recall     (AR) @[ IoU=0.50:0.95 | area=   all | maxDets=100 ] = 0.009\n",
            " Average Recall     (AR) @[ IoU=0.50:0.95 | area= small | maxDets=100 ] = 0.000\n",
            " Average Recall     (AR) @[ IoU=0.50:0.95 | area=medium | maxDets=100 ] = 0.006\n",
            " Average Recall     (AR) @[ IoU=0.50:0.95 | area= large | maxDets=100 ] = 0.016\n"
          ]
        },
        {
          "output_type": "stream",
          "name": "stderr",
          "text": [
            "Stage 2 Epoch 6 [Val]:  80%|████████  | 4/5 [00:22<00:05,  5.51s/it]\n",
            "Evaluating:   0%|          | 0/5 [00:00<?, ?it/s]\u001b[A\n",
            "Evaluating:  20%|██        | 1/5 [00:00<00:01,  3.06it/s]\u001b[A\n",
            "Evaluating:  40%|████      | 2/5 [00:00<00:00,  3.12it/s]\u001b[A\n",
            "Evaluating:  60%|██████    | 3/5 [00:00<00:00,  3.19it/s]\u001b[A\n",
            "Evaluating:  80%|████████  | 4/5 [00:01<00:00,  3.21it/s]\u001b[A\n",
            "Evaluating: 100%|██████████| 5/5 [00:01<00:00,  3.15it/s]\n"
          ]
        },
        {
          "output_type": "stream",
          "name": "stdout",
          "text": [
            "Total detections: 60306\n",
            "Loading and preparing results...\n",
            "DONE (t=0.62s)\n",
            "creating index...\n",
            "index created!\n",
            "Running per image evaluation...\n",
            "Evaluate annotation type *bbox*\n",
            "DONE (t=1.06s).\n",
            "Accumulating evaluation results...\n",
            "DONE (t=0.15s).\n",
            " Average Precision  (AP) @[ IoU=0.50:0.95 | area=   all | maxDets=100 ] = 0.001\n",
            " Average Precision  (AP) @[ IoU=0.50      | area=   all | maxDets=100 ] = 0.003\n",
            " Average Precision  (AP) @[ IoU=0.75      | area=   all | maxDets=100 ] = 0.000\n",
            " Average Precision  (AP) @[ IoU=0.50:0.95 | area= small | maxDets=100 ] = 0.000\n",
            " Average Precision  (AP) @[ IoU=0.50:0.95 | area=medium | maxDets=100 ] = 0.000\n",
            " Average Precision  (AP) @[ IoU=0.50:0.95 | area= large | maxDets=100 ] = 0.001\n",
            " Average Recall     (AR) @[ IoU=0.50:0.95 | area=   all | maxDets=  1 ] = 0.003\n",
            " Average Recall     (AR) @[ IoU=0.50:0.95 | area=   all | maxDets= 10 ] = 0.006\n",
            " Average Recall     (AR) @[ IoU=0.50:0.95 | area=   all | maxDets=100 ] = 0.009\n",
            " Average Recall     (AR) @[ IoU=0.50:0.95 | area= small | maxDets=100 ] = 0.000\n",
            " Average Recall     (AR) @[ IoU=0.50:0.95 | area=medium | maxDets=100 ] = 0.006\n",
            " Average Recall     (AR) @[ IoU=0.50:0.95 | area= large | maxDets=100 ] = 0.016\n"
          ]
        },
        {
          "output_type": "stream",
          "name": "stderr",
          "text": [
            "Stage 2 Epoch 6 [Val]: 100%|██████████| 5/5 [00:26<00:00,  5.38s/it]\n"
          ]
        },
        {
          "output_type": "stream",
          "name": "stdout",
          "text": [
            "[Stage 2 Epoch 6] Train Loss: 0.7576, Val Loss: 0.5789, mAP: 0.000579, Train Time: 00:00:11, Val Time: 00:00:26\n"
          ]
        },
        {
          "output_type": "stream",
          "name": "stderr",
          "text": [
            "Stage 2 Epoch 7 [Train]: 100%|██████████| 20/20 [00:10<00:00,  1.96it/s]\n",
            "Stage 2 Epoch 7 [Val]:   0%|          | 0/5 [00:00<?, ?it/s]\n",
            "Evaluating:   0%|          | 0/5 [00:00<?, ?it/s]\u001b[A\n",
            "Evaluating:  20%|██        | 1/5 [00:00<00:01,  2.98it/s]\u001b[A\n",
            "Evaluating:  40%|████      | 2/5 [00:00<00:01,  2.96it/s]\u001b[A\n",
            "Evaluating:  60%|██████    | 3/5 [00:01<00:00,  2.47it/s]\u001b[A\n",
            "Evaluating:  80%|████████  | 4/5 [00:01<00:00,  2.69it/s]\u001b[A\n",
            "Evaluating: 100%|██████████| 5/5 [00:01<00:00,  2.76it/s]\n"
          ]
        },
        {
          "output_type": "stream",
          "name": "stdout",
          "text": [
            "Total detections: 71854\n",
            "Loading and preparing results...\n",
            "DONE (t=0.71s)\n",
            "creating index...\n",
            "index created!\n",
            "Running per image evaluation...\n",
            "Evaluate annotation type *bbox*\n",
            "DONE (t=1.11s).\n",
            "Accumulating evaluation results...\n",
            "DONE (t=0.15s).\n",
            " Average Precision  (AP) @[ IoU=0.50:0.95 | area=   all | maxDets=100 ] = 0.002\n",
            " Average Precision  (AP) @[ IoU=0.50      | area=   all | maxDets=100 ] = 0.005\n",
            " Average Precision  (AP) @[ IoU=0.75      | area=   all | maxDets=100 ] = 0.000\n",
            " Average Precision  (AP) @[ IoU=0.50:0.95 | area= small | maxDets=100 ] = 0.000\n",
            " Average Precision  (AP) @[ IoU=0.50:0.95 | area=medium | maxDets=100 ] = 0.000\n",
            " Average Precision  (AP) @[ IoU=0.50:0.95 | area= large | maxDets=100 ] = 0.004\n",
            " Average Recall     (AR) @[ IoU=0.50:0.95 | area=   all | maxDets=  1 ] = 0.002\n",
            " Average Recall     (AR) @[ IoU=0.50:0.95 | area=   all | maxDets= 10 ] = 0.002\n",
            " Average Recall     (AR) @[ IoU=0.50:0.95 | area=   all | maxDets=100 ] = 0.005\n",
            " Average Recall     (AR) @[ IoU=0.50:0.95 | area= small | maxDets=100 ] = 0.003\n",
            " Average Recall     (AR) @[ IoU=0.50:0.95 | area=medium | maxDets=100 ] = 0.000\n",
            " Average Recall     (AR) @[ IoU=0.50:0.95 | area= large | maxDets=100 ] = 0.009\n"
          ]
        },
        {
          "output_type": "stream",
          "name": "stderr",
          "text": [
            "Stage 2 Epoch 7 [Val]:  20%|██        | 1/5 [00:05<00:21,  5.44s/it]\n",
            "Evaluating:   0%|          | 0/5 [00:00<?, ?it/s]\u001b[A\n",
            "Evaluating:  20%|██        | 1/5 [00:00<00:01,  2.24it/s]\u001b[A\n",
            "Evaluating:  40%|████      | 2/5 [00:00<00:01,  2.27it/s]\u001b[A\n",
            "Evaluating:  60%|██████    | 3/5 [00:01<00:01,  1.86it/s]\u001b[A\n",
            "Evaluating:  80%|████████  | 4/5 [00:01<00:00,  2.01it/s]\u001b[A\n",
            "Evaluating: 100%|██████████| 5/5 [00:02<00:00,  2.07it/s]\n"
          ]
        },
        {
          "output_type": "stream",
          "name": "stdout",
          "text": [
            "Total detections: 71854\n",
            "Loading and preparing results...\n",
            "DONE (t=0.66s)\n",
            "creating index...\n",
            "index created!\n",
            "Running per image evaluation...\n",
            "Evaluate annotation type *bbox*\n",
            "DONE (t=1.15s).\n",
            "Accumulating evaluation results...\n",
            "DONE (t=0.15s).\n",
            " Average Precision  (AP) @[ IoU=0.50:0.95 | area=   all | maxDets=100 ] = 0.002\n",
            " Average Precision  (AP) @[ IoU=0.50      | area=   all | maxDets=100 ] = 0.005\n",
            " Average Precision  (AP) @[ IoU=0.75      | area=   all | maxDets=100 ] = 0.000\n",
            " Average Precision  (AP) @[ IoU=0.50:0.95 | area= small | maxDets=100 ] = 0.000\n",
            " Average Precision  (AP) @[ IoU=0.50:0.95 | area=medium | maxDets=100 ] = 0.000\n",
            " Average Precision  (AP) @[ IoU=0.50:0.95 | area= large | maxDets=100 ] = 0.004\n",
            " Average Recall     (AR) @[ IoU=0.50:0.95 | area=   all | maxDets=  1 ] = 0.002\n",
            " Average Recall     (AR) @[ IoU=0.50:0.95 | area=   all | maxDets= 10 ] = 0.002\n",
            " Average Recall     (AR) @[ IoU=0.50:0.95 | area=   all | maxDets=100 ] = 0.005\n",
            " Average Recall     (AR) @[ IoU=0.50:0.95 | area= small | maxDets=100 ] = 0.003\n",
            " Average Recall     (AR) @[ IoU=0.50:0.95 | area=medium | maxDets=100 ] = 0.000\n",
            " Average Recall     (AR) @[ IoU=0.50:0.95 | area= large | maxDets=100 ] = 0.009\n"
          ]
        },
        {
          "output_type": "stream",
          "name": "stderr",
          "text": [
            "Stage 2 Epoch 7 [Val]:  40%|████      | 2/5 [00:11<00:17,  5.98s/it]\n",
            "Evaluating:   0%|          | 0/5 [00:00<?, ?it/s]\u001b[A\n",
            "Evaluating:  20%|██        | 1/5 [00:00<00:01,  3.08it/s]\u001b[A\n",
            "Evaluating:  40%|████      | 2/5 [00:00<00:01,  2.99it/s]\u001b[A\n",
            "Evaluating:  60%|██████    | 3/5 [00:01<00:00,  2.47it/s]\u001b[A\n",
            "Evaluating:  80%|████████  | 4/5 [00:01<00:00,  2.68it/s]\u001b[A\n",
            "Evaluating: 100%|██████████| 5/5 [00:01<00:00,  2.76it/s]\n"
          ]
        },
        {
          "output_type": "stream",
          "name": "stdout",
          "text": [
            "Total detections: 71854\n",
            "Loading and preparing results...\n",
            "DONE (t=0.69s)\n",
            "creating index...\n",
            "index created!\n",
            "Running per image evaluation...\n",
            "Evaluate annotation type *bbox*\n",
            "DONE (t=1.12s).\n",
            "Accumulating evaluation results...\n",
            "DONE (t=0.13s).\n",
            " Average Precision  (AP) @[ IoU=0.50:0.95 | area=   all | maxDets=100 ] = 0.002\n",
            " Average Precision  (AP) @[ IoU=0.50      | area=   all | maxDets=100 ] = 0.005\n",
            " Average Precision  (AP) @[ IoU=0.75      | area=   all | maxDets=100 ] = 0.000\n",
            " Average Precision  (AP) @[ IoU=0.50:0.95 | area= small | maxDets=100 ] = 0.000\n",
            " Average Precision  (AP) @[ IoU=0.50:0.95 | area=medium | maxDets=100 ] = 0.000\n",
            " Average Precision  (AP) @[ IoU=0.50:0.95 | area= large | maxDets=100 ] = 0.004\n",
            " Average Recall     (AR) @[ IoU=0.50:0.95 | area=   all | maxDets=  1 ] = 0.002\n",
            " Average Recall     (AR) @[ IoU=0.50:0.95 | area=   all | maxDets= 10 ] = 0.002\n",
            " Average Recall     (AR) @[ IoU=0.50:0.95 | area=   all | maxDets=100 ] = 0.005\n",
            " Average Recall     (AR) @[ IoU=0.50:0.95 | area= small | maxDets=100 ] = 0.003\n",
            " Average Recall     (AR) @[ IoU=0.50:0.95 | area=medium | maxDets=100 ] = 0.000\n",
            " Average Recall     (AR) @[ IoU=0.50:0.95 | area= large | maxDets=100 ] = 0.009\n"
          ]
        },
        {
          "output_type": "stream",
          "name": "stderr",
          "text": [
            "Stage 2 Epoch 7 [Val]:  60%|██████    | 3/5 [00:17<00:11,  5.71s/it]\n",
            "Evaluating:   0%|          | 0/5 [00:00<?, ?it/s]\u001b[A\n",
            "Evaluating:  20%|██        | 1/5 [00:00<00:01,  3.13it/s]\u001b[A\n",
            "Evaluating:  40%|████      | 2/5 [00:00<00:00,  3.05it/s]\u001b[A\n",
            "Evaluating:  60%|██████    | 3/5 [00:00<00:00,  3.11it/s]\u001b[A\n",
            "Evaluating:  80%|████████  | 4/5 [00:01<00:00,  2.44it/s]\u001b[A\n",
            "Evaluating: 100%|██████████| 5/5 [00:01<00:00,  2.56it/s]\n"
          ]
        },
        {
          "output_type": "stream",
          "name": "stdout",
          "text": [
            "Total detections: 71854\n",
            "Loading and preparing results...\n",
            "DONE (t=0.90s)\n",
            "creating index...\n",
            "index created!\n",
            "Running per image evaluation...\n",
            "Evaluate annotation type *bbox*\n",
            "DONE (t=1.14s).\n",
            "Accumulating evaluation results...\n",
            "DONE (t=0.13s).\n",
            " Average Precision  (AP) @[ IoU=0.50:0.95 | area=   all | maxDets=100 ] = 0.002\n",
            " Average Precision  (AP) @[ IoU=0.50      | area=   all | maxDets=100 ] = 0.005\n",
            " Average Precision  (AP) @[ IoU=0.75      | area=   all | maxDets=100 ] = 0.000\n",
            " Average Precision  (AP) @[ IoU=0.50:0.95 | area= small | maxDets=100 ] = 0.000\n",
            " Average Precision  (AP) @[ IoU=0.50:0.95 | area=medium | maxDets=100 ] = 0.000\n",
            " Average Precision  (AP) @[ IoU=0.50:0.95 | area= large | maxDets=100 ] = 0.004\n",
            " Average Recall     (AR) @[ IoU=0.50:0.95 | area=   all | maxDets=  1 ] = 0.002\n",
            " Average Recall     (AR) @[ IoU=0.50:0.95 | area=   all | maxDets= 10 ] = 0.002\n",
            " Average Recall     (AR) @[ IoU=0.50:0.95 | area=   all | maxDets=100 ] = 0.005\n",
            " Average Recall     (AR) @[ IoU=0.50:0.95 | area= small | maxDets=100 ] = 0.003\n",
            " Average Recall     (AR) @[ IoU=0.50:0.95 | area=medium | maxDets=100 ] = 0.000\n",
            " Average Recall     (AR) @[ IoU=0.50:0.95 | area= large | maxDets=100 ] = 0.009\n"
          ]
        },
        {
          "output_type": "stream",
          "name": "stderr",
          "text": [
            "Stage 2 Epoch 7 [Val]:  80%|████████  | 4/5 [00:23<00:06,  6.13s/it]\n",
            "Evaluating:   0%|          | 0/5 [00:00<?, ?it/s]\u001b[A\n",
            "Evaluating:  20%|██        | 1/5 [00:00<00:01,  2.95it/s]\u001b[A\n",
            "Evaluating:  40%|████      | 2/5 [00:00<00:01,  2.94it/s]\u001b[A\n",
            "Evaluating:  60%|██████    | 3/5 [00:01<00:00,  2.99it/s]\u001b[A\n",
            "Evaluating:  80%|████████  | 4/5 [00:01<00:00,  2.98it/s]\u001b[A\n",
            "Evaluating: 100%|██████████| 5/5 [00:01<00:00,  3.00it/s]\n"
          ]
        },
        {
          "output_type": "stream",
          "name": "stdout",
          "text": [
            "Total detections: 71854\n",
            "Loading and preparing results...\n",
            "DONE (t=0.68s)\n",
            "creating index...\n",
            "index created!\n",
            "Running per image evaluation...\n",
            "Evaluate annotation type *bbox*\n",
            "DONE (t=1.12s).\n",
            "Accumulating evaluation results...\n",
            "DONE (t=0.13s).\n",
            " Average Precision  (AP) @[ IoU=0.50:0.95 | area=   all | maxDets=100 ] = 0.002\n",
            " Average Precision  (AP) @[ IoU=0.50      | area=   all | maxDets=100 ] = 0.005\n",
            " Average Precision  (AP) @[ IoU=0.75      | area=   all | maxDets=100 ] = 0.000\n",
            " Average Precision  (AP) @[ IoU=0.50:0.95 | area= small | maxDets=100 ] = 0.000\n",
            " Average Precision  (AP) @[ IoU=0.50:0.95 | area=medium | maxDets=100 ] = 0.000\n",
            " Average Precision  (AP) @[ IoU=0.50:0.95 | area= large | maxDets=100 ] = 0.004\n",
            " Average Recall     (AR) @[ IoU=0.50:0.95 | area=   all | maxDets=  1 ] = 0.002\n",
            " Average Recall     (AR) @[ IoU=0.50:0.95 | area=   all | maxDets= 10 ] = 0.002\n",
            " Average Recall     (AR) @[ IoU=0.50:0.95 | area=   all | maxDets=100 ] = 0.005\n",
            " Average Recall     (AR) @[ IoU=0.50:0.95 | area= small | maxDets=100 ] = 0.003\n",
            " Average Recall     (AR) @[ IoU=0.50:0.95 | area=medium | maxDets=100 ] = 0.000\n",
            " Average Recall     (AR) @[ IoU=0.50:0.95 | area= large | maxDets=100 ] = 0.009\n"
          ]
        },
        {
          "output_type": "stream",
          "name": "stderr",
          "text": [
            "Stage 2 Epoch 7 [Val]: 100%|██████████| 5/5 [00:29<00:00,  5.85s/it]\n"
          ]
        },
        {
          "output_type": "stream",
          "name": "stdout",
          "text": [
            "[Stage 2 Epoch 7] Train Loss: 0.7523, Val Loss: 0.5533, mAP: 0.001546, Train Time: 00:00:10, Val Time: 00:00:29\n"
          ]
        },
        {
          "output_type": "stream",
          "name": "stderr",
          "text": [
            "Stage 2 Epoch 8 [Train]: 100%|██████████| 20/20 [00:10<00:00,  1.95it/s]\n",
            "Stage 2 Epoch 8 [Val]:   0%|          | 0/5 [00:00<?, ?it/s]\n",
            "Evaluating:   0%|          | 0/5 [00:00<?, ?it/s]\u001b[A\n",
            "Evaluating:  20%|██        | 1/5 [00:00<00:01,  3.31it/s]\u001b[A\n",
            "Evaluating:  40%|████      | 2/5 [00:00<00:01,  2.50it/s]\u001b[A\n",
            "Evaluating:  60%|██████    | 3/5 [00:01<00:00,  2.78it/s]\u001b[A\n",
            "Evaluating:  80%|████████  | 4/5 [00:01<00:00,  2.94it/s]\u001b[A\n",
            "Evaluating: 100%|██████████| 5/5 [00:01<00:00,  2.89it/s]\n"
          ]
        },
        {
          "output_type": "stream",
          "name": "stdout",
          "text": [
            "Total detections: 55006\n",
            "Loading and preparing results...\n",
            "DONE (t=0.60s)\n",
            "creating index...\n",
            "index created!\n",
            "Running per image evaluation...\n",
            "Evaluate annotation type *bbox*\n",
            "DONE (t=1.08s).\n",
            "Accumulating evaluation results...\n",
            "DONE (t=0.13s).\n",
            " Average Precision  (AP) @[ IoU=0.50:0.95 | area=   all | maxDets=100 ] = 0.000\n",
            " Average Precision  (AP) @[ IoU=0.50      | area=   all | maxDets=100 ] = 0.000\n",
            " Average Precision  (AP) @[ IoU=0.75      | area=   all | maxDets=100 ] = 0.000\n",
            " Average Precision  (AP) @[ IoU=0.50:0.95 | area= small | maxDets=100 ] = 0.000\n",
            " Average Precision  (AP) @[ IoU=0.50:0.95 | area=medium | maxDets=100 ] = 0.000\n",
            " Average Precision  (AP) @[ IoU=0.50:0.95 | area= large | maxDets=100 ] = 0.000\n",
            " Average Recall     (AR) @[ IoU=0.50:0.95 | area=   all | maxDets=  1 ] = 0.000\n",
            " Average Recall     (AR) @[ IoU=0.50:0.95 | area=   all | maxDets= 10 ] = 0.000\n",
            " Average Recall     (AR) @[ IoU=0.50:0.95 | area=   all | maxDets=100 ] = 0.001\n",
            " Average Recall     (AR) @[ IoU=0.50:0.95 | area= small | maxDets=100 ] = 0.000\n",
            " Average Recall     (AR) @[ IoU=0.50:0.95 | area=medium | maxDets=100 ] = 0.002\n",
            " Average Recall     (AR) @[ IoU=0.50:0.95 | area= large | maxDets=100 ] = 0.001\n"
          ]
        },
        {
          "output_type": "stream",
          "name": "stderr",
          "text": [
            "Stage 2 Epoch 8 [Val]:  20%|██        | 1/5 [00:04<00:19,  4.92s/it]\n",
            "Evaluating:   0%|          | 0/5 [00:00<?, ?it/s]\u001b[A\n",
            "Evaluating:  20%|██        | 1/5 [00:00<00:01,  3.00it/s]\u001b[A\n",
            "Evaluating:  40%|████      | 2/5 [00:00<00:00,  3.00it/s]\u001b[A\n",
            "Evaluating:  60%|██████    | 3/5 [00:01<00:00,  2.73it/s]\u001b[A\n",
            "Evaluating:  80%|████████  | 4/5 [00:01<00:00,  2.55it/s]\u001b[A\n",
            "Evaluating: 100%|██████████| 5/5 [00:01<00:00,  2.56it/s]\n"
          ]
        },
        {
          "output_type": "stream",
          "name": "stdout",
          "text": [
            "Total detections: 55006\n",
            "Loading and preparing results...\n",
            "DONE (t=0.67s)\n",
            "creating index...\n",
            "index created!\n",
            "Running per image evaluation...\n",
            "Evaluate annotation type *bbox*\n",
            "DONE (t=1.09s).\n",
            "Accumulating evaluation results...\n",
            "DONE (t=0.14s).\n",
            " Average Precision  (AP) @[ IoU=0.50:0.95 | area=   all | maxDets=100 ] = 0.000\n",
            " Average Precision  (AP) @[ IoU=0.50      | area=   all | maxDets=100 ] = 0.000\n",
            " Average Precision  (AP) @[ IoU=0.75      | area=   all | maxDets=100 ] = 0.000\n",
            " Average Precision  (AP) @[ IoU=0.50:0.95 | area= small | maxDets=100 ] = 0.000\n",
            " Average Precision  (AP) @[ IoU=0.50:0.95 | area=medium | maxDets=100 ] = 0.000\n",
            " Average Precision  (AP) @[ IoU=0.50:0.95 | area= large | maxDets=100 ] = 0.000\n",
            " Average Recall     (AR) @[ IoU=0.50:0.95 | area=   all | maxDets=  1 ] = 0.000\n",
            " Average Recall     (AR) @[ IoU=0.50:0.95 | area=   all | maxDets= 10 ] = 0.000\n",
            " Average Recall     (AR) @[ IoU=0.50:0.95 | area=   all | maxDets=100 ] = 0.001\n",
            " Average Recall     (AR) @[ IoU=0.50:0.95 | area= small | maxDets=100 ] = 0.000\n",
            " Average Recall     (AR) @[ IoU=0.50:0.95 | area=medium | maxDets=100 ] = 0.002\n",
            " Average Recall     (AR) @[ IoU=0.50:0.95 | area= large | maxDets=100 ] = 0.001\n"
          ]
        },
        {
          "output_type": "stream",
          "name": "stderr",
          "text": [
            "Stage 2 Epoch 8 [Val]:  40%|████      | 2/5 [00:10<00:16,  5.55s/it]\n",
            "Evaluating:   0%|          | 0/5 [00:00<?, ?it/s]\u001b[A\n",
            "Evaluating:  20%|██        | 1/5 [00:00<00:01,  2.97it/s]\u001b[A\n",
            "Evaluating:  40%|████      | 2/5 [00:00<00:00,  3.01it/s]\u001b[A\n",
            "Evaluating:  60%|██████    | 3/5 [00:00<00:00,  3.09it/s]\u001b[A\n",
            "Evaluating:  80%|████████  | 4/5 [00:01<00:00,  2.56it/s]\u001b[A\n",
            "Evaluating: 100%|██████████| 5/5 [00:01<00:00,  2.76it/s]\n"
          ]
        },
        {
          "output_type": "stream",
          "name": "stdout",
          "text": [
            "Total detections: 55006\n",
            "Loading and preparing results...\n",
            "DONE (t=0.41s)\n",
            "creating index...\n",
            "index created!\n",
            "Running per image evaluation...\n",
            "Evaluate annotation type *bbox*\n",
            "DONE (t=1.09s).\n",
            "Accumulating evaluation results...\n",
            "DONE (t=0.13s).\n",
            " Average Precision  (AP) @[ IoU=0.50:0.95 | area=   all | maxDets=100 ] = 0.000\n",
            " Average Precision  (AP) @[ IoU=0.50      | area=   all | maxDets=100 ] = 0.000\n",
            " Average Precision  (AP) @[ IoU=0.75      | area=   all | maxDets=100 ] = 0.000\n",
            " Average Precision  (AP) @[ IoU=0.50:0.95 | area= small | maxDets=100 ] = 0.000\n",
            " Average Precision  (AP) @[ IoU=0.50:0.95 | area=medium | maxDets=100 ] = 0.000\n",
            " Average Precision  (AP) @[ IoU=0.50:0.95 | area= large | maxDets=100 ] = 0.000\n",
            " Average Recall     (AR) @[ IoU=0.50:0.95 | area=   all | maxDets=  1 ] = 0.000\n",
            " Average Recall     (AR) @[ IoU=0.50:0.95 | area=   all | maxDets= 10 ] = 0.000\n",
            " Average Recall     (AR) @[ IoU=0.50:0.95 | area=   all | maxDets=100 ] = 0.001\n",
            " Average Recall     (AR) @[ IoU=0.50:0.95 | area= small | maxDets=100 ] = 0.000\n",
            " Average Recall     (AR) @[ IoU=0.50:0.95 | area=medium | maxDets=100 ] = 0.002\n",
            " Average Recall     (AR) @[ IoU=0.50:0.95 | area= large | maxDets=100 ] = 0.001\n"
          ]
        },
        {
          "output_type": "stream",
          "name": "stderr",
          "text": [
            "Stage 2 Epoch 8 [Val]:  60%|██████    | 3/5 [00:15<00:10,  5.19s/it]\n",
            "Evaluating:   0%|          | 0/5 [00:00<?, ?it/s]\u001b[A\n",
            "Evaluating:  20%|██        | 1/5 [00:00<00:01,  2.13it/s]\u001b[A\n",
            "Evaluating:  40%|████      | 2/5 [00:00<00:01,  2.62it/s]\u001b[A\n",
            "Evaluating:  60%|██████    | 3/5 [00:01<00:00,  2.87it/s]\u001b[A\n",
            "Evaluating:  80%|████████  | 4/5 [00:01<00:00,  2.83it/s]\u001b[A\n",
            "Evaluating: 100%|██████████| 5/5 [00:01<00:00,  2.83it/s]\n"
          ]
        },
        {
          "output_type": "stream",
          "name": "stdout",
          "text": [
            "Total detections: 55006\n",
            "Loading and preparing results...\n",
            "DONE (t=0.65s)\n",
            "creating index...\n",
            "index created!\n",
            "Running per image evaluation...\n",
            "Evaluate annotation type *bbox*\n",
            "DONE (t=1.96s).\n",
            "Accumulating evaluation results...\n"
          ]
        },
        {
          "output_type": "stream",
          "name": "stderr",
          "text": [
            "\rStage 2 Epoch 8 [Val]:  80%|████████  | 4/5 [00:21<00:05,  5.53s/it]"
          ]
        },
        {
          "output_type": "stream",
          "name": "stdout",
          "text": [
            "DONE (t=0.23s).\n",
            " Average Precision  (AP) @[ IoU=0.50:0.95 | area=   all | maxDets=100 ] = 0.000\n",
            " Average Precision  (AP) @[ IoU=0.50      | area=   all | maxDets=100 ] = 0.000\n",
            " Average Precision  (AP) @[ IoU=0.75      | area=   all | maxDets=100 ] = 0.000\n",
            " Average Precision  (AP) @[ IoU=0.50:0.95 | area= small | maxDets=100 ] = 0.000\n",
            " Average Precision  (AP) @[ IoU=0.50:0.95 | area=medium | maxDets=100 ] = 0.000\n",
            " Average Precision  (AP) @[ IoU=0.50:0.95 | area= large | maxDets=100 ] = 0.000\n",
            " Average Recall     (AR) @[ IoU=0.50:0.95 | area=   all | maxDets=  1 ] = 0.000\n",
            " Average Recall     (AR) @[ IoU=0.50:0.95 | area=   all | maxDets= 10 ] = 0.000\n",
            " Average Recall     (AR) @[ IoU=0.50:0.95 | area=   all | maxDets=100 ] = 0.001\n",
            " Average Recall     (AR) @[ IoU=0.50:0.95 | area= small | maxDets=100 ] = 0.000\n",
            " Average Recall     (AR) @[ IoU=0.50:0.95 | area=medium | maxDets=100 ] = 0.002\n",
            " Average Recall     (AR) @[ IoU=0.50:0.95 | area= large | maxDets=100 ] = 0.001\n"
          ]
        },
        {
          "output_type": "stream",
          "name": "stderr",
          "text": [
            "\n",
            "Evaluating:   0%|          | 0/5 [00:00<?, ?it/s]\u001b[A\n",
            "Evaluating:  20%|██        | 1/5 [00:00<00:01,  2.23it/s]\u001b[A\n",
            "Evaluating:  40%|████      | 2/5 [00:00<00:01,  2.66it/s]\u001b[A\n",
            "Evaluating:  60%|██████    | 3/5 [00:01<00:00,  2.96it/s]\u001b[A\n",
            "Evaluating:  80%|████████  | 4/5 [00:01<00:00,  2.50it/s]\u001b[A\n",
            "Evaluating: 100%|██████████| 5/5 [00:01<00:00,  2.67it/s]\n"
          ]
        },
        {
          "output_type": "stream",
          "name": "stdout",
          "text": [
            "Total detections: 55006\n",
            "Loading and preparing results...\n",
            "DONE (t=0.41s)\n",
            "creating index...\n",
            "index created!\n",
            "Running per image evaluation...\n",
            "Evaluate annotation type *bbox*\n",
            "DONE (t=1.36s).\n",
            "Accumulating evaluation results...\n",
            "DONE (t=0.15s).\n",
            " Average Precision  (AP) @[ IoU=0.50:0.95 | area=   all | maxDets=100 ] = 0.000\n",
            " Average Precision  (AP) @[ IoU=0.50      | area=   all | maxDets=100 ] = 0.000\n",
            " Average Precision  (AP) @[ IoU=0.75      | area=   all | maxDets=100 ] = 0.000\n",
            " Average Precision  (AP) @[ IoU=0.50:0.95 | area= small | maxDets=100 ] = 0.000\n",
            " Average Precision  (AP) @[ IoU=0.50:0.95 | area=medium | maxDets=100 ] = 0.000\n",
            " Average Precision  (AP) @[ IoU=0.50:0.95 | area= large | maxDets=100 ] = 0.000\n",
            " Average Recall     (AR) @[ IoU=0.50:0.95 | area=   all | maxDets=  1 ] = 0.000\n",
            " Average Recall     (AR) @[ IoU=0.50:0.95 | area=   all | maxDets= 10 ] = 0.000\n",
            " Average Recall     (AR) @[ IoU=0.50:0.95 | area=   all | maxDets=100 ] = 0.001\n",
            " Average Recall     (AR) @[ IoU=0.50:0.95 | area= small | maxDets=100 ] = 0.000\n",
            " Average Recall     (AR) @[ IoU=0.50:0.95 | area=medium | maxDets=100 ] = 0.002\n",
            " Average Recall     (AR) @[ IoU=0.50:0.95 | area= large | maxDets=100 ] = 0.001\n"
          ]
        },
        {
          "output_type": "stream",
          "name": "stderr",
          "text": [
            "Stage 2 Epoch 8 [Val]: 100%|██████████| 5/5 [00:26<00:00,  5.39s/it]\n"
          ]
        },
        {
          "output_type": "stream",
          "name": "stdout",
          "text": [
            "[Stage 2 Epoch 8] Train Loss: 0.7007, Val Loss: 0.5582, mAP: 0.000006, Train Time: 00:00:10, Val Time: 00:00:26\n"
          ]
        },
        {
          "output_type": "stream",
          "name": "stderr",
          "text": [
            "Stage 2 Epoch 9 [Train]: 100%|██████████| 20/20 [00:10<00:00,  1.94it/s]\n",
            "Stage 2 Epoch 9 [Val]:   0%|          | 0/5 [00:00<?, ?it/s]\n",
            "Evaluating:   0%|          | 0/5 [00:00<?, ?it/s]\u001b[A\n",
            "Evaluating:  20%|██        | 1/5 [00:00<00:01,  3.03it/s]\u001b[A\n",
            "Evaluating:  40%|████      | 2/5 [00:00<00:00,  3.13it/s]\u001b[A\n",
            "Evaluating:  60%|██████    | 3/5 [00:00<00:00,  3.24it/s]\u001b[A\n",
            "Evaluating:  80%|████████  | 4/5 [00:01<00:00,  3.28it/s]\u001b[A\n",
            "Evaluating: 100%|██████████| 5/5 [00:01<00:00,  3.21it/s]\n"
          ]
        },
        {
          "output_type": "stream",
          "name": "stdout",
          "text": [
            "Total detections: 55306\n",
            "Loading and preparing results...\n",
            "DONE (t=0.40s)\n",
            "creating index...\n",
            "index created!\n",
            "Running per image evaluation...\n",
            "Evaluate annotation type *bbox*\n",
            "DONE (t=1.35s).\n",
            "Accumulating evaluation results...\n",
            "DONE (t=0.15s).\n",
            " Average Precision  (AP) @[ IoU=0.50:0.95 | area=   all | maxDets=100 ] = 0.000\n",
            " Average Precision  (AP) @[ IoU=0.50      | area=   all | maxDets=100 ] = 0.000\n",
            " Average Precision  (AP) @[ IoU=0.75      | area=   all | maxDets=100 ] = 0.000\n",
            " Average Precision  (AP) @[ IoU=0.50:0.95 | area= small | maxDets=100 ] = 0.000\n",
            " Average Precision  (AP) @[ IoU=0.50:0.95 | area=medium | maxDets=100 ] = 0.000\n",
            " Average Precision  (AP) @[ IoU=0.50:0.95 | area= large | maxDets=100 ] = 0.000\n",
            " Average Recall     (AR) @[ IoU=0.50:0.95 | area=   all | maxDets=  1 ] = 0.000\n",
            " Average Recall     (AR) @[ IoU=0.50:0.95 | area=   all | maxDets= 10 ] = 0.002\n",
            " Average Recall     (AR) @[ IoU=0.50:0.95 | area=   all | maxDets=100 ] = 0.002\n",
            " Average Recall     (AR) @[ IoU=0.50:0.95 | area= small | maxDets=100 ] = 0.000\n",
            " Average Recall     (AR) @[ IoU=0.50:0.95 | area=medium | maxDets=100 ] = 0.000\n",
            " Average Recall     (AR) @[ IoU=0.50:0.95 | area= large | maxDets=100 ] = 0.005\n"
          ]
        },
        {
          "output_type": "stream",
          "name": "stderr",
          "text": [
            "Stage 2 Epoch 9 [Val]:  20%|██        | 1/5 [00:04<00:19,  4.81s/it]\n",
            "Evaluating:   0%|          | 0/5 [00:00<?, ?it/s]\u001b[A\n",
            "Evaluating:  20%|██        | 1/5 [00:00<00:01,  3.06it/s]\u001b[A\n",
            "Evaluating:  40%|████      | 2/5 [00:00<00:01,  2.98it/s]\u001b[A\n",
            "Evaluating:  60%|██████    | 3/5 [00:00<00:00,  3.09it/s]\u001b[A\n",
            "Evaluating:  80%|████████  | 4/5 [00:01<00:00,  3.14it/s]\u001b[A\n",
            "Evaluating: 100%|██████████| 5/5 [00:01<00:00,  3.12it/s]\n"
          ]
        },
        {
          "output_type": "stream",
          "name": "stdout",
          "text": [
            "Total detections: 55306\n",
            "Loading and preparing results...\n",
            "DONE (t=0.64s)\n",
            "creating index...\n",
            "index created!\n",
            "Running per image evaluation...\n",
            "Evaluate annotation type *bbox*\n",
            "DONE (t=1.97s).\n",
            "Accumulating evaluation results...\n"
          ]
        },
        {
          "output_type": "stream",
          "name": "stderr",
          "text": [
            "\rStage 2 Epoch 9 [Val]:  40%|████      | 2/5 [00:10<00:16,  5.39s/it]"
          ]
        },
        {
          "output_type": "stream",
          "name": "stdout",
          "text": [
            "DONE (t=0.22s).\n",
            " Average Precision  (AP) @[ IoU=0.50:0.95 | area=   all | maxDets=100 ] = 0.000\n",
            " Average Precision  (AP) @[ IoU=0.50      | area=   all | maxDets=100 ] = 0.000\n",
            " Average Precision  (AP) @[ IoU=0.75      | area=   all | maxDets=100 ] = 0.000\n",
            " Average Precision  (AP) @[ IoU=0.50:0.95 | area= small | maxDets=100 ] = 0.000\n",
            " Average Precision  (AP) @[ IoU=0.50:0.95 | area=medium | maxDets=100 ] = 0.000\n",
            " Average Precision  (AP) @[ IoU=0.50:0.95 | area= large | maxDets=100 ] = 0.000\n",
            " Average Recall     (AR) @[ IoU=0.50:0.95 | area=   all | maxDets=  1 ] = 0.000\n",
            " Average Recall     (AR) @[ IoU=0.50:0.95 | area=   all | maxDets= 10 ] = 0.002\n",
            " Average Recall     (AR) @[ IoU=0.50:0.95 | area=   all | maxDets=100 ] = 0.002\n",
            " Average Recall     (AR) @[ IoU=0.50:0.95 | area= small | maxDets=100 ] = 0.000\n",
            " Average Recall     (AR) @[ IoU=0.50:0.95 | area=medium | maxDets=100 ] = 0.000\n",
            " Average Recall     (AR) @[ IoU=0.50:0.95 | area= large | maxDets=100 ] = 0.005\n"
          ]
        },
        {
          "output_type": "stream",
          "name": "stderr",
          "text": [
            "\n",
            "Evaluating:   0%|          | 0/5 [00:00<?, ?it/s]\u001b[A\n",
            "Evaluating:  20%|██        | 1/5 [00:00<00:01,  2.21it/s]\u001b[A\n",
            "Evaluating:  40%|████      | 2/5 [00:00<00:01,  2.34it/s]\u001b[A\n",
            "Evaluating:  60%|██████    | 3/5 [00:01<00:00,  2.70it/s]\u001b[A\n",
            "Evaluating:  80%|████████  | 4/5 [00:01<00:00,  2.90it/s]\u001b[A\n",
            "Evaluating: 100%|██████████| 5/5 [00:01<00:00,  2.80it/s]\n"
          ]
        },
        {
          "output_type": "stream",
          "name": "stdout",
          "text": [
            "Total detections: 55306\n",
            "Loading and preparing results...\n",
            "DONE (t=0.62s)\n",
            "creating index...\n",
            "index created!\n",
            "Running per image evaluation...\n",
            "Evaluate annotation type *bbox*\n",
            "DONE (t=1.12s).\n",
            "Accumulating evaluation results...\n",
            "DONE (t=0.14s).\n",
            " Average Precision  (AP) @[ IoU=0.50:0.95 | area=   all | maxDets=100 ] = 0.000\n",
            " Average Precision  (AP) @[ IoU=0.50      | area=   all | maxDets=100 ] = 0.000\n",
            " Average Precision  (AP) @[ IoU=0.75      | area=   all | maxDets=100 ] = 0.000\n",
            " Average Precision  (AP) @[ IoU=0.50:0.95 | area= small | maxDets=100 ] = 0.000\n",
            " Average Precision  (AP) @[ IoU=0.50:0.95 | area=medium | maxDets=100 ] = 0.000\n",
            " Average Precision  (AP) @[ IoU=0.50:0.95 | area= large | maxDets=100 ] = 0.000\n",
            " Average Recall     (AR) @[ IoU=0.50:0.95 | area=   all | maxDets=  1 ] = 0.000\n",
            " Average Recall     (AR) @[ IoU=0.50:0.95 | area=   all | maxDets= 10 ] = 0.002\n",
            " Average Recall     (AR) @[ IoU=0.50:0.95 | area=   all | maxDets=100 ] = 0.002\n",
            " Average Recall     (AR) @[ IoU=0.50:0.95 | area= small | maxDets=100 ] = 0.000\n",
            " Average Recall     (AR) @[ IoU=0.50:0.95 | area=medium | maxDets=100 ] = 0.000\n",
            " Average Recall     (AR) @[ IoU=0.50:0.95 | area= large | maxDets=100 ] = 0.005\n"
          ]
        },
        {
          "output_type": "stream",
          "name": "stderr",
          "text": [
            "Stage 2 Epoch 9 [Val]:  60%|██████    | 3/5 [00:15<00:10,  5.24s/it]\n",
            "Evaluating:   0%|          | 0/5 [00:00<?, ?it/s]\u001b[A\n",
            "Evaluating:  20%|██        | 1/5 [00:00<00:01,  2.91it/s]\u001b[A\n",
            "Evaluating:  40%|████      | 2/5 [00:00<00:00,  3.12it/s]\u001b[A\n",
            "Evaluating:  60%|██████    | 3/5 [00:00<00:00,  3.19it/s]\u001b[A\n",
            "Evaluating:  80%|████████  | 4/5 [00:01<00:00,  3.14it/s]\u001b[A\n",
            "Evaluating: 100%|██████████| 5/5 [00:01<00:00,  3.14it/s]\n"
          ]
        },
        {
          "output_type": "stream",
          "name": "stdout",
          "text": [
            "Total detections: 55306\n",
            "Loading and preparing results...\n",
            "DONE (t=0.62s)\n",
            "creating index...\n",
            "index created!\n",
            "Running per image evaluation...\n",
            "Evaluate annotation type *bbox*\n",
            "DONE (t=1.17s).\n",
            "Accumulating evaluation results...\n",
            "DONE (t=0.13s).\n",
            " Average Precision  (AP) @[ IoU=0.50:0.95 | area=   all | maxDets=100 ] = 0.000\n",
            " Average Precision  (AP) @[ IoU=0.50      | area=   all | maxDets=100 ] = 0.000\n",
            " Average Precision  (AP) @[ IoU=0.75      | area=   all | maxDets=100 ] = 0.000\n",
            " Average Precision  (AP) @[ IoU=0.50:0.95 | area= small | maxDets=100 ] = 0.000\n",
            " Average Precision  (AP) @[ IoU=0.50:0.95 | area=medium | maxDets=100 ] = 0.000\n",
            " Average Precision  (AP) @[ IoU=0.50:0.95 | area= large | maxDets=100 ] = 0.000\n",
            " Average Recall     (AR) @[ IoU=0.50:0.95 | area=   all | maxDets=  1 ] = 0.000\n",
            " Average Recall     (AR) @[ IoU=0.50:0.95 | area=   all | maxDets= 10 ] = 0.002\n",
            " Average Recall     (AR) @[ IoU=0.50:0.95 | area=   all | maxDets=100 ] = 0.002\n",
            " Average Recall     (AR) @[ IoU=0.50:0.95 | area= small | maxDets=100 ] = 0.000\n",
            " Average Recall     (AR) @[ IoU=0.50:0.95 | area=medium | maxDets=100 ] = 0.000\n",
            " Average Recall     (AR) @[ IoU=0.50:0.95 | area= large | maxDets=100 ] = 0.005\n"
          ]
        },
        {
          "output_type": "stream",
          "name": "stderr",
          "text": [
            "Stage 2 Epoch 9 [Val]:  80%|████████  | 4/5 [00:20<00:05,  5.09s/it]\n",
            "Evaluating:   0%|          | 0/5 [00:00<?, ?it/s]\u001b[A\n",
            "Evaluating:  20%|██        | 1/5 [00:00<00:01,  2.99it/s]\u001b[A\n",
            "Evaluating:  40%|████      | 2/5 [00:00<00:00,  3.08it/s]\u001b[A\n",
            "Evaluating:  60%|██████    | 3/5 [00:00<00:00,  3.03it/s]\u001b[A\n",
            "Evaluating:  80%|████████  | 4/5 [00:01<00:00,  2.80it/s]\u001b[A\n",
            "Evaluating: 100%|██████████| 5/5 [00:01<00:00,  2.76it/s]\n"
          ]
        },
        {
          "output_type": "stream",
          "name": "stdout",
          "text": [
            "Total detections: 55306\n",
            "Loading and preparing results...\n",
            "DONE (t=0.85s)\n",
            "creating index...\n",
            "index created!\n",
            "Running per image evaluation...\n",
            "Evaluate annotation type *bbox*\n",
            "DONE (t=1.11s).\n",
            "Accumulating evaluation results...\n",
            "DONE (t=0.15s).\n",
            " Average Precision  (AP) @[ IoU=0.50:0.95 | area=   all | maxDets=100 ] = 0.000\n",
            " Average Precision  (AP) @[ IoU=0.50      | area=   all | maxDets=100 ] = 0.000\n",
            " Average Precision  (AP) @[ IoU=0.75      | area=   all | maxDets=100 ] = 0.000\n",
            " Average Precision  (AP) @[ IoU=0.50:0.95 | area= small | maxDets=100 ] = 0.000\n",
            " Average Precision  (AP) @[ IoU=0.50:0.95 | area=medium | maxDets=100 ] = 0.000\n",
            " Average Precision  (AP) @[ IoU=0.50:0.95 | area= large | maxDets=100 ] = 0.000\n",
            " Average Recall     (AR) @[ IoU=0.50:0.95 | area=   all | maxDets=  1 ] = 0.000\n",
            " Average Recall     (AR) @[ IoU=0.50:0.95 | area=   all | maxDets= 10 ] = 0.002\n",
            " Average Recall     (AR) @[ IoU=0.50:0.95 | area=   all | maxDets=100 ] = 0.002\n",
            " Average Recall     (AR) @[ IoU=0.50:0.95 | area= small | maxDets=100 ] = 0.000\n",
            " Average Recall     (AR) @[ IoU=0.50:0.95 | area=medium | maxDets=100 ] = 0.000\n",
            " Average Recall     (AR) @[ IoU=0.50:0.95 | area= large | maxDets=100 ] = 0.005\n"
          ]
        },
        {
          "output_type": "stream",
          "name": "stderr",
          "text": [
            "Stage 2 Epoch 9 [Val]: 100%|██████████| 5/5 [00:26<00:00,  5.31s/it]\n"
          ]
        },
        {
          "output_type": "stream",
          "name": "stdout",
          "text": [
            "[Stage 2 Epoch 9] Train Loss: 0.6964, Val Loss: 0.5732, mAP: 0.000011, Train Time: 00:00:10, Val Time: 00:00:26\n"
          ]
        },
        {
          "output_type": "stream",
          "name": "stderr",
          "text": [
            "Stage 2 Epoch 10 [Train]: 100%|██████████| 20/20 [00:09<00:00,  2.04it/s]\n",
            "Stage 2 Epoch 10 [Val]:   0%|          | 0/5 [00:00<?, ?it/s]\n",
            "Evaluating:   0%|          | 0/5 [00:00<?, ?it/s]\u001b[A\n",
            "Evaluating:  20%|██        | 1/5 [00:00<00:01,  2.15it/s]\u001b[A\n",
            "Evaluating:  40%|████      | 2/5 [00:00<00:01,  2.24it/s]\u001b[A\n",
            "Evaluating:  60%|██████    | 3/5 [00:01<00:00,  2.26it/s]\u001b[A\n",
            "Evaluating:  80%|████████  | 4/5 [00:01<00:00,  2.36it/s]\u001b[A\n",
            "Evaluating: 100%|██████████| 5/5 [00:02<00:00,  2.21it/s]\n"
          ]
        },
        {
          "output_type": "stream",
          "name": "stdout",
          "text": [
            "Total detections: 84239\n",
            "Loading and preparing results...\n",
            "DONE (t=0.76s)\n",
            "creating index...\n",
            "index created!\n",
            "Running per image evaluation...\n",
            "Evaluate annotation type *bbox*\n",
            "DONE (t=1.19s).\n",
            "Accumulating evaluation results...\n",
            "DONE (t=0.15s).\n",
            " Average Precision  (AP) @[ IoU=0.50:0.95 | area=   all | maxDets=100 ] = 0.000\n",
            " Average Precision  (AP) @[ IoU=0.50      | area=   all | maxDets=100 ] = 0.000\n",
            " Average Precision  (AP) @[ IoU=0.75      | area=   all | maxDets=100 ] = 0.000\n",
            " Average Precision  (AP) @[ IoU=0.50:0.95 | area= small | maxDets=100 ] = 0.005\n",
            " Average Precision  (AP) @[ IoU=0.50:0.95 | area=medium | maxDets=100 ] = 0.000\n",
            " Average Precision  (AP) @[ IoU=0.50:0.95 | area= large | maxDets=100 ] = 0.000\n",
            " Average Recall     (AR) @[ IoU=0.50:0.95 | area=   all | maxDets=  1 ] = 0.000\n",
            " Average Recall     (AR) @[ IoU=0.50:0.95 | area=   all | maxDets= 10 ] = 0.000\n",
            " Average Recall     (AR) @[ IoU=0.50:0.95 | area=   all | maxDets=100 ] = 0.009\n",
            " Average Recall     (AR) @[ IoU=0.50:0.95 | area= small | maxDets=100 ] = 0.007\n",
            " Average Recall     (AR) @[ IoU=0.50:0.95 | area=medium | maxDets=100 ] = 0.016\n",
            " Average Recall     (AR) @[ IoU=0.50:0.95 | area= large | maxDets=100 ] = 0.000\n"
          ]
        },
        {
          "output_type": "stream",
          "name": "stderr",
          "text": [
            "Stage 2 Epoch 10 [Val]:  20%|██        | 1/5 [00:06<00:25,  6.34s/it]\n",
            "Evaluating:   0%|          | 0/5 [00:00<?, ?it/s]\u001b[A\n",
            "Evaluating:  20%|██        | 1/5 [00:00<00:01,  2.80it/s]\u001b[A\n",
            "Evaluating:  40%|████      | 2/5 [00:00<00:01,  2.96it/s]\u001b[A\n",
            "Evaluating:  60%|██████    | 3/5 [00:01<00:00,  2.97it/s]\u001b[A\n",
            "Evaluating:  80%|████████  | 4/5 [00:01<00:00,  2.92it/s]\u001b[A\n",
            "Evaluating: 100%|██████████| 5/5 [00:01<00:00,  2.66it/s]\n"
          ]
        },
        {
          "output_type": "stream",
          "name": "stdout",
          "text": [
            "Total detections: 84239\n",
            "Loading and preparing results...\n",
            "DONE (t=0.90s)\n",
            "creating index...\n",
            "index created!\n",
            "Running per image evaluation...\n",
            "Evaluate annotation type *bbox*\n",
            "DONE (t=2.27s).\n",
            "Accumulating evaluation results...\n",
            "DONE (t=0.31s).\n",
            " Average Precision  (AP) @[ IoU=0.50:0.95 | area=   all | maxDets=100 ] = 0.000\n",
            " Average Precision  (AP) @[ IoU=0.50      | area=   all | maxDets=100 ] = 0.000\n",
            " Average Precision  (AP) @[ IoU=0.75      | area=   all | maxDets=100 ] = 0.000\n",
            " Average Precision  (AP) @[ IoU=0.50:0.95 | area= small | maxDets=100 ] = 0.005\n",
            " Average Precision  (AP) @[ IoU=0.50:0.95 | area=medium | maxDets=100 ] = 0.000\n",
            " Average Precision  (AP) @[ IoU=0.50:0.95 | area= large | maxDets=100 ] = 0.000\n",
            " Average Recall     (AR) @[ IoU=0.50:0.95 | area=   all | maxDets=  1 ] = 0.000\n",
            " Average Recall     (AR) @[ IoU=0.50:0.95 | area=   all | maxDets= 10 ] = 0.000\n",
            " Average Recall     (AR) @[ IoU=0.50:0.95 | area=   all | maxDets=100 ] = 0.009\n",
            " Average Recall     (AR) @[ IoU=0.50:0.95 | area= small | maxDets=100 ] = 0.007\n",
            " Average Recall     (AR) @[ IoU=0.50:0.95 | area=medium | maxDets=100 ] = 0.016\n",
            " Average Recall     (AR) @[ IoU=0.50:0.95 | area= large | maxDets=100 ] = 0.000\n"
          ]
        },
        {
          "output_type": "stream",
          "name": "stderr",
          "text": [
            "Stage 2 Epoch 10 [Val]:  40%|████      | 2/5 [00:13<00:20,  6.93s/it]\n",
            "Evaluating:   0%|          | 0/5 [00:00<?, ?it/s]\u001b[A\n",
            "Evaluating:  20%|██        | 1/5 [00:00<00:02,  1.78it/s]\u001b[A\n",
            "Evaluating:  40%|████      | 2/5 [00:01<00:01,  1.98it/s]\u001b[A\n",
            "Evaluating:  60%|██████    | 3/5 [00:01<00:00,  2.11it/s]\u001b[A\n",
            "Evaluating:  80%|████████  | 4/5 [00:01<00:00,  2.15it/s]\u001b[A\n",
            "Evaluating: 100%|██████████| 5/5 [00:02<00:00,  1.95it/s]\n"
          ]
        },
        {
          "output_type": "stream",
          "name": "stdout",
          "text": [
            "Total detections: 84239\n",
            "Loading and preparing results...\n",
            "DONE (t=0.78s)\n",
            "creating index...\n",
            "index created!\n",
            "Running per image evaluation...\n",
            "Evaluate annotation type *bbox*\n",
            "DONE (t=1.19s).\n",
            "Accumulating evaluation results...\n",
            "DONE (t=0.15s).\n",
            " Average Precision  (AP) @[ IoU=0.50:0.95 | area=   all | maxDets=100 ] = 0.000\n",
            " Average Precision  (AP) @[ IoU=0.50      | area=   all | maxDets=100 ] = 0.000\n",
            " Average Precision  (AP) @[ IoU=0.75      | area=   all | maxDets=100 ] = 0.000\n",
            " Average Precision  (AP) @[ IoU=0.50:0.95 | area= small | maxDets=100 ] = 0.005\n",
            " Average Precision  (AP) @[ IoU=0.50:0.95 | area=medium | maxDets=100 ] = 0.000\n",
            " Average Precision  (AP) @[ IoU=0.50:0.95 | area= large | maxDets=100 ] = 0.000\n",
            " Average Recall     (AR) @[ IoU=0.50:0.95 | area=   all | maxDets=  1 ] = 0.000\n",
            " Average Recall     (AR) @[ IoU=0.50:0.95 | area=   all | maxDets= 10 ] = 0.000\n",
            " Average Recall     (AR) @[ IoU=0.50:0.95 | area=   all | maxDets=100 ] = 0.009\n",
            " Average Recall     (AR) @[ IoU=0.50:0.95 | area= small | maxDets=100 ] = 0.007\n",
            " Average Recall     (AR) @[ IoU=0.50:0.95 | area=medium | maxDets=100 ] = 0.016\n",
            " Average Recall     (AR) @[ IoU=0.50:0.95 | area= large | maxDets=100 ] = 0.000\n"
          ]
        },
        {
          "output_type": "stream",
          "name": "stderr",
          "text": [
            "Stage 2 Epoch 10 [Val]:  60%|██████    | 3/5 [00:20<00:13,  6.82s/it]\n",
            "Evaluating:   0%|          | 0/5 [00:00<?, ?it/s]\u001b[A\n",
            "Evaluating:  20%|██        | 1/5 [00:00<00:01,  2.81it/s]\u001b[A\n",
            "Evaluating:  40%|████      | 2/5 [00:00<00:01,  2.85it/s]\u001b[A\n",
            "Evaluating:  60%|██████    | 3/5 [00:01<00:00,  2.86it/s]\u001b[A\n",
            "Evaluating:  80%|████████  | 4/5 [00:01<00:00,  2.61it/s]\u001b[A\n",
            "Evaluating: 100%|██████████| 5/5 [00:02<00:00,  2.49it/s]\n"
          ]
        },
        {
          "output_type": "stream",
          "name": "stdout",
          "text": [
            "Total detections: 84239\n",
            "Loading and preparing results...\n",
            "DONE (t=0.78s)\n",
            "creating index...\n",
            "index created!\n",
            "Running per image evaluation...\n",
            "Evaluate annotation type *bbox*\n",
            "DONE (t=1.19s).\n",
            "Accumulating evaluation results...\n",
            "DONE (t=0.15s).\n",
            " Average Precision  (AP) @[ IoU=0.50:0.95 | area=   all | maxDets=100 ] = 0.000\n",
            " Average Precision  (AP) @[ IoU=0.50      | area=   all | maxDets=100 ] = 0.000\n",
            " Average Precision  (AP) @[ IoU=0.75      | area=   all | maxDets=100 ] = 0.000\n",
            " Average Precision  (AP) @[ IoU=0.50:0.95 | area= small | maxDets=100 ] = 0.005\n",
            " Average Precision  (AP) @[ IoU=0.50:0.95 | area=medium | maxDets=100 ] = 0.000\n",
            " Average Precision  (AP) @[ IoU=0.50:0.95 | area= large | maxDets=100 ] = 0.000\n",
            " Average Recall     (AR) @[ IoU=0.50:0.95 | area=   all | maxDets=  1 ] = 0.000\n",
            " Average Recall     (AR) @[ IoU=0.50:0.95 | area=   all | maxDets= 10 ] = 0.000\n",
            " Average Recall     (AR) @[ IoU=0.50:0.95 | area=   all | maxDets=100 ] = 0.009\n",
            " Average Recall     (AR) @[ IoU=0.50:0.95 | area= small | maxDets=100 ] = 0.007\n",
            " Average Recall     (AR) @[ IoU=0.50:0.95 | area=medium | maxDets=100 ] = 0.016\n",
            " Average Recall     (AR) @[ IoU=0.50:0.95 | area= large | maxDets=100 ] = 0.000\n"
          ]
        },
        {
          "output_type": "stream",
          "name": "stderr",
          "text": [
            "Stage 2 Epoch 10 [Val]:  80%|████████  | 4/5 [00:26<00:06,  6.49s/it]\n",
            "Evaluating:   0%|          | 0/5 [00:00<?, ?it/s]\u001b[A\n",
            "Evaluating:  20%|██        | 1/5 [00:00<00:01,  2.08it/s]\u001b[A\n",
            "Evaluating:  40%|████      | 2/5 [00:00<00:01,  2.16it/s]\u001b[A\n",
            "Evaluating:  60%|██████    | 3/5 [00:01<00:00,  2.23it/s]\u001b[A\n",
            "Evaluating:  80%|████████  | 4/5 [00:01<00:00,  2.20it/s]\u001b[A\n",
            "Evaluating: 100%|██████████| 5/5 [00:02<00:00,  2.21it/s]\n"
          ]
        },
        {
          "output_type": "stream",
          "name": "stdout",
          "text": [
            "Total detections: 84239\n",
            "Loading and preparing results...\n",
            "DONE (t=0.79s)\n",
            "creating index...\n",
            "index created!\n",
            "Running per image evaluation...\n",
            "Evaluate annotation type *bbox*\n",
            "DONE (t=1.49s).\n",
            "Accumulating evaluation results...\n",
            "DONE (t=0.17s).\n",
            " Average Precision  (AP) @[ IoU=0.50:0.95 | area=   all | maxDets=100 ] = 0.000\n",
            " Average Precision  (AP) @[ IoU=0.50      | area=   all | maxDets=100 ] = 0.000\n",
            " Average Precision  (AP) @[ IoU=0.75      | area=   all | maxDets=100 ] = 0.000\n",
            " Average Precision  (AP) @[ IoU=0.50:0.95 | area= small | maxDets=100 ] = 0.005\n",
            " Average Precision  (AP) @[ IoU=0.50:0.95 | area=medium | maxDets=100 ] = 0.000\n",
            " Average Precision  (AP) @[ IoU=0.50:0.95 | area= large | maxDets=100 ] = 0.000\n",
            " Average Recall     (AR) @[ IoU=0.50:0.95 | area=   all | maxDets=  1 ] = 0.000\n",
            " Average Recall     (AR) @[ IoU=0.50:0.95 | area=   all | maxDets= 10 ] = 0.000\n",
            " Average Recall     (AR) @[ IoU=0.50:0.95 | area=   all | maxDets=100 ] = 0.009\n",
            " Average Recall     (AR) @[ IoU=0.50:0.95 | area= small | maxDets=100 ] = 0.007\n",
            " Average Recall     (AR) @[ IoU=0.50:0.95 | area=medium | maxDets=100 ] = 0.016\n",
            " Average Recall     (AR) @[ IoU=0.50:0.95 | area= large | maxDets=100 ] = 0.000\n"
          ]
        },
        {
          "output_type": "stream",
          "name": "stderr",
          "text": [
            "Stage 2 Epoch 10 [Val]: 100%|██████████| 5/5 [00:33<00:00,  6.67s/it]\n"
          ]
        },
        {
          "output_type": "stream",
          "name": "stdout",
          "text": [
            "[Stage 2 Epoch 10] Train Loss: 0.7193, Val Loss: 0.5410, mAP: 0.000089, Train Time: 00:00:09, Val Time: 00:00:33\n",
            "Stage 2 Total Training Time: 00:01:41, Total Validation Time: 00:04:41\n",
            "Stage 3: Class\n"
          ]
        },
        {
          "output_type": "stream",
          "name": "stderr",
          "text": [
            "Stage 3 Epoch 1 [Train]: 100%|██████████| 20/20 [00:05<00:00,  3.60it/s]\n",
            "Stage 3 Epoch 1 [Val]: 100%|██████████| 5/5 [00:01<00:00,  3.24it/s]\n"
          ]
        },
        {
          "output_type": "stream",
          "name": "stdout",
          "text": [
            "[Stage 3 Epoch 1] Train Loss: 2.1769, Val Loss: 2.4562, Top-1 Acc: 0.283333, Train Time: 00:00:05, Val Time: 00:00:01\n"
          ]
        },
        {
          "output_type": "stream",
          "name": "stderr",
          "text": [
            "Stage 3 Epoch 2 [Train]: 100%|██████████| 20/20 [00:05<00:00,  3.76it/s]\n",
            "Stage 3 Epoch 2 [Val]: 100%|██████████| 5/5 [00:01<00:00,  4.07it/s]\n"
          ]
        },
        {
          "output_type": "stream",
          "name": "stdout",
          "text": [
            "[Stage 3 Epoch 2] Train Loss: 1.6743, Val Loss: 2.2622, Top-1 Acc: 0.350000, Train Time: 00:00:05, Val Time: 00:00:01\n"
          ]
        },
        {
          "output_type": "stream",
          "name": "stderr",
          "text": [
            "Stage 3 Epoch 3 [Train]: 100%|██████████| 20/20 [00:05<00:00,  3.50it/s]\n",
            "Stage 3 Epoch 3 [Val]: 100%|██████████| 5/5 [00:01<00:00,  3.50it/s]\n"
          ]
        },
        {
          "output_type": "stream",
          "name": "stdout",
          "text": [
            "[Stage 3 Epoch 3] Train Loss: 1.4251, Val Loss: 2.0717, Top-1 Acc: 0.400000, Train Time: 00:00:05, Val Time: 00:00:01\n"
          ]
        },
        {
          "output_type": "stream",
          "name": "stderr",
          "text": [
            "Stage 3 Epoch 4 [Train]: 100%|██████████| 20/20 [00:05<00:00,  3.76it/s]\n",
            "Stage 3 Epoch 4 [Val]: 100%|██████████| 5/5 [00:01<00:00,  4.10it/s]\n"
          ]
        },
        {
          "output_type": "stream",
          "name": "stdout",
          "text": [
            "[Stage 3 Epoch 4] Train Loss: 1.3307, Val Loss: 2.1789, Top-1 Acc: 0.416667, Train Time: 00:00:05, Val Time: 00:00:01\n"
          ]
        },
        {
          "output_type": "stream",
          "name": "stderr",
          "text": [
            "Stage 3 Epoch 5 [Train]: 100%|██████████| 20/20 [00:05<00:00,  3.48it/s]\n",
            "Stage 3 Epoch 5 [Val]: 100%|██████████| 5/5 [00:01<00:00,  3.75it/s]\n"
          ]
        },
        {
          "output_type": "stream",
          "name": "stdout",
          "text": [
            "[Stage 3 Epoch 5] Train Loss: 1.2140, Val Loss: 2.5099, Top-1 Acc: 0.283333, Train Time: 00:00:05, Val Time: 00:00:01\n"
          ]
        },
        {
          "output_type": "stream",
          "name": "stderr",
          "text": [
            "Stage 3 Epoch 6 [Train]: 100%|██████████| 20/20 [00:05<00:00,  3.81it/s]\n",
            "Stage 3 Epoch 6 [Val]: 100%|██████████| 5/5 [00:01<00:00,  4.16it/s]\n"
          ]
        },
        {
          "output_type": "stream",
          "name": "stdout",
          "text": [
            "[Stage 3 Epoch 6] Train Loss: 1.1814, Val Loss: 2.1479, Top-1 Acc: 0.383333, Train Time: 00:00:05, Val Time: 00:00:01\n"
          ]
        },
        {
          "output_type": "stream",
          "name": "stderr",
          "text": [
            "Stage 3 Epoch 7 [Train]: 100%|██████████| 20/20 [00:05<00:00,  3.37it/s]\n",
            "Stage 3 Epoch 7 [Val]: 100%|██████████| 5/5 [00:01<00:00,  4.26it/s]\n"
          ]
        },
        {
          "output_type": "stream",
          "name": "stdout",
          "text": [
            "[Stage 3 Epoch 7] Train Loss: 1.1864, Val Loss: 2.5463, Top-1 Acc: 0.400000, Train Time: 00:00:05, Val Time: 00:00:01\n"
          ]
        },
        {
          "output_type": "stream",
          "name": "stderr",
          "text": [
            "Stage 3 Epoch 8 [Train]: 100%|██████████| 20/20 [00:05<00:00,  3.79it/s]\n",
            "Stage 3 Epoch 8 [Val]: 100%|██████████| 5/5 [00:01<00:00,  4.12it/s]\n"
          ]
        },
        {
          "output_type": "stream",
          "name": "stdout",
          "text": [
            "[Stage 3 Epoch 8] Train Loss: 1.1410, Val Loss: 2.7255, Top-1 Acc: 0.283333, Train Time: 00:00:05, Val Time: 00:00:01\n"
          ]
        },
        {
          "output_type": "stream",
          "name": "stderr",
          "text": [
            "Stage 3 Epoch 9 [Train]: 100%|██████████| 20/20 [00:05<00:00,  3.41it/s]\n",
            "Stage 3 Epoch 9 [Val]: 100%|██████████| 5/5 [00:01<00:00,  4.12it/s]\n"
          ]
        },
        {
          "output_type": "stream",
          "name": "stdout",
          "text": [
            "[Stage 3 Epoch 9] Train Loss: 1.0146, Val Loss: 2.4481, Top-1 Acc: 0.383333, Train Time: 00:00:05, Val Time: 00:00:01\n"
          ]
        },
        {
          "output_type": "stream",
          "name": "stderr",
          "text": [
            "Stage 3 Epoch 10 [Train]: 100%|██████████| 20/20 [00:05<00:00,  3.80it/s]\n",
            "Stage 3 Epoch 10 [Val]: 100%|██████████| 5/5 [00:01<00:00,  4.21it/s]\n"
          ]
        },
        {
          "output_type": "stream",
          "name": "stdout",
          "text": [
            "[Stage 3 Epoch 10] Train Loss: 1.0186, Val Loss: 3.0156, Top-1 Acc: 0.366667, Train Time: 00:00:05, Val Time: 00:00:01\n",
            "Stage 3 Total Training Time: 00:00:55, Total Validation Time: 00:00:12\n"
          ]
        },
        {
          "output_type": "stream",
          "name": "stderr",
          "text": [
            "Evaluating: 100%|██████████| 5/5 [00:01<00:00,  3.06it/s]\n"
          ]
        },
        {
          "output_type": "stream",
          "name": "stdout",
          "text": [
            "Total detections: 7829\n",
            "Loading and preparing results...\n",
            "DONE (t=0.05s)\n",
            "creating index...\n",
            "index created!\n",
            "Running per image evaluation...\n",
            "Evaluate annotation type *bbox*\n",
            "DONE (t=0.65s).\n",
            "Accumulating evaluation results...\n",
            "DONE (t=0.12s).\n",
            " Average Precision  (AP) @[ IoU=0.50:0.95 | area=   all | maxDets=100 ] = 0.000\n",
            " Average Precision  (AP) @[ IoU=0.50      | area=   all | maxDets=100 ] = 0.000\n",
            " Average Precision  (AP) @[ IoU=0.75      | area=   all | maxDets=100 ] = 0.000\n",
            " Average Precision  (AP) @[ IoU=0.50:0.95 | area= small | maxDets=100 ] = 0.000\n",
            " Average Precision  (AP) @[ IoU=0.50:0.95 | area=medium | maxDets=100 ] = 0.000\n",
            " Average Precision  (AP) @[ IoU=0.50:0.95 | area= large | maxDets=100 ] = 0.000\n",
            " Average Recall     (AR) @[ IoU=0.50:0.95 | area=   all | maxDets=  1 ] = 0.000\n",
            " Average Recall     (AR) @[ IoU=0.50:0.95 | area=   all | maxDets= 10 ] = 0.000\n",
            " Average Recall     (AR) @[ IoU=0.50:0.95 | area=   all | maxDets=100 ] = 0.001\n",
            " Average Recall     (AR) @[ IoU=0.50:0.95 | area= small | maxDets=100 ] = 0.001\n",
            " Average Recall     (AR) @[ IoU=0.50:0.95 | area=medium | maxDets=100 ] = 0.000\n",
            " Average Recall     (AR) @[ IoU=0.50:0.95 | area= large | maxDets=100 ] = 0.000\n",
            "\n",
            "Final Evaluation:\n",
            "Segmentation mIoU: 0.134066 (Baseline: 0.117914, Drop: -1.6153%)\n",
            "Detection mAP: 0.000004 (Baseline: 0.000003, Drop: -0.0001%)\n",
            "Classification Top-1 Acc: 0.366667 (Baseline: 0.350000, Drop: -1.6667%)\n",
            "Segmentation mIoU drop -1.6153% <= 5%\n",
            "Detection mAP drop -0.0001% <= 5%\n",
            "Classification Top-1 Acc drop -1.6667% <= 5%\n",
            "All performance drops are within 5% of baselines.\n",
            "MultiTask Model Parameters: 1,011,019 (Million: 1.01M)\n",
            "\n",
            "Training and Evaluation Time Summary:\n",
            "Segmentation Baseline - Total Train Time: 00:10:35, Total Val Time: 00:02:29\n",
            "Detection Baseline - Total Train Time: 00:01:37, Total Val Time: 00:04:37\n",
            "Classification Baseline - Total Train Time: 00:00:53, Total Val Time: 00:00:13\n",
            "EWC Stage 1 (Seg) - Total Train Time: 00:10:35, Total Val Time: 00:02:28\n",
            "EWC Stage 2 (Det) - Total Train Time: 00:01:41, Total Val Time: 00:04:41\n",
            "EWC Stage 3 (Cls) - Total Train Time: 00:00:55, Total Val Time: 00:00:12\n",
            "Evaluation Times - Seg: 00:00:14, Det: 00:00:02, Cls: 00:00:01, Total: 00:00:18\n"
          ]
        }
      ]
    }
  ]
}